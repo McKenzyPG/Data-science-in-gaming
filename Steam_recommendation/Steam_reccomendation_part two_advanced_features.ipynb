{
 "cells": [
  {
   "cell_type": "markdown",
   "metadata": {},
   "source": [
    "# Opening\n",
    "The goal of this pet project is to experiment with building recommendation engines for video games purchases.\n",
    "The data used are 2 Steam dataset, one of which contains data on users, what games they bought and how many hours they palyed.\\\n",
    "The other contains info on the games, like generes, tags, publishers etc.\n",
    "\n",
    "The project will is diveded into 3 parts:\\\n",
    "Part 1 is basic yet comprehensive analysis focusing on understanding both datasets, building classification models (which are proto-rec_engines) and playing with basic feature generation.\\\n",
    "In **Part 2** we will try to tackle the imbalanced classes problems and generate more features from text values\\\n",
    "In Part 3 we will use collaborative filtering to build our recoomender engine"
   ]
  },
  {
   "cell_type": "markdown",
   "metadata": {},
   "source": [
    "Let's import some libs"
   ]
  },
  {
   "cell_type": "code",
   "execution_count": 1,
   "metadata": {},
   "outputs": [],
   "source": [
    "import io\n",
    "import os\n",
    "import math\n",
    "import copy\n",
    "import pickle\n",
    "import zipfile\n",
    "from textwrap import wrap\n",
    "from pathlib import Path\n",
    "from itertools import zip_longest\n",
    "from collections import defaultdict\n",
    "from urllib.error import URLError\n",
    "from urllib.request import urlopen\n",
    "import numpy as np\n",
    "import pandas as pd\n",
    "import matplotlib.pyplot as plt\n",
    "import seaborn as sns\n",
    "import re\n",
    "import colorlover as cl\n",
    "from sklearn import preprocessing\n",
    "from sklearn.feature_selection import SelectKBest, f_classif, mutual_info_classif, chi2\n",
    "from sklearn.model_selection import train_test_split\n",
    "from sklearn.pipeline import Pipeline\n",
    "from sklearn.neighbors import KNeighborsClassifier\n",
    "from sklearn.tree import DecisionTreeClassifier\n",
    "from sklearn.naive_bayes import GaussianNB\n",
    "from sklearn.preprocessing import PowerTransformer\n",
    "from sklearn.model_selection import cross_val_score\n",
    "from scipy import stats\n",
    "from sklearn import metrics\n",
    "import torch\n",
    "import torch.nn as nn\n",
    "import torch.optim as optim\n",
    "from torch.utils.data import Dataset, DataLoader, WeightedRandomSampler\n",
    "from sklearn.preprocessing import MinMaxScaler    \n",
    "from torch.nn import functional as F \n",
    "from torch.optim.lr_scheduler import _LRScheduler"
   ]
  },
  {
   "cell_type": "code",
   "execution_count": 2,
   "metadata": {},
   "outputs": [],
   "source": [
    "import scipy.stats as ss\n",
    "from catboost import CatBoostClassifier, Pool\n",
    "import catboost as cb\n",
    "import sys"
   ]
  },
  {
   "cell_type": "code",
   "execution_count": 3,
   "metadata": {},
   "outputs": [],
   "source": [
    "from sklearn.metrics import confusion_matrix"
   ]
  },
  {
   "cell_type": "code",
   "execution_count": 4,
   "metadata": {},
   "outputs": [],
   "source": [
    "RANDOM_SEED = 42"
   ]
  },
  {
   "cell_type": "markdown",
   "metadata": {},
   "source": [
    "Next steps basically repeat what we did in **Part 1**, with minor changes"
   ]
  },
  {
   "cell_type": "code",
   "execution_count": 5,
   "metadata": {},
   "outputs": [
    {
     "data": {
      "text/html": [
       "<div>\n",
       "<style scoped>\n",
       "    .dataframe tbody tr th:only-of-type {\n",
       "        vertical-align: middle;\n",
       "    }\n",
       "\n",
       "    .dataframe tbody tr th {\n",
       "        vertical-align: top;\n",
       "    }\n",
       "\n",
       "    .dataframe thead th {\n",
       "        text-align: right;\n",
       "    }\n",
       "</style>\n",
       "<table border=\"1\" class=\"dataframe\">\n",
       "  <thead>\n",
       "    <tr style=\"text-align: right;\">\n",
       "      <th></th>\n",
       "      <th>url</th>\n",
       "      <th>types</th>\n",
       "      <th>name</th>\n",
       "      <th>desc_snippet</th>\n",
       "      <th>recent_reviews</th>\n",
       "      <th>all_reviews</th>\n",
       "      <th>release_date</th>\n",
       "      <th>developer</th>\n",
       "      <th>publisher</th>\n",
       "      <th>popular_tags</th>\n",
       "      <th>game_details</th>\n",
       "      <th>languages</th>\n",
       "      <th>achievements</th>\n",
       "      <th>genre</th>\n",
       "      <th>game_description</th>\n",
       "      <th>mature_content</th>\n",
       "      <th>minimum_requirements</th>\n",
       "      <th>recommended_requirements</th>\n",
       "      <th>original_price</th>\n",
       "      <th>discount_price</th>\n",
       "    </tr>\n",
       "  </thead>\n",
       "  <tbody>\n",
       "    <tr>\n",
       "      <th>0</th>\n",
       "      <td>https://store.steampowered.com/app/379720/DOOM/</td>\n",
       "      <td>app</td>\n",
       "      <td>DOOM</td>\n",
       "      <td>Now includes all three premium DLC packs (Unto...</td>\n",
       "      <td>Very Positive,(554),- 89% of the 554 user revi...</td>\n",
       "      <td>Very Positive,(42,550),- 92% of the 42,550 use...</td>\n",
       "      <td>May 12, 2016</td>\n",
       "      <td>id Software</td>\n",
       "      <td>Bethesda Softworks,Bethesda Softworks</td>\n",
       "      <td>FPS,Gore,Action,Demons,Shooter,First-Person,Gr...</td>\n",
       "      <td>Single-player,Multi-player,Co-op,Steam Achieve...</td>\n",
       "      <td>English,French,Italian,German,Spanish - Spain,...</td>\n",
       "      <td>54.0</td>\n",
       "      <td>Action</td>\n",
       "      <td>About This Game Developed by id software, the...</td>\n",
       "      <td>NaN</td>\n",
       "      <td>Minimum:,OS:,Windows 7/8.1/10 (64-bit versions...</td>\n",
       "      <td>Recommended:,OS:,Windows 7/8.1/10 (64-bit vers...</td>\n",
       "      <td>$19.99</td>\n",
       "      <td>$14.99</td>\n",
       "    </tr>\n",
       "    <tr>\n",
       "      <th>1</th>\n",
       "      <td>https://store.steampowered.com/app/578080/PLAY...</td>\n",
       "      <td>app</td>\n",
       "      <td>PLAYERUNKNOWN'S BATTLEGROUNDS</td>\n",
       "      <td>PLAYERUNKNOWN'S BATTLEGROUNDS is a battle roya...</td>\n",
       "      <td>Mixed,(6,214),- 49% of the 6,214 user reviews ...</td>\n",
       "      <td>Mixed,(836,608),- 49% of the 836,608 user revi...</td>\n",
       "      <td>Dec 21, 2017</td>\n",
       "      <td>PUBG Corporation</td>\n",
       "      <td>PUBG Corporation,PUBG Corporation</td>\n",
       "      <td>Survival,Shooter,Multiplayer,Battle Royale,PvP...</td>\n",
       "      <td>Multi-player,Online Multi-Player,Stats</td>\n",
       "      <td>English,Korean,Simplified Chinese,French,Germa...</td>\n",
       "      <td>37.0</td>\n",
       "      <td>Action,Adventure,Massively Multiplayer</td>\n",
       "      <td>About This Game  PLAYERUNKNOWN'S BATTLEGROUND...</td>\n",
       "      <td>Mature Content Description  The developers de...</td>\n",
       "      <td>Minimum:,Requires a 64-bit processor and opera...</td>\n",
       "      <td>Recommended:,Requires a 64-bit processor and o...</td>\n",
       "      <td>$29.99</td>\n",
       "      <td>NaN</td>\n",
       "    </tr>\n",
       "    <tr>\n",
       "      <th>2</th>\n",
       "      <td>https://store.steampowered.com/app/637090/BATT...</td>\n",
       "      <td>app</td>\n",
       "      <td>BATTLETECH</td>\n",
       "      <td>Take command of your own mercenary outfit of '...</td>\n",
       "      <td>Mixed,(166),- 54% of the 166 user reviews in t...</td>\n",
       "      <td>Mostly Positive,(7,030),- 71% of the 7,030 use...</td>\n",
       "      <td>Apr 24, 2018</td>\n",
       "      <td>Harebrained Schemes</td>\n",
       "      <td>Paradox Interactive,Paradox Interactive</td>\n",
       "      <td>Mechs,Strategy,Turn-Based,Turn-Based Tactics,S...</td>\n",
       "      <td>Single-player,Multi-player,Online Multi-Player...</td>\n",
       "      <td>English,French,German,Russian</td>\n",
       "      <td>128.0</td>\n",
       "      <td>Action,Adventure,Strategy</td>\n",
       "      <td>About This Game  From original BATTLETECH/Mec...</td>\n",
       "      <td>NaN</td>\n",
       "      <td>Minimum:,Requires a 64-bit processor and opera...</td>\n",
       "      <td>Recommended:,Requires a 64-bit processor and o...</td>\n",
       "      <td>$39.99</td>\n",
       "      <td>NaN</td>\n",
       "    </tr>\n",
       "    <tr>\n",
       "      <th>3</th>\n",
       "      <td>https://store.steampowered.com/app/221100/DayZ/</td>\n",
       "      <td>app</td>\n",
       "      <td>DayZ</td>\n",
       "      <td>The post-soviet country of Chernarus is struck...</td>\n",
       "      <td>Mixed,(932),- 57% of the 932 user reviews in t...</td>\n",
       "      <td>Mixed,(167,115),- 61% of the 167,115 user revi...</td>\n",
       "      <td>Dec 13, 2018</td>\n",
       "      <td>Bohemia Interactive</td>\n",
       "      <td>Bohemia Interactive,Bohemia Interactive</td>\n",
       "      <td>Survival,Zombies,Open World,Multiplayer,PvP,Ma...</td>\n",
       "      <td>Multi-player,Online Multi-Player,Steam Worksho...</td>\n",
       "      <td>English,French,Italian,German,Spanish - Spain,...</td>\n",
       "      <td>NaN</td>\n",
       "      <td>Action,Adventure,Massively Multiplayer</td>\n",
       "      <td>About This Game The post-soviet country of Ch...</td>\n",
       "      <td>NaN</td>\n",
       "      <td>Minimum:,OS:,Windows 7/8.1 64-bit,Processor:,I...</td>\n",
       "      <td>Recommended:,OS:,Windows 10 64-bit,Processor:,...</td>\n",
       "      <td>$44.99</td>\n",
       "      <td>NaN</td>\n",
       "    </tr>\n",
       "    <tr>\n",
       "      <th>4</th>\n",
       "      <td>https://store.steampowered.com/app/8500/EVE_On...</td>\n",
       "      <td>app</td>\n",
       "      <td>EVE Online</td>\n",
       "      <td>EVE Online is a community-driven spaceship MMO...</td>\n",
       "      <td>Mixed,(287),- 54% of the 287 user reviews in t...</td>\n",
       "      <td>Mostly Positive,(11,481),- 74% of the 11,481 u...</td>\n",
       "      <td>May 6, 2003</td>\n",
       "      <td>CCP</td>\n",
       "      <td>CCP,CCP</td>\n",
       "      <td>Space,Massively Multiplayer,Sci-fi,Sandbox,MMO...</td>\n",
       "      <td>Multi-player,Online Multi-Player,MMO,Co-op,Onl...</td>\n",
       "      <td>English,German,Russian,French</td>\n",
       "      <td>NaN</td>\n",
       "      <td>Action,Free to Play,Massively Multiplayer,RPG,...</td>\n",
       "      <td>About This Game</td>\n",
       "      <td>NaN</td>\n",
       "      <td>Minimum:,OS:,Windows 7,Processor:,Intel Dual C...</td>\n",
       "      <td>Recommended:,OS:,Windows 10,Processor:,Intel i...</td>\n",
       "      <td>Free</td>\n",
       "      <td>NaN</td>\n",
       "    </tr>\n",
       "  </tbody>\n",
       "</table>\n",
       "</div>"
      ],
      "text/plain": [
       "                                                 url types  \\\n",
       "0    https://store.steampowered.com/app/379720/DOOM/   app   \n",
       "1  https://store.steampowered.com/app/578080/PLAY...   app   \n",
       "2  https://store.steampowered.com/app/637090/BATT...   app   \n",
       "3    https://store.steampowered.com/app/221100/DayZ/   app   \n",
       "4  https://store.steampowered.com/app/8500/EVE_On...   app   \n",
       "\n",
       "                            name  \\\n",
       "0                           DOOM   \n",
       "1  PLAYERUNKNOWN'S BATTLEGROUNDS   \n",
       "2                     BATTLETECH   \n",
       "3                           DayZ   \n",
       "4                     EVE Online   \n",
       "\n",
       "                                        desc_snippet  \\\n",
       "0  Now includes all three premium DLC packs (Unto...   \n",
       "1  PLAYERUNKNOWN'S BATTLEGROUNDS is a battle roya...   \n",
       "2  Take command of your own mercenary outfit of '...   \n",
       "3  The post-soviet country of Chernarus is struck...   \n",
       "4  EVE Online is a community-driven spaceship MMO...   \n",
       "\n",
       "                                      recent_reviews  \\\n",
       "0  Very Positive,(554),- 89% of the 554 user revi...   \n",
       "1  Mixed,(6,214),- 49% of the 6,214 user reviews ...   \n",
       "2  Mixed,(166),- 54% of the 166 user reviews in t...   \n",
       "3  Mixed,(932),- 57% of the 932 user reviews in t...   \n",
       "4  Mixed,(287),- 54% of the 287 user reviews in t...   \n",
       "\n",
       "                                         all_reviews  release_date  \\\n",
       "0  Very Positive,(42,550),- 92% of the 42,550 use...  May 12, 2016   \n",
       "1  Mixed,(836,608),- 49% of the 836,608 user revi...  Dec 21, 2017   \n",
       "2  Mostly Positive,(7,030),- 71% of the 7,030 use...  Apr 24, 2018   \n",
       "3  Mixed,(167,115),- 61% of the 167,115 user revi...  Dec 13, 2018   \n",
       "4  Mostly Positive,(11,481),- 74% of the 11,481 u...   May 6, 2003   \n",
       "\n",
       "             developer                                publisher  \\\n",
       "0          id Software    Bethesda Softworks,Bethesda Softworks   \n",
       "1     PUBG Corporation        PUBG Corporation,PUBG Corporation   \n",
       "2  Harebrained Schemes  Paradox Interactive,Paradox Interactive   \n",
       "3  Bohemia Interactive  Bohemia Interactive,Bohemia Interactive   \n",
       "4                  CCP                                  CCP,CCP   \n",
       "\n",
       "                                        popular_tags  \\\n",
       "0  FPS,Gore,Action,Demons,Shooter,First-Person,Gr...   \n",
       "1  Survival,Shooter,Multiplayer,Battle Royale,PvP...   \n",
       "2  Mechs,Strategy,Turn-Based,Turn-Based Tactics,S...   \n",
       "3  Survival,Zombies,Open World,Multiplayer,PvP,Ma...   \n",
       "4  Space,Massively Multiplayer,Sci-fi,Sandbox,MMO...   \n",
       "\n",
       "                                        game_details  \\\n",
       "0  Single-player,Multi-player,Co-op,Steam Achieve...   \n",
       "1             Multi-player,Online Multi-Player,Stats   \n",
       "2  Single-player,Multi-player,Online Multi-Player...   \n",
       "3  Multi-player,Online Multi-Player,Steam Worksho...   \n",
       "4  Multi-player,Online Multi-Player,MMO,Co-op,Onl...   \n",
       "\n",
       "                                           languages  achievements  \\\n",
       "0  English,French,Italian,German,Spanish - Spain,...          54.0   \n",
       "1  English,Korean,Simplified Chinese,French,Germa...          37.0   \n",
       "2                      English,French,German,Russian         128.0   \n",
       "3  English,French,Italian,German,Spanish - Spain,...           NaN   \n",
       "4                      English,German,Russian,French           NaN   \n",
       "\n",
       "                                               genre  \\\n",
       "0                                             Action   \n",
       "1             Action,Adventure,Massively Multiplayer   \n",
       "2                          Action,Adventure,Strategy   \n",
       "3             Action,Adventure,Massively Multiplayer   \n",
       "4  Action,Free to Play,Massively Multiplayer,RPG,...   \n",
       "\n",
       "                                    game_description  \\\n",
       "0   About This Game Developed by id software, the...   \n",
       "1   About This Game  PLAYERUNKNOWN'S BATTLEGROUND...   \n",
       "2   About This Game  From original BATTLETECH/Mec...   \n",
       "3   About This Game The post-soviet country of Ch...   \n",
       "4                                  About This Game     \n",
       "\n",
       "                                      mature_content  \\\n",
       "0                                                NaN   \n",
       "1   Mature Content Description  The developers de...   \n",
       "2                                                NaN   \n",
       "3                                                NaN   \n",
       "4                                                NaN   \n",
       "\n",
       "                                minimum_requirements  \\\n",
       "0  Minimum:,OS:,Windows 7/8.1/10 (64-bit versions...   \n",
       "1  Minimum:,Requires a 64-bit processor and opera...   \n",
       "2  Minimum:,Requires a 64-bit processor and opera...   \n",
       "3  Minimum:,OS:,Windows 7/8.1 64-bit,Processor:,I...   \n",
       "4  Minimum:,OS:,Windows 7,Processor:,Intel Dual C...   \n",
       "\n",
       "                            recommended_requirements original_price  \\\n",
       "0  Recommended:,OS:,Windows 7/8.1/10 (64-bit vers...         $19.99   \n",
       "1  Recommended:,Requires a 64-bit processor and o...         $29.99   \n",
       "2  Recommended:,Requires a 64-bit processor and o...         $39.99   \n",
       "3  Recommended:,OS:,Windows 10 64-bit,Processor:,...         $44.99   \n",
       "4  Recommended:,OS:,Windows 10,Processor:,Intel i...           Free   \n",
       "\n",
       "  discount_price  \n",
       "0         $14.99  \n",
       "1            NaN  \n",
       "2            NaN  \n",
       "3            NaN  \n",
       "4            NaN  "
      ]
     },
     "execution_count": 5,
     "metadata": {},
     "output_type": "execute_result"
    }
   ],
   "source": [
    "all_games = pd.read_csv('steam_games.csv')\n",
    "all_games.head()"
   ]
  },
  {
   "cell_type": "code",
   "execution_count": 6,
   "metadata": {},
   "outputs": [],
   "source": [
    "all_games.drop(['url', 'minimum_requirements', 'recommended_requirements', 'languages', 'types'], axis = 1, inplace = True)"
   ]
  },
  {
   "cell_type": "code",
   "execution_count": 7,
   "metadata": {},
   "outputs": [],
   "source": [
    "all_games['recent_reviews'] = all_games['recent_reviews'].str.split(',', expand = True)\n",
    "all_games['all_reviews'] = all_games['all_reviews'].str.split(',', expand = True)\n",
    "all_games['publisher'] = all_games['publisher'].str.split(',', expand = True)"
   ]
  },
  {
   "cell_type": "code",
   "execution_count": 8,
   "metadata": {},
   "outputs": [],
   "source": [
    "all_games['achievements'] = all_games['achievements'].fillna(0)"
   ]
  },
  {
   "cell_type": "code",
   "execution_count": 9,
   "metadata": {},
   "outputs": [],
   "source": [
    "all_games['original_price'] = pd.to_numeric(all_games['original_price'].str.strip('$'), errors='coerce').fillna(0.0)"
   ]
  },
  {
   "cell_type": "code",
   "execution_count": 10,
   "metadata": {},
   "outputs": [],
   "source": [
    "all_games['discount_price'] = pd.to_numeric(all_games['discount_price'].str.strip('$'), errors='coerce').fillna(0.0)"
   ]
  },
  {
   "cell_type": "code",
   "execution_count": 11,
   "metadata": {},
   "outputs": [],
   "source": [
    "all_games = all_games.join(all_games['popular_tags'].str.split(',', expand=True).add_prefix('tag')).drop(['tag5','tag6', 'tag7', 'tag8',\n",
    "                                                                                             'tag9', 'tag10', 'tag11', 'tag12',\n",
    "                                                                                             'tag13', 'tag14', 'tag15', 'tag16',\n",
    "                                                                                             'tag17', \n",
    "                                                                                              'tag18', 'tag19'], axis =1).fillna(value='nan')"
   ]
  },
  {
   "cell_type": "code",
   "execution_count": 12,
   "metadata": {},
   "outputs": [],
   "source": [
    "all_games.drop(['popular_tags'], axis =1, inplace = True)"
   ]
  },
  {
   "cell_type": "code",
   "execution_count": 13,
   "metadata": {},
   "outputs": [],
   "source": [
    "all_games = all_games.join(all_games['game_details'].str.split(',', expand=True).add_prefix('detail')).drop(['detail5', 'detail6', 'detail7',\n",
    "                                                                                                'detail8','detail9', 'detail10', \n",
    "                                                                                                 'detail11', 'detail12', 'detail13',\n",
    "                                                                                                'detail14', 'detail15',\n",
    "                                                                                                'detail16', 'detail17', 'detail18',\n",
    "                                                                                                'detail19', 'detail20',\n",
    "                                                                                                'detail21'], axis = 1).fillna(value ='nan')"
   ]
  },
  {
   "cell_type": "code",
   "execution_count": 14,
   "metadata": {},
   "outputs": [],
   "source": [
    "all_games.drop(['game_details'], axis = 1, inplace = True)"
   ]
  },
  {
   "cell_type": "code",
   "execution_count": 15,
   "metadata": {},
   "outputs": [],
   "source": [
    "bins_price = [0, 1, 5, 10, 15, 30, 50, 100, 1001]\n",
    "labels_price =['Free','Under 5 USD','Under 10 USD','Under 15 USD', 'Under 30 USD', 'Under 50 USD', 'Under 100 USD', \"Under 1000 USD\"]\n",
    "all_games['binned_price'] = pd.cut(all_games['original_price'], bins_price,labels=labels_price, include_lowest = True)"
   ]
  },
  {
   "cell_type": "code",
   "execution_count": 16,
   "metadata": {},
   "outputs": [],
   "source": [
    "all_games['discount'] = 100 - (all_games['discount_price'] / all_games['original_price']*100).fillna(0)"
   ]
  },
  {
   "cell_type": "code",
   "execution_count": 17,
   "metadata": {},
   "outputs": [
    {
     "data": {
      "text/plain": [
       "0        25.012506\n",
       "1         0.000000\n",
       "2         0.000000\n",
       "3         0.000000\n",
       "4         0.000000\n",
       "           ...    \n",
       "40828     0.000000\n",
       "40829     0.000000\n",
       "40830     0.000000\n",
       "40831     0.000000\n",
       "40832    43.887776\n",
       "Name: discount, Length: 40833, dtype: float64"
      ]
     },
     "execution_count": 17,
     "metadata": {},
     "output_type": "execute_result"
    }
   ],
   "source": [
    "all_games['discount'].replace([100], [0])"
   ]
  },
  {
   "cell_type": "code",
   "execution_count": 18,
   "metadata": {},
   "outputs": [],
   "source": [
    "bins_discount = [0,1,25,50,75,101]\n",
    "labels_discount =['No discount', 'Up to 25%', \"Up to 50%\", 'Up to 75%', 'Up to 100%']\n",
    "all_games['binned_discount'] = pd.cut(all_games['discount_price'], bins_discount,labels=labels_discount, include_lowest = True)"
   ]
  },
  {
   "cell_type": "code",
   "execution_count": 19,
   "metadata": {},
   "outputs": [],
   "source": [
    "bins_achievements = [0,1,5,10,15,20,50,100,1000]\n",
    "labels_achievements = ['No achievemnts', 'Up to 5 achievements', 'Up to 10 achievements', 'Up to 15 achievemnts', \n",
    "                      'Up to 20 achievemnts', 'Up to 50 achivements', 'Up to 100 achivements', 'Up to 1000 achievemnets']"
   ]
  },
  {
   "cell_type": "code",
   "execution_count": 20,
   "metadata": {},
   "outputs": [],
   "source": [
    "all_games['binned_achievements'] = pd.cut(all_games['discount_price'], bins_achievements,labels=labels_achievements, include_lowest = True)"
   ]
  },
  {
   "cell_type": "code",
   "execution_count": 21,
   "metadata": {},
   "outputs": [],
   "source": [
    "reviews_to_keep = ['Mixed', 'Very Positive', 'Positive', 'Mostly Positive', \n",
    "                  'Mostly Negative', 'Overwhelmingly Positive', 'Negative', 'Very Negative',\n",
    "                  'Overwhelmingly Negative']"
   ]
  },
  {
   "cell_type": "code",
   "execution_count": 22,
   "metadata": {},
   "outputs": [],
   "source": [
    "all_games['all_reviews'] = all_games['all_reviews'][all_games.all_reviews.isin(reviews_to_keep)]"
   ]
  },
  {
   "cell_type": "code",
   "execution_count": 23,
   "metadata": {},
   "outputs": [],
   "source": [
    "all_games.dropna(subset = [\"all_reviews\"], inplace=True)"
   ]
  },
  {
   "cell_type": "code",
   "execution_count": 24,
   "metadata": {},
   "outputs": [],
   "source": [
    "all_games['all_reviews'] = all_games['all_reviews'].replace({'Mostly Positive':'Positive', 'Very Positive':'Positive', 'Positive':'Positive',\n",
    "                'Overwhelmingly Positive':'Positive', 'Negative ': 'Negative ', \n",
    "                'Mostly Negative':'Negative', 'Very Negative': \"Negative\", 'Overwhelmingly Negative' : 'Negative',\n",
    "                \"mixed\": \"mixed\"})"
   ]
  },
  {
   "cell_type": "code",
   "execution_count": 25,
   "metadata": {},
   "outputs": [],
   "source": [
    "all_games = all_games.join(all_games['genre'].str.split(',', expand=True).add_prefix('genre'))"
   ]
  },
  {
   "cell_type": "code",
   "execution_count": 26,
   "metadata": {},
   "outputs": [],
   "source": [
    "all_games.drop(['genre3', 'genre4', 'genre5', 'genre6', 'genre7', 'genre8', 'genre9', 'genre10','genre11', \n",
    "                'genre12'], axis = 1, inplace = True)"
   ]
  },
  {
   "cell_type": "code",
   "execution_count": 27,
   "metadata": {},
   "outputs": [],
   "source": [
    "all_games.drop(['genre'], axis = 1, inplace = True)"
   ]
  },
  {
   "cell_type": "code",
   "execution_count": 28,
   "metadata": {},
   "outputs": [],
   "source": [
    "all_games.drop(['achievements', 'discount', 'original_price'], axis = 1, inplace = True)"
   ]
  },
  {
   "cell_type": "code",
   "execution_count": 29,
   "metadata": {},
   "outputs": [],
   "source": [
    "all_games['release_date'] = pd.to_datetime(all_games['release_date'], errors = 'coerce')"
   ]
  },
  {
   "cell_type": "code",
   "execution_count": 30,
   "metadata": {},
   "outputs": [
    {
     "data": {
      "text/html": [
       "<div>\n",
       "<style scoped>\n",
       "    .dataframe tbody tr th:only-of-type {\n",
       "        vertical-align: middle;\n",
       "    }\n",
       "\n",
       "    .dataframe tbody tr th {\n",
       "        vertical-align: top;\n",
       "    }\n",
       "\n",
       "    .dataframe thead th {\n",
       "        text-align: right;\n",
       "    }\n",
       "</style>\n",
       "<table border=\"1\" class=\"dataframe\">\n",
       "  <thead>\n",
       "    <tr style=\"text-align: right;\">\n",
       "      <th></th>\n",
       "      <th>name</th>\n",
       "      <th>desc_snippet</th>\n",
       "      <th>recent_reviews</th>\n",
       "      <th>all_reviews</th>\n",
       "      <th>release_date</th>\n",
       "      <th>developer</th>\n",
       "      <th>publisher</th>\n",
       "      <th>game_description</th>\n",
       "      <th>mature_content</th>\n",
       "      <th>discount_price</th>\n",
       "      <th>...</th>\n",
       "      <th>detail1</th>\n",
       "      <th>detail2</th>\n",
       "      <th>detail3</th>\n",
       "      <th>detail4</th>\n",
       "      <th>binned_price</th>\n",
       "      <th>binned_discount</th>\n",
       "      <th>binned_achievements</th>\n",
       "      <th>genre0</th>\n",
       "      <th>genre1</th>\n",
       "      <th>genre2</th>\n",
       "    </tr>\n",
       "  </thead>\n",
       "  <tbody>\n",
       "    <tr>\n",
       "      <th>0</th>\n",
       "      <td>DOOM</td>\n",
       "      <td>Now includes all three premium DLC packs (Unto...</td>\n",
       "      <td>Very Positive</td>\n",
       "      <td>Positive</td>\n",
       "      <td>2016-05-12</td>\n",
       "      <td>id Software</td>\n",
       "      <td>Bethesda Softworks</td>\n",
       "      <td>About This Game Developed by id software, the...</td>\n",
       "      <td>nan</td>\n",
       "      <td>14.99</td>\n",
       "      <td>...</td>\n",
       "      <td>Multi-player</td>\n",
       "      <td>Co-op</td>\n",
       "      <td>Steam Achievements</td>\n",
       "      <td>Steam Trading Cards</td>\n",
       "      <td>Under 30 USD</td>\n",
       "      <td>Up to 25%</td>\n",
       "      <td>Up to 15 achievemnts</td>\n",
       "      <td>Action</td>\n",
       "      <td>None</td>\n",
       "      <td>None</td>\n",
       "    </tr>\n",
       "    <tr>\n",
       "      <th>1</th>\n",
       "      <td>PLAYERUNKNOWN'S BATTLEGROUNDS</td>\n",
       "      <td>PLAYERUNKNOWN'S BATTLEGROUNDS is a battle roya...</td>\n",
       "      <td>Mixed</td>\n",
       "      <td>Mixed</td>\n",
       "      <td>2017-12-21</td>\n",
       "      <td>PUBG Corporation</td>\n",
       "      <td>PUBG Corporation</td>\n",
       "      <td>About This Game  PLAYERUNKNOWN'S BATTLEGROUND...</td>\n",
       "      <td>Mature Content Description  The developers de...</td>\n",
       "      <td>0.00</td>\n",
       "      <td>...</td>\n",
       "      <td>Online Multi-Player</td>\n",
       "      <td>Stats</td>\n",
       "      <td>nan</td>\n",
       "      <td>nan</td>\n",
       "      <td>Under 30 USD</td>\n",
       "      <td>No discount</td>\n",
       "      <td>No achievemnts</td>\n",
       "      <td>Action</td>\n",
       "      <td>Adventure</td>\n",
       "      <td>Massively Multiplayer</td>\n",
       "    </tr>\n",
       "    <tr>\n",
       "      <th>2</th>\n",
       "      <td>BATTLETECH</td>\n",
       "      <td>Take command of your own mercenary outfit of '...</td>\n",
       "      <td>Mixed</td>\n",
       "      <td>Positive</td>\n",
       "      <td>2018-04-24</td>\n",
       "      <td>Harebrained Schemes</td>\n",
       "      <td>Paradox Interactive</td>\n",
       "      <td>About This Game  From original BATTLETECH/Mec...</td>\n",
       "      <td>nan</td>\n",
       "      <td>0.00</td>\n",
       "      <td>...</td>\n",
       "      <td>Multi-player</td>\n",
       "      <td>Online Multi-Player</td>\n",
       "      <td>Cross-Platform Multiplayer</td>\n",
       "      <td>Steam Achievements</td>\n",
       "      <td>Under 50 USD</td>\n",
       "      <td>No discount</td>\n",
       "      <td>No achievemnts</td>\n",
       "      <td>Action</td>\n",
       "      <td>Adventure</td>\n",
       "      <td>Strategy</td>\n",
       "    </tr>\n",
       "    <tr>\n",
       "      <th>3</th>\n",
       "      <td>DayZ</td>\n",
       "      <td>The post-soviet country of Chernarus is struck...</td>\n",
       "      <td>Mixed</td>\n",
       "      <td>Mixed</td>\n",
       "      <td>2018-12-13</td>\n",
       "      <td>Bohemia Interactive</td>\n",
       "      <td>Bohemia Interactive</td>\n",
       "      <td>About This Game The post-soviet country of Ch...</td>\n",
       "      <td>nan</td>\n",
       "      <td>0.00</td>\n",
       "      <td>...</td>\n",
       "      <td>Online Multi-Player</td>\n",
       "      <td>Steam Workshop</td>\n",
       "      <td>Steam Cloud</td>\n",
       "      <td>Valve Anti-Cheat enabled</td>\n",
       "      <td>Under 50 USD</td>\n",
       "      <td>No discount</td>\n",
       "      <td>No achievemnts</td>\n",
       "      <td>Action</td>\n",
       "      <td>Adventure</td>\n",
       "      <td>Massively Multiplayer</td>\n",
       "    </tr>\n",
       "    <tr>\n",
       "      <th>4</th>\n",
       "      <td>EVE Online</td>\n",
       "      <td>EVE Online is a community-driven spaceship MMO...</td>\n",
       "      <td>Mixed</td>\n",
       "      <td>Positive</td>\n",
       "      <td>2003-05-06</td>\n",
       "      <td>CCP</td>\n",
       "      <td>CCP</td>\n",
       "      <td>About This Game</td>\n",
       "      <td>nan</td>\n",
       "      <td>0.00</td>\n",
       "      <td>...</td>\n",
       "      <td>Online Multi-Player</td>\n",
       "      <td>MMO</td>\n",
       "      <td>Co-op</td>\n",
       "      <td>Online Co-op</td>\n",
       "      <td>Free</td>\n",
       "      <td>No discount</td>\n",
       "      <td>No achievemnts</td>\n",
       "      <td>Action</td>\n",
       "      <td>Free to Play</td>\n",
       "      <td>Massively Multiplayer</td>\n",
       "    </tr>\n",
       "  </tbody>\n",
       "</table>\n",
       "<p>5 rows × 26 columns</p>\n",
       "</div>"
      ],
      "text/plain": [
       "                            name  \\\n",
       "0                           DOOM   \n",
       "1  PLAYERUNKNOWN'S BATTLEGROUNDS   \n",
       "2                     BATTLETECH   \n",
       "3                           DayZ   \n",
       "4                     EVE Online   \n",
       "\n",
       "                                        desc_snippet recent_reviews  \\\n",
       "0  Now includes all three premium DLC packs (Unto...  Very Positive   \n",
       "1  PLAYERUNKNOWN'S BATTLEGROUNDS is a battle roya...          Mixed   \n",
       "2  Take command of your own mercenary outfit of '...          Mixed   \n",
       "3  The post-soviet country of Chernarus is struck...          Mixed   \n",
       "4  EVE Online is a community-driven spaceship MMO...          Mixed   \n",
       "\n",
       "  all_reviews release_date            developer            publisher  \\\n",
       "0    Positive   2016-05-12          id Software   Bethesda Softworks   \n",
       "1       Mixed   2017-12-21     PUBG Corporation     PUBG Corporation   \n",
       "2    Positive   2018-04-24  Harebrained Schemes  Paradox Interactive   \n",
       "3       Mixed   2018-12-13  Bohemia Interactive  Bohemia Interactive   \n",
       "4    Positive   2003-05-06                  CCP                  CCP   \n",
       "\n",
       "                                    game_description  \\\n",
       "0   About This Game Developed by id software, the...   \n",
       "1   About This Game  PLAYERUNKNOWN'S BATTLEGROUND...   \n",
       "2   About This Game  From original BATTLETECH/Mec...   \n",
       "3   About This Game The post-soviet country of Ch...   \n",
       "4                                  About This Game     \n",
       "\n",
       "                                      mature_content  discount_price  ...  \\\n",
       "0                                                nan           14.99  ...   \n",
       "1   Mature Content Description  The developers de...            0.00  ...   \n",
       "2                                                nan            0.00  ...   \n",
       "3                                                nan            0.00  ...   \n",
       "4                                                nan            0.00  ...   \n",
       "\n",
       "               detail1              detail2                     detail3  \\\n",
       "0         Multi-player                Co-op          Steam Achievements   \n",
       "1  Online Multi-Player                Stats                         nan   \n",
       "2         Multi-player  Online Multi-Player  Cross-Platform Multiplayer   \n",
       "3  Online Multi-Player       Steam Workshop                 Steam Cloud   \n",
       "4  Online Multi-Player                  MMO                       Co-op   \n",
       "\n",
       "                    detail4  binned_price binned_discount  \\\n",
       "0       Steam Trading Cards  Under 30 USD       Up to 25%   \n",
       "1                       nan  Under 30 USD     No discount   \n",
       "2        Steam Achievements  Under 50 USD     No discount   \n",
       "3  Valve Anti-Cheat enabled  Under 50 USD     No discount   \n",
       "4              Online Co-op          Free     No discount   \n",
       "\n",
       "    binned_achievements  genre0        genre1                 genre2  \n",
       "0  Up to 15 achievemnts  Action          None                   None  \n",
       "1        No achievemnts  Action     Adventure  Massively Multiplayer  \n",
       "2        No achievemnts  Action     Adventure               Strategy  \n",
       "3        No achievemnts  Action     Adventure  Massively Multiplayer  \n",
       "4        No achievemnts  Action  Free to Play  Massively Multiplayer  \n",
       "\n",
       "[5 rows x 26 columns]"
      ]
     },
     "execution_count": 30,
     "metadata": {},
     "output_type": "execute_result"
    }
   ],
   "source": [
    "all_games.head()"
   ]
  },
  {
   "cell_type": "markdown",
   "metadata": {},
   "source": [
    "Last time we dropped datetime features, now we kept them. Let's see if anything can be derived from them"
   ]
  },
  {
   "cell_type": "code",
   "execution_count": 31,
   "metadata": {},
   "outputs": [],
   "source": [
    "plot_data = all_games[['release_date', 'all_reviews']]"
   ]
  },
  {
   "cell_type": "code",
   "execution_count": 32,
   "metadata": {},
   "outputs": [],
   "source": [
    "plot_data = (plot_data.reset_index()\n",
    "          .groupby(['release_date','all_reviews'], as_index=False)\n",
    "          .count()\n",
    "       )"
   ]
  },
  {
   "cell_type": "code",
   "execution_count": 33,
   "metadata": {},
   "outputs": [],
   "source": [
    "import plotly.offline as py\n",
    "import plotly.graph_objs as go\n",
    "from plotly.offline import init_notebook_mode, iplot, plot\n",
    "from plotly import tools"
   ]
  },
  {
   "cell_type": "code",
   "execution_count": 34,
   "metadata": {},
   "outputs": [
    {
     "data": {
      "text/plain": [
       "'reviews-by-date.html'"
      ]
     },
     "execution_count": 34,
     "metadata": {},
     "output_type": "execute_result"
    }
   ],
   "source": [
    "positive = go.Scatter(\n",
    "                x=plot_data.release_date,\n",
    "                y=plot_data[plot_data['all_reviews'] == 'Positive'].count(),\n",
    "                name = \"Positive reviews\",\n",
    "                line = dict(color = '#17BECF'),\n",
    "                opacity = 0.8)\n",
    "\n",
    "negative = go.Scatter(\n",
    "                x=plot_data.release_date,\n",
    "                y=plot_data[plot_data['all_reviews'] == 'Negative'].count(),\n",
    "                name = \"Negative reviews\",\n",
    "                line = dict(color = '#7F7F7F'),\n",
    "                opacity = 0.8)\n",
    "\n",
    "data = [positive, negative]\n",
    "\n",
    "layout = dict(\n",
    "    title = \"Reviews by date\"\n",
    ")\n",
    "fig = dict(data=data, layout=layout)\n",
    "py.offline.plot(fig, filename='reviews-by-date.html')"
   ]
  },
  {
   "cell_type": "code",
   "execution_count": 35,
   "metadata": {},
   "outputs": [
    {
     "data": {
      "image/png": "[encoded data removed]",
      "text/plain": [
       "<Figure size 1440x864 with 1 Axes>"
      ]
     },
     "metadata": {
      "needs_background": "light"
     },
     "output_type": "display_data"
    }
   ],
   "source": [
    "fig, ax = plt.subplots()\n",
    "\n",
    "# key gives the group name (i.e. category), data gives the actual values\n",
    "for key, data in plot_data.groupby('all_reviews'):\n",
    "    data.plot(x='release_date', y='index', ax=ax, label=key, figsize=(20, 12))"
   ]
  },
  {
   "cell_type": "markdown",
   "metadata": {},
   "source": [
    "Not very infromative, due to imbalanced classes"
   ]
  },
  {
   "cell_type": "markdown",
   "metadata": {},
   "source": [
    "## Text features extarction\n",
    "He we will try different approaches:\n",
    "1. Basic features like length of sentences\n",
    "2. TfIDF vectorizing\n",
    "3. Separately, we will build some topic modelling on text columsn"
   ]
  },
  {
   "cell_type": "code",
   "execution_count": 37,
   "metadata": {},
   "outputs": [],
   "source": [
    "import nltk"
   ]
  },
  {
   "cell_type": "markdown",
   "metadata": {},
   "source": [
    "Basic text transformation"
   ]
  },
  {
   "cell_type": "code",
   "execution_count": 38,
   "metadata": {},
   "outputs": [],
   "source": [
    "all_games['name'] = all_games['name'].str.lower()"
   ]
  },
  {
   "cell_type": "code",
   "execution_count": 39,
   "metadata": {},
   "outputs": [],
   "source": [
    "all_games['desc_snippet'] = all_games['desc_snippet'].str.lower()"
   ]
  },
  {
   "cell_type": "code",
   "execution_count": 40,
   "metadata": {},
   "outputs": [],
   "source": [
    "all_games['game_description'] = all_games['game_description'].str.lower()"
   ]
  },
  {
   "cell_type": "code",
   "execution_count": 41,
   "metadata": {},
   "outputs": [],
   "source": [
    "all_games['mature_content'] = all_games['mature_content'].str.lower()"
   ]
  },
  {
   "cell_type": "code",
   "execution_count": 42,
   "metadata": {},
   "outputs": [],
   "source": [
    "all_games['game_description'] = all_games['game_description'].map(lambda x: x.lstrip('about this game').rstrip('aAbBcC'))"
   ]
  },
  {
   "cell_type": "code",
   "execution_count": 43,
   "metadata": {},
   "outputs": [],
   "source": [
    "all_games['mature_content'] = all_games['mature_content'].map(lambda x: x.lstrip('mature content').rstrip('aAbBcC'))"
   ]
  },
  {
   "cell_type": "code",
   "execution_count": 44,
   "metadata": {},
   "outputs": [],
   "source": [
    "all_games['mature_content'] = all_games['mature_content'].map(lambda x: x.lstrip('description').rstrip('aAbBcC'))"
   ]
  },
  {
   "cell_type": "code",
   "execution_count": 45,
   "metadata": {},
   "outputs": [],
   "source": [
    "all_games['mature_content'] = all_games['mature_content'].map(lambda x: x.lstrip('the developers describe the content like this').rstrip('aAbBcC'))"
   ]
  },
  {
   "cell_type": "markdown",
   "metadata": {},
   "source": [
    "Removing stopwords"
   ]
  },
  {
   "cell_type": "code",
   "execution_count": 46,
   "metadata": {},
   "outputs": [],
   "source": [
    "from sklearn.feature_extraction import text\n",
    "stop = text.ENGLISH_STOP_WORDS"
   ]
  },
  {
   "cell_type": "code",
   "execution_count": 47,
   "metadata": {},
   "outputs": [],
   "source": [
    "all_games['desc_snippet'] = all_games['desc_snippet'].apply(lambda x: ' '.join([word for word in x.split() if word not in (stop)]))"
   ]
  },
  {
   "cell_type": "code",
   "execution_count": 48,
   "metadata": {},
   "outputs": [],
   "source": [
    "all_games['game_description'] = all_games['game_description'].apply(lambda x: ' '.join([word for word in x.split() if word not in (stop)]))"
   ]
  },
  {
   "cell_type": "code",
   "execution_count": 49,
   "metadata": {},
   "outputs": [],
   "source": [
    "all_games['mature_content'] = all_games['mature_content'].apply(lambda x: ' '.join([word for word in x.split() if word not in (stop)]))"
   ]
  },
  {
   "cell_type": "code",
   "execution_count": 50,
   "metadata": {},
   "outputs": [
    {
     "data": {
      "text/plain": [
       "0        includes premium dlc packs (unto evil, hell fo...\n",
       "1        playerunknown's battlegrounds battle royale sh...\n",
       "2        command mercenary outfit 'mechs mechwarriors p...\n",
       "3        post-soviet country chernarus struck unknown v...\n",
       "4        eve online community-driven spaceship mmo play...\n",
       "                               ...                        \n",
       "40557    dance tango death grabity, fast-paced, physics...\n",
       "40598    detached, suspenseful interstellar duel demand...\n",
       "40611    solve mysterious criminal case dark pixel-styl...\n",
       "40728    chasing stars steampunk-ish multichoice bl vis...\n",
       "40811    book nanoui stolen, plunging kingdom chaos all...\n",
       "Name: desc_snippet, Length: 17363, dtype: object"
      ]
     },
     "execution_count": 50,
     "metadata": {},
     "output_type": "execute_result"
    }
   ],
   "source": [
    "all_games['desc_snippet']"
   ]
  },
  {
   "cell_type": "code",
   "execution_count": 52,
   "metadata": {},
   "outputs": [
    {
     "data": {
      "text/plain": [
       "0        includes premium dlc packs (unto evil, hell fo...\n",
       "1        playerunknown's battlegrounds battle royale sh...\n",
       "2        command mercenary outfit 'mechs mechwarriors p...\n",
       "3        post-soviet country chernarus struck unknown v...\n",
       "4        eve online community-driven spaceship mmo play...\n",
       "                               ...                        \n",
       "40557    dance tango death grabity, fast-paced, physics...\n",
       "40598    detached, suspenseful interstellar duel demand...\n",
       "40611    solve mysterious criminal case dark pixel-styl...\n",
       "40728    chasing stars steampunk-ish multichoice bl vis...\n",
       "40811    book nanoui stolen, plunging kingdom chaos all...\n",
       "Name: desc_snippet, Length: 17363, dtype: object"
      ]
     },
     "execution_count": 52,
     "metadata": {},
     "output_type": "execute_result"
    }
   ],
   "source": [
    "all_games['desc_snippet']"
   ]
  },
  {
   "cell_type": "markdown",
   "metadata": {},
   "source": [
    "## Topic modelling\n",
    "Here we will use TfIdf vectorizing, which tehn will act as an input to three different models:\n",
    "1. NMF with Frobenius norm\n",
    "2. NMF with KL divergence\n",
    "3. Latent Dirichle Allocation\\\n",
    "We will vizualize top-10 topics using each model on each of text columns - desc_snippet, gane_description and mature_content"
   ]
  },
  {
   "cell_type": "markdown",
   "metadata": {},
   "source": [
    "**desc_snippet**"
   ]
  },
  {
   "cell_type": "code",
   "execution_count": 54,
   "metadata": {},
   "outputs": [
    {
     "name": "stdout",
     "output_type": "stream",
     "text": [
      "Loading dataset...\n",
      "done in 0.000s.\n",
      "Extracting tf-idf features for NMF...\n",
      "done in 0.357s.\n",
      "Extracting tf features for LDA...\n",
      "done in 0.341s.\n",
      "\n",
      "Fitting the NMF model (Frobenius norm) with tf-idf features, n_samples=3000 and n_features=1000...\n",
      "done in 0.924s.\n",
      "\n",
      "Topics in NMF model (Frobenius norm):\n",
      "Topic #0: nan zombies fate fights fighting fighter fight field fiction fi feel featuring features fear favorite father faster final fast farm\n",
      "Topic #1: action shooter fast play multiplayer paced fight players way arcade battle enemies online friends space weapons player person platformer combat\n",
      "Topic #2: game play horror games player players video simple music simulation card strategy playing like different style indie multiplayer 3d modes\n",
      "Topic #3: adventure story life novel visual horror journey mysterious love dark help puzzles young mystery girl set explore discover point solve\n",
      "Topic #4: world open explore war set save fantasy evil build enter magic power journey survive welcome discover beautiful survival rpg apocalyptic\n",
      "Topic #5: new brand series features experience city classic gameplay original edition version returns award winning year franchise sequel includes years unlock\n",
      "Topic #6: based turn strategy rpg tactical war combat battles fantasy command set epic battle elements space real physics strategic tactics heroes\n",
      "Topic #7: puzzle puzzles platformer explosions solve levels solving physics challenging casual logic simple game relaxing level using beautiful mind color escape\n",
      "Topic #8: time real strategy travel long war space history past make city ultimate greatest wars battle management simulation power command life\n",
      "Topic #9: vr experience virtual reality immersive vive htc music room oculus like simulator designed interactive explore scale video realistic create 3d\n",
      "\n",
      "Fitting the NMF model (generalized Kullback-Leibler divergence) with tf-idf features, n_samples=3000 and n_features=1000...\n",
      "done in 1.579s.\n",
      "\n",
      "Topics in NMF model (generalized Kullback-Leibler divergence):\n",
      "Topic #0: nan zombies fate fights fighting fighter fight field fiction fi feel featuring features fear favorite father faster final fast farm\n",
      "Topic #1: play action multiplayer game friends players shooter player online person fight battle survival join team single choose fast fighting weapons\n",
      "Topic #2: game puzzle arcade simple games play casual fun style fast different classic player physics 2d platform easy levels goal paced\n",
      "Topic #3: adventure world story horror mysterious journey novel puzzles solve discover girl love game visual mystery young life dark secrets explore\n",
      "Topic #4: world game strategy war real based time build open turn control set command battles building empire battle simulation tactical players\n",
      "Topic #5: new life series time simulator create play steam best city make simulation year racing version edition start brand games live\n",
      "Topic #6: rpg adventure action story based classic epic turn fantasy elements series set inspired ancient old dungeon combat quest kingdom dark\n",
      "Topic #7: platformer enemies way levels use new defeat world shoot action weapons challenging save tower collect generated evil level 2d fight\n",
      "Topic #8: space way time survive make help save city planet escape earth alien need life fight ll people build home away\n",
      "Topic #9: experience vr virtual reality person 3d gameplay immersive unique music world shooter based interactive like vive brings games graphics room\n",
      "\n",
      "Fitting LDA models with tf features, n_samples=3000 and n_features=1000...\n",
      "done in 11.762s.\n",
      "\n",
      "Topics in LDA model:\n",
      "Topic #0: game strategy new time based turn war world series real epic worlds classic lead em battle battles history winning kingdom\n",
      "Topic #1: nan survive home novel visual small point zombie manage town zombies click post family survival mystery living apocalyptic making stop\n",
      "Topic #2: rpg elements story game original world life heroes test man generated great live hero indie hardcore like young action simulation\n",
      "Topic #3: game person action style shooter gameplay adventure inspired combat classic old games graphics play experience art like exciting based modern\n",
      "Topic #4: space save planet tower world alien earth fight defense ship war control fi sci dead enemy future events destroy universe\n",
      "Topic #5: fast arcade paced shooter action racing race survive away power deadly hell world takes things intense truth retro team destruction\n",
      "Topic #6: game play player multiplayer players online new friends level 3d experience create weapons free single mode games different unique world\n",
      "Topic #7: world story game horror life city escape virtual help mysterious reality time island girl new way journey secrets adventure place\n",
      "Topic #8: game puzzle levels way platformer enemies puzzles use character action challenging play death physics adventure dungeon collect make simple evil\n",
      "Topic #9: world vr explore adventure music experience fantasy game enter beautiful king characters high roguelike speed built dungeons non thrilling famous\n",
      "\n"
     ]
    }
   ],
   "source": [
    "from time import time\n",
    "\n",
    "from sklearn.feature_extraction.text import TfidfVectorizer, CountVectorizer\n",
    "from sklearn.decomposition import NMF, LatentDirichletAllocation\n",
    "\n",
    "\n",
    "n_features = 1000\n",
    "n_components = 10\n",
    "n_top_words = 20\n",
    "n_samples = 3000\n",
    "\n",
    "def print_top_words(model, feature_names, n_top_words):\n",
    "    for topic_idx, topic in enumerate(model.components_):\n",
    "        message = \"Topic #%d: \" % topic_idx\n",
    "        message += \" \".join([feature_names[i]\n",
    "                             for i in topic.argsort()[:-n_top_words - 1:-1]])\n",
    "        print(message)\n",
    "    print()\n",
    "\n",
    "print(\"Loading dataset...\")\n",
    "t0 = time()\n",
    "data_samples = all_games['desc_snippet']\n",
    "print(\"done in %0.3fs.\" % (time() - t0))\n",
    "\n",
    "# Use tf-idf features for NMF.\n",
    "print(\"Extracting tf-idf features for NMF...\")\n",
    "tfidf_vectorizer = TfidfVectorizer(max_df=0.95, min_df=2,\n",
    "                                   max_features=n_features,\n",
    "                                   stop_words='english')\n",
    "t0 = time()\n",
    "tfidf = tfidf_vectorizer.fit_transform(data_samples)\n",
    "print(\"done in %0.3fs.\" % (time() - t0))\n",
    "\n",
    "# Use tf (raw term count) features for LDA.\n",
    "print(\"Extracting tf features for LDA...\")\n",
    "tf_vectorizer = CountVectorizer(max_df=0.95, min_df=2,\n",
    "                                max_features=n_features,\n",
    "                                stop_words='english')\n",
    "t0 = time()\n",
    "tf = tf_vectorizer.fit_transform(data_samples)\n",
    "print(\"done in %0.3fs.\" % (time() - t0))\n",
    "print()\n",
    "\n",
    "# Fit the NMF model\n",
    "print(\"Fitting the NMF model (Frobenius norm) with tf-idf features, \"\n",
    "      \"n_samples=%d and n_features=%d...\"\n",
    "      % (n_samples, n_features))\n",
    "t0 = time()\n",
    "nmf = NMF(n_components=n_components, random_state=1,\n",
    "          alpha=.1, l1_ratio=.5).fit(tfidf)\n",
    "print(\"done in %0.3fs.\" % (time() - t0))\n",
    "\n",
    "print(\"\\nTopics in NMF model (Frobenius norm):\")\n",
    "tfidf_feature_names = tfidf_vectorizer.get_feature_names()\n",
    "print_top_words(nmf, tfidf_feature_names, n_top_words)\n",
    "\n",
    "# Fit the NMF model\n",
    "print(\"Fitting the NMF model (generalized Kullback-Leibler divergence) with \"\n",
    "      \"tf-idf features, n_samples=%d and n_features=%d...\"\n",
    "      % (n_samples, n_features))\n",
    "t0 = time()\n",
    "nmf = NMF(n_components=n_components, random_state=1,\n",
    "          beta_loss='kullback-leibler', solver='mu', max_iter=1000, alpha=.1,\n",
    "          l1_ratio=.5).fit(tfidf)\n",
    "print(\"done in %0.3fs.\" % (time() - t0))\n",
    "\n",
    "print(\"\\nTopics in NMF model (generalized Kullback-Leibler divergence):\")\n",
    "tfidf_feature_names = tfidf_vectorizer.get_feature_names()\n",
    "print_top_words(nmf, tfidf_feature_names, n_top_words)\n",
    "\n",
    "print(\"Fitting LDA models with tf features, \"\n",
    "      \"n_samples=%d and n_features=%d...\"\n",
    "      % (n_samples, n_features))\n",
    "lda = LatentDirichletAllocation(n_components=n_components, max_iter=5,\n",
    "                                learning_method='online',\n",
    "                                learning_offset=50.,\n",
    "                                random_state=0)\n",
    "t0 = time()\n",
    "lda.fit(tf)\n",
    "print(\"done in %0.3fs.\" % (time() - t0))\n",
    "\n",
    "print(\"\\nTopics in LDA model:\")\n",
    "tf_feature_names = tf_vectorizer.get_feature_names()\n",
    "print_top_words(lda, tf_feature_names, n_top_words)"
   ]
  },
  {
   "cell_type": "markdown",
   "metadata": {},
   "source": [
    "Interesting, NMF detected the following games \"kinds\" as top:\n",
    "1. Zombie related (of course! it's a trend)\n",
    "2. Fast paced action and shooters\n",
    "3. Multiplayer oriented\n",
    "4. Horror games\n",
    "5. Adventures and interactive novels\n",
    "6. Both RTS and TBS\n",
    "7. Puzzles and platfromers\n",
    "8. VR \n",
    "\n",
    "LDA, however, put strategy games on top, other top topics are roughly same\n",
    "\n"
   ]
  },
  {
   "cell_type": "markdown",
   "metadata": {},
   "source": [
    "**game_description**"
   ]
  },
  {
   "cell_type": "code",
   "execution_count": 56,
   "metadata": {},
   "outputs": [
    {
     "name": "stdout",
     "output_type": "stream",
     "text": [
      "Loading dataset...\n",
      "done in 0.000s.\n",
      "Extracting tf-idf features for NMF...\n",
      "done in 1.753s.\n",
      "Extracting tf features for LDA...\n",
      "done in 1.717s.\n",
      "\n",
      "Fitting the NMF model (Frobenius norm) with tf-idf features, n_samples=3000 and n_features=1000...\n",
      "done in 1.674s.\n",
      "\n",
      "Topics in NMF model (Frobenius norm):\n",
      "Topic #0: game players play mode player multiplayer online games friends modes team time free like create single local fun make want\n",
      "Topic #1: new brand expansion content including city campaign dlc improved series original adds challenges experience features missions map buildings enhanced added\n",
      "Topic #2: story world adventure life game explore puzzles characters time dark mysterious help solve journey way discover hidden secrets people make\n",
      "Topic #3: content pack dlc includes character contains exclusive weapon pass season included following access additional characters menu 10 edition adds soundtrack\n",
      "Topic #4: car racing cars race tracks track driving vehicles road world engine physics vehicle drive races realistic driver speed real parts\n",
      "Topic #5: levels level puzzle music game achievements puzzles steam gameplay simple difficulty platformer soundtrack challenging different features unique enemies challenge collect\n",
      "Topic #6: scenarios route train steam simulator workshop class line br drive available passenger download quick compatible included service built daily units\n",
      "Topic #7: space ship ships planet alien galaxy crew planets universe build earth star resources station explore systems fleet missions stations research\n",
      "Topic #8: vr virtual reality experience vive oculus room immersive controllers motion scale 3d music video using real interactive designed support audio\n",
      "Topic #9: battle weapons enemies combat war fight enemy world unique action battles abilities powerful skills different units heroes tactical strategy based\n",
      "\n",
      "Fitting the NMF model (generalized Kullback-Leibler divergence) with tf-idf features, n_samples=3000 and n_features=1000...\n",
      "done in 11.416s.\n",
      "\n",
      "Topics in NMF model (generalized Kullback-Leibler divergence):\n",
      "Topic #0: game play games time different world like players friends player make features unique best use mode just fun gameplay choose\n",
      "Topic #1: new multiplayer players weapons content team battle maps mode online fight map campaign combat weapon missions modes player including powerful\n",
      "Topic #2: story world adventure life explore characters dark mysterious new journey discover novel puzzles secrets mystery girl young hidden solve horror\n",
      "Topic #3: content pack game new dlc music includes steam 10 version original soundtrack contains edition pass tracks available video bonus com\n",
      "Topic #4: scenarios simulator car realistic train real cars simulation world city engine drive racing route line create 3d workshop class race\n",
      "Topic #5: levels puzzle level puzzles achievements challenging features solve gameplay new music platformer simple difficulty steam obstacles worlds beautiful different graphics\n",
      "Topic #6: enemies monsters fight unique items weapons powerful combat battle magic evil dungeon abilities bosses hero heroes rpg power character defeat\n",
      "Topic #7: survive space survival weapons ll planet way build use alien need resources zombies enemies escape make just zombie food don\n",
      "Topic #8: vr action experience mode arcade style classic play gameplay features virtual fast player environments world unique reality op support controller\n",
      "Topic #9: war ship space units enemy ships strategy battle battles missions army command ii empire combat military galaxy mission crew tactical\n",
      "\n",
      "Fitting LDA models with tf features, n_samples=3000 and n_features=1000...\n",
      "done in 35.687s.\n",
      "\n",
      "Topics in LDA model:\n",
      "Topic #0: space ship planet ships alien earth crew universe star galaxy new planets explore pirate fleet station energy build systems humanity\n",
      "Topic #1: scenarios train car route simulator drive race racing cars steam line class new workshop available track features tracks speed br\n",
      "Topic #2: game story world adventure puzzles time life solve features way characters help mysterious horror dark hidden escape explore old love\n",
      "Topic #3: content pack new dlc 3d features version includes high use time steam realistic engine effects 10 edition including real support\n",
      "Topic #4: weapons enemies action fight game mode weapon different unique enemy use levels players play player features combat fast shooter way\n",
      "Topic #5: world new city explore experience build open survival features environment building island game create life cities players real unique buildings\n",
      "Topic #6: new war battle game players player campaign units team multiplayer strategy enemy play combat battles missions army tactical features maps\n",
      "Topic #7: game make different time build need play ll like want just items use help choose new start players create don\n",
      "Topic #8: game play levels mode games vr features level players player steam music experience gameplay new time fun com support friends\n",
      "Topic #9: new world characters unique character magic rpg heroes battle monsters game adventure hero fantasy powerful story features content dungeon epic\n",
      "\n"
     ]
    }
   ],
   "source": [
    "def print_top_words(model, feature_names, n_top_words):\n",
    "    for topic_idx, topic in enumerate(model.components_):\n",
    "        message = \"Topic #%d: \" % topic_idx\n",
    "        message += \" \".join([feature_names[i]\n",
    "                             for i in topic.argsort()[:-n_top_words - 1:-1]])\n",
    "        print(message)\n",
    "    print()\n",
    "\n",
    "print(\"Loading dataset...\")\n",
    "t0 = time()\n",
    "data_samples = all_games['game_description']\n",
    "print(\"done in %0.3fs.\" % (time() - t0))\n",
    "\n",
    "# Use tf-idf features for NMF.\n",
    "print(\"Extracting tf-idf features for NMF...\")\n",
    "tfidf_vectorizer = TfidfVectorizer(max_df=0.95, min_df=2,\n",
    "                                   max_features=n_features,\n",
    "                                   stop_words='english')\n",
    "t0 = time()\n",
    "tfidf = tfidf_vectorizer.fit_transform(data_samples)\n",
    "print(\"done in %0.3fs.\" % (time() - t0))\n",
    "\n",
    "# Use tf (raw term count) features for LDA.\n",
    "print(\"Extracting tf features for LDA...\")\n",
    "tf_vectorizer = CountVectorizer(max_df=0.95, min_df=2,\n",
    "                                max_features=n_features,\n",
    "                                stop_words='english')\n",
    "t0 = time()\n",
    "tf = tf_vectorizer.fit_transform(data_samples)\n",
    "print(\"done in %0.3fs.\" % (time() - t0))\n",
    "print()\n",
    "\n",
    "# Fit the NMF model\n",
    "print(\"Fitting the NMF model (Frobenius norm) with tf-idf features, \"\n",
    "      \"n_samples=%d and n_features=%d...\"\n",
    "      % (n_samples, n_features))\n",
    "t0 = time()\n",
    "nmf = NMF(n_components=n_components, random_state=1,\n",
    "          alpha=.1, l1_ratio=.5).fit(tfidf)\n",
    "print(\"done in %0.3fs.\" % (time() - t0))\n",
    "\n",
    "print(\"\\nTopics in NMF model (Frobenius norm):\")\n",
    "tfidf_feature_names = tfidf_vectorizer.get_feature_names()\n",
    "print_top_words(nmf, tfidf_feature_names, n_top_words)\n",
    "\n",
    "# Fit the NMF model\n",
    "print(\"Fitting the NMF model (generalized Kullback-Leibler divergence) with \"\n",
    "      \"tf-idf features, n_samples=%d and n_features=%d...\"\n",
    "      % (n_samples, n_features))\n",
    "t0 = time()\n",
    "nmf = NMF(n_components=n_components, random_state=1,\n",
    "          beta_loss='kullback-leibler', solver='mu', max_iter=1000, alpha=.1,\n",
    "          l1_ratio=.5).fit(tfidf)\n",
    "print(\"done in %0.3fs.\" % (time() - t0))\n",
    "\n",
    "print(\"\\nTopics in NMF model (generalized Kullback-Leibler divergence):\")\n",
    "tfidf_feature_names = tfidf_vectorizer.get_feature_names()\n",
    "print_top_words(nmf, tfidf_feature_names, n_top_words)\n",
    "\n",
    "print(\"Fitting LDA models with tf features, \"\n",
    "      \"n_samples=%d and n_features=%d...\"\n",
    "      % (n_samples, n_features))\n",
    "lda = LatentDirichletAllocation(n_components=n_components, max_iter=5,\n",
    "                                learning_method='online',\n",
    "                                learning_offset=50.,\n",
    "                                random_state=0)\n",
    "t0 = time()\n",
    "lda.fit(tf)\n",
    "print(\"done in %0.3fs.\" % (time() - t0))\n",
    "\n",
    "print(\"\\nTopics in LDA model:\")\n",
    "tf_feature_names = tf_vectorizer.get_feature_names()\n",
    "print_top_words(lda, tf_feature_names, n_top_words)"
   ]
  },
  {
   "cell_type": "markdown",
   "metadata": {},
   "source": [
    "Here NMF put multiplayer oriented games on top, followed by story reach games and content reach games, while LDA put sapce themed games on the first place fllowd by actions, adventures and startegies"
   ]
  },
  {
   "cell_type": "markdown",
   "metadata": {},
   "source": [
    "**mature_content**"
   ]
  },
  {
   "cell_type": "code",
   "execution_count": 58,
   "metadata": {},
   "outputs": [
    {
     "name": "stdout",
     "output_type": "stream",
     "text": [
      "Loading dataset...\n",
      "done in 0.000s.\n",
      "Extracting tf-idf features for NMF...\n",
      "done in 0.059s.\n",
      "Extracting tf features for LDA...\n",
      "done in 0.059s.\n",
      "\n",
      "Fitting the NMF model (Frobenius norm) with tf-idf features, n_samples=3000 and n_features=1000...\n",
      "done in 0.496s.\n",
      "\n",
      "Topics in NMF model (Frobenius norm):\n",
      "Topic #0: appropriate content game ages viewing contain work general mature frequent nudity demo suitable cruelty completely setting threat war suicide disabled\n",
      "Topic #1: gore violence frequent appropriate mature general work ages viewing contain cartoon depictions graphic pixelated content realistic pixel like optional included\n",
      "Topic #2: sexual nudity content acts mild partial explicit adult consensual non fantasy sex assault implied nuidity mature interactions dialog cgs version\n",
      "Topic #3: appropriate content dlc general viewing work ages contain mature frequent demo nudity eroticism excessive epilepsy expect exiles execution executed episodes\n",
      "Topic #4: blood violence intense includes effects cartoon gore fantasy moderate zombies game weapons dismemberment zombie like stylized animated guns gun enemies\n",
      "Topic #5: strong language partial features nudity themes warning mature langauge humor intense violence slave occasional sword suggestive graphic contain black including\n",
      "Topic #6: contains game graphic violence warning depictions langauge pixel nudity images blood gore horror adult explicit including visual players descriptions sex\n",
      "Topic #7: scenes suggestive includes sexually nude imagery partial game erotic disturbing violent player players women suitable female cruelty dialogs people nature\n",
      "Topic #8: use alcohol themes mild references drug violence sexual drugs sex cartoon abuse language fantasy depictions humor tobacco non adult acts\n",
      "Topic #9: characters 18 years game age old underwear naked appearing girl depicted girls mild pornographic sexy older wear female clothes jokes\n",
      "\n",
      "Fitting the NMF model (generalized Kullback-Leibler divergence) with tf-idf features, n_samples=3000 and n_features=1000...\n",
      "done in 0.607s.\n",
      "\n",
      "Topics in NMF model (generalized Kullback-Leibler divergence):\n",
      "Topic #0: content appropriate contain ages viewing work general mature game sexual nudity demo frequent excessive zombies examples execution exiles executed especially\n",
      "Topic #1: violence gore frequent game cartoon includes pixelated completely realistic audio slightly vr expression intense elements occuring disabled included major pixel\n",
      "Topic #2: game nudity sexual contains adult sex acts explicit non content mild consensual player images partial warning suitable implied scary level\n",
      "Topic #3: dlc nudity mature optional content chapter religious sexual series west oppression varies coercion rare episodes minor moderate political assault occasional\n",
      "Topic #4: blood intense game includes effects zombies enemies players kill dismemberment weapons like shoot zombie shooting human creatures monsters moderate fantasy\n",
      "Topic #5: language strong features partial contains game themes warning langauge mature intense bad graphic foul humor war following occasional suitable including\n",
      "Topic #6: contains graphic scenes depictions horror pixel including disturbing players self harm descriptions humans suicide art murder text suggestive images bloody\n",
      "Topic #7: scenes suggestive includes nude violent sexually erotic game partial imagery main girls character sexual body people cruelty humor life female\n",
      "Topic #8: use alcohol references drug themes mild depictions drugs fantasy sexual abuse realistic violence swearing humor dark app_contentdescriptors_desc_application death graphic physical\n",
      "Topic #9: characters game 18 years underwear age girls naked jokes girl dialog old sexy pictures lewd female depicted appearing character wear\n",
      "\n",
      "Fitting LDA models with tf features, n_samples=3000 and n_features=1000...\n",
      "done in 4.310s.\n",
      "\n",
      "Topics in LDA model:\n",
      "Topic #0: girls story people half time elements swearing events line puzzles intended form beautiful sensitive recommended nature audience things occasional chapter\n",
      "Topic #1: scenes game depictions death contains character suggestive realistic body player nude imagery clothes disturbing physical suicide gameplay life injury mode\n",
      "Topic #2: scene jokes level dialog nudity erotic women lewd hints pornography taking steam version relationships consent route kisses required drinking covered\n",
      "Topic #3: blood violence game players girl gore weapons human zombies like player effects combat features enemies kill war damage creatures intense\n",
      "Topic #4: content appropriate contain ages work viewing mature general game frequent violence gore sexual nudity dlc demo included involved series complete\n",
      "Topic #5: contains game violence sexual language nudity gore strong themes content blood use mild alcohol sex references characters partial adult mature\n",
      "Topic #6: bad male wearing option images gay ones warned don face turning anime light talk murdered suggests start complete children swimsuits\n",
      "Topic #7: game violent horror screen self play shown style words harm monsters heads choose men frequently possible limbs exposed brutal partial\n",
      "Topic #8: includes cartoon sexually years 18 sexy pixel violence suggestive art old minor moderate cruelty gun fully using appearing wear aesthetics\n",
      "Topic #9: characters underwear female pictures naked main bloody pornographic expect text depicted pixelated effect appear activity plot visual undressing title addition\n",
      "\n"
     ]
    }
   ],
   "source": [
    "def print_top_words(model, feature_names, n_top_words):\n",
    "    for topic_idx, topic in enumerate(model.components_):\n",
    "        message = \"Topic #%d: \" % topic_idx\n",
    "        message += \" \".join([feature_names[i]\n",
    "                             for i in topic.argsort()[:-n_top_words - 1:-1]])\n",
    "        print(message)\n",
    "    print()\n",
    "\n",
    "print(\"Loading dataset...\")\n",
    "t0 = time()\n",
    "data_samples = all_games['mature_content']\n",
    "print(\"done in %0.3fs.\" % (time() - t0))\n",
    "\n",
    "# Use tf-idf features for NMF.\n",
    "print(\"Extracting tf-idf features for NMF...\")\n",
    "tfidf_vectorizer = TfidfVectorizer(max_df=0.95, min_df=2,\n",
    "                                   max_features=n_features,\n",
    "                                   stop_words='english')\n",
    "t0 = time()\n",
    "tfidf = tfidf_vectorizer.fit_transform(data_samples)\n",
    "print(\"done in %0.3fs.\" % (time() - t0))\n",
    "\n",
    "# Use tf (raw term count) features for LDA.\n",
    "print(\"Extracting tf features for LDA...\")\n",
    "tf_vectorizer = CountVectorizer(max_df=0.95, min_df=2,\n",
    "                                max_features=n_features,\n",
    "                                stop_words='english')\n",
    "t0 = time()\n",
    "tf = tf_vectorizer.fit_transform(data_samples)\n",
    "print(\"done in %0.3fs.\" % (time() - t0))\n",
    "print()\n",
    "\n",
    "# Fit the NMF model\n",
    "print(\"Fitting the NMF model (Frobenius norm) with tf-idf features, \"\n",
    "      \"n_samples=%d and n_features=%d...\"\n",
    "      % (n_samples, n_features))\n",
    "t0 = time()\n",
    "nmf = NMF(n_components=n_components, random_state=1,\n",
    "          alpha=.1, l1_ratio=.5).fit(tfidf)\n",
    "print(\"done in %0.3fs.\" % (time() - t0))\n",
    "\n",
    "print(\"\\nTopics in NMF model (Frobenius norm):\")\n",
    "tfidf_feature_names = tfidf_vectorizer.get_feature_names()\n",
    "print_top_words(nmf, tfidf_feature_names, n_top_words)\n",
    "\n",
    "# Fit the NMF model\n",
    "print(\"Fitting the NMF model (generalized Kullback-Leibler divergence) with \"\n",
    "      \"tf-idf features, n_samples=%d and n_features=%d...\"\n",
    "      % (n_samples, n_features))\n",
    "t0 = time()\n",
    "nmf = NMF(n_components=n_components, random_state=1,\n",
    "          beta_loss='kullback-leibler', solver='mu', max_iter=1000, alpha=.1,\n",
    "          l1_ratio=.5).fit(tfidf)\n",
    "print(\"done in %0.3fs.\" % (time() - t0))\n",
    "\n",
    "print(\"\\nTopics in NMF model (generalized Kullback-Leibler divergence):\")\n",
    "tfidf_feature_names = tfidf_vectorizer.get_feature_names()\n",
    "print_top_words(nmf, tfidf_feature_names, n_top_words)\n",
    "\n",
    "print(\"Fitting LDA models with tf features, \"\n",
    "      \"n_samples=%d and n_features=%d...\"\n",
    "      % (n_samples, n_features))\n",
    "lda = LatentDirichletAllocation(n_components=n_components, max_iter=5,\n",
    "                                learning_method='online',\n",
    "                                learning_offset=50.,\n",
    "                                random_state=0)\n",
    "t0 = time()\n",
    "lda.fit(tf)\n",
    "print(\"done in %0.3fs.\" % (time() - t0))\n",
    "\n",
    "print(\"\\nTopics in LDA model:\")\n",
    "tf_feature_names = tf_vectorizer.get_feature_names()\n",
    "print_top_words(lda, tf_feature_names, n_top_words)"
   ]
  },
  {
   "cell_type": "markdown",
   "metadata": {},
   "source": [
    "Here NMF detected violence and gore content on top, while LDA focuses on sexual and inappropriate jokes"
   ]
  },
  {
   "cell_type": "markdown",
   "metadata": {},
   "source": [
    "## Text features\n",
    "Here we will use TfIdf vectorizing, transfrom cectors to sparse matrices and join with the original dataset"
   ]
  },
  {
   "cell_type": "code",
   "execution_count": 60,
   "metadata": {},
   "outputs": [],
   "source": [
    "all_games['desc_snippet_word_counts'] = all_games['desc_snippet'].str.split().str.len()"
   ]
  },
  {
   "cell_type": "code",
   "execution_count": 61,
   "metadata": {},
   "outputs": [],
   "source": [
    "all_games['game_description_word_counts'] = all_games['game_description'].str.split().str.len()"
   ]
  },
  {
   "cell_type": "code",
   "execution_count": 62,
   "metadata": {},
   "outputs": [],
   "source": [
    "all_games['mature_content_word_counts'] = all_games['mature_content'].str.split().str.len()"
   ]
  },
  {
   "cell_type": "code",
   "execution_count": 63,
   "metadata": {},
   "outputs": [],
   "source": [
    "from sklearn.feature_extraction.text import TfidfVectorizer"
   ]
  },
  {
   "cell_type": "code",
   "execution_count": 64,
   "metadata": {},
   "outputs": [],
   "source": [
    "v = TfidfVectorizer()"
   ]
  },
  {
   "cell_type": "code",
   "execution_count": 65,
   "metadata": {},
   "outputs": [],
   "source": [
    "x = v.fit_transform(all_games['desc_snippet'])"
   ]
  },
  {
   "cell_type": "code",
   "execution_count": 66,
   "metadata": {},
   "outputs": [],
   "source": [
    "df1 = pd.DataFrame(x.toarray(), columns=v.get_feature_names())"
   ]
  },
  {
   "cell_type": "code",
   "execution_count": 67,
   "metadata": {},
   "outputs": [],
   "source": [
    "res1 = pd.concat([all_games, df1], axis=1)"
   ]
  },
  {
   "cell_type": "code",
   "execution_count": 68,
   "metadata": {},
   "outputs": [],
   "source": [
    "x1 = v.fit_transform(all_games['game_description'])"
   ]
  },
  {
   "cell_type": "code",
   "execution_count": 69,
   "metadata": {},
   "outputs": [],
   "source": [
    "df2 = pd.DataFrame(x1.toarray(), columns=v.get_feature_names())"
   ]
  },
  {
   "cell_type": "code",
   "execution_count": 70,
   "metadata": {},
   "outputs": [],
   "source": [
    "res2 = pd.concat([res1, df2], axis=1)"
   ]
  },
  {
   "cell_type": "code",
   "execution_count": 71,
   "metadata": {},
   "outputs": [],
   "source": [
    "x2 = v.fit_transform(all_games['mature_content'])"
   ]
  },
  {
   "cell_type": "code",
   "execution_count": 72,
   "metadata": {},
   "outputs": [],
   "source": [
    "df3 = pd.DataFrame(x2.toarray(), columns=v.get_feature_names())"
   ]
  },
  {
   "cell_type": "code",
   "execution_count": 73,
   "metadata": {},
   "outputs": [],
   "source": [
    "all_games_txt = pd.concat([res2, df3], axis=1)"
   ]
  },
  {
   "cell_type": "code",
   "execution_count": 74,
   "metadata": {},
   "outputs": [
    {
     "data": {
      "text/plain": [
       "(24550, 115406)"
      ]
     },
     "execution_count": 74,
     "metadata": {},
     "output_type": "execute_result"
    }
   ],
   "source": [
    "all_games_txt.shape"
   ]
  },
  {
   "cell_type": "markdown",
   "metadata": {},
   "source": [
    "That's what I call a good feature space! :)"
   ]
  },
  {
   "cell_type": "markdown",
   "metadata": {},
   "source": [
    "## Class rebalancing\n",
    "I have made an attempt to rebalance classes (especially undersamopled Negative reviews), but it obviously failed. Existing aadvanced approaches like SMOTE can not handle well categorical features (it is obvious), and for the sake of simplicity I agve up on this idea. The rest of this segment just focuses on data cleaning from duplicates, NaNs etc in order to get the dataset ready for our model"
   ]
  },
  {
   "cell_type": "code",
   "execution_count": 76,
   "metadata": {},
   "outputs": [
    {
     "name": "stderr",
     "output_type": "stream",
     "text": [
      "Using TensorFlow backend.\n"
     ]
    }
   ],
   "source": [
    "from imblearn.over_sampling import SMOTENC"
   ]
  },
  {
   "cell_type": "code",
   "execution_count": 77,
   "metadata": {},
   "outputs": [],
   "source": [
    "from sklearn.model_selection import train_test_split"
   ]
  },
  {
   "cell_type": "code",
   "execution_count": 78,
   "metadata": {},
   "outputs": [],
   "source": [
    "all_games_txt.drop(['name','achievements', 'desc_snippet', 'game_description',\n",
    "                   'mature_content', 'recent_reviews', 'discount_price'], axis = 1, inplace = True)"
   ]
  },
  {
   "cell_type": "code",
   "execution_count": 116,
   "metadata": {},
   "outputs": [],
   "source": [
    "all_games_txt.dropna(inplace = True)"
   ]
  },
  {
   "cell_type": "code",
   "execution_count": 117,
   "metadata": {},
   "outputs": [],
   "source": [
    "y = all_games_txt['all_reviews']\n",
    "X = all_games_txt.drop(['all_reviews'], axis = 1)"
   ]
  },
  {
   "cell_type": "code",
   "execution_count": 118,
   "metadata": {},
   "outputs": [],
   "source": [
    "smote = SMOTENC('minority')"
   ]
  },
  {
   "cell_type": "code",
   "execution_count": 119,
   "metadata": {},
   "outputs": [],
   "source": [
    "cat_cols = ['developer', 'publisher', 'tag0', 'tag1', 'tag2', 'tag3', 'tag4', 'detail0', 'detail1', 'detail2', 'detail3',\n",
    "           'detail4', 'genre0', 'genre1', 'genre1']"
   ]
  },
  {
   "cell_type": "code",
   "execution_count": 120,
   "metadata": {},
   "outputs": [
    {
     "data": {
      "text/html": [
       "<div>\n",
       "<style scoped>\n",
       "    .dataframe tbody tr th:only-of-type {\n",
       "        vertical-align: middle;\n",
       "    }\n",
       "\n",
       "    .dataframe tbody tr th {\n",
       "        vertical-align: top;\n",
       "    }\n",
       "\n",
       "    .dataframe thead th {\n",
       "        text-align: right;\n",
       "    }\n",
       "</style>\n",
       "<table border=\"1\" class=\"dataframe\">\n",
       "  <thead>\n",
       "    <tr style=\"text-align: right;\">\n",
       "      <th></th>\n",
       "      <th>developer</th>\n",
       "      <th>developer</th>\n",
       "      <th>developer</th>\n",
       "      <th>developer</th>\n",
       "      <th>publisher</th>\n",
       "      <th>publisher</th>\n",
       "      <th>publisher</th>\n",
       "      <th>tag0</th>\n",
       "      <th>tag1</th>\n",
       "      <th>tag2</th>\n",
       "      <th>tag3</th>\n",
       "      <th>tag4</th>\n",
       "      <th>detail0</th>\n",
       "      <th>detail1</th>\n",
       "      <th>detail2</th>\n",
       "      <th>detail3</th>\n",
       "      <th>detail4</th>\n",
       "      <th>genre0</th>\n",
       "      <th>genre1</th>\n",
       "      <th>genre1</th>\n",
       "    </tr>\n",
       "  </thead>\n",
       "  <tbody>\n",
       "    <tr>\n",
       "      <th>1</th>\n",
       "      <td>PUBG Corporation</td>\n",
       "      <td>0.0</td>\n",
       "      <td>0.0</td>\n",
       "      <td>0.0</td>\n",
       "      <td>PUBG Corporation</td>\n",
       "      <td>0.0</td>\n",
       "      <td>0.0</td>\n",
       "      <td>Survival</td>\n",
       "      <td>Shooter</td>\n",
       "      <td>Multiplayer</td>\n",
       "      <td>Battle Royale</td>\n",
       "      <td>PvP</td>\n",
       "      <td>Multi-player</td>\n",
       "      <td>Online Multi-Player</td>\n",
       "      <td>Stats</td>\n",
       "      <td>nan</td>\n",
       "      <td>nan</td>\n",
       "      <td>Action</td>\n",
       "      <td>Adventure</td>\n",
       "      <td>Adventure</td>\n",
       "    </tr>\n",
       "    <tr>\n",
       "      <th>2</th>\n",
       "      <td>Harebrained Schemes</td>\n",
       "      <td>0.0</td>\n",
       "      <td>0.0</td>\n",
       "      <td>0.0</td>\n",
       "      <td>Paradox Interactive</td>\n",
       "      <td>0.0</td>\n",
       "      <td>0.0</td>\n",
       "      <td>Mechs</td>\n",
       "      <td>Strategy</td>\n",
       "      <td>Turn-Based</td>\n",
       "      <td>Turn-Based Tactics</td>\n",
       "      <td>Sci-fi</td>\n",
       "      <td>Single-player</td>\n",
       "      <td>Multi-player</td>\n",
       "      <td>Online Multi-Player</td>\n",
       "      <td>Cross-Platform Multiplayer</td>\n",
       "      <td>Steam Achievements</td>\n",
       "      <td>Action</td>\n",
       "      <td>Adventure</td>\n",
       "      <td>Adventure</td>\n",
       "    </tr>\n",
       "    <tr>\n",
       "      <th>3</th>\n",
       "      <td>Bohemia Interactive</td>\n",
       "      <td>0.0</td>\n",
       "      <td>0.0</td>\n",
       "      <td>0.0</td>\n",
       "      <td>Bohemia Interactive</td>\n",
       "      <td>0.0</td>\n",
       "      <td>0.0</td>\n",
       "      <td>Survival</td>\n",
       "      <td>Zombies</td>\n",
       "      <td>Open World</td>\n",
       "      <td>Multiplayer</td>\n",
       "      <td>PvP</td>\n",
       "      <td>Multi-player</td>\n",
       "      <td>Online Multi-Player</td>\n",
       "      <td>Steam Workshop</td>\n",
       "      <td>Steam Cloud</td>\n",
       "      <td>Valve Anti-Cheat enabled</td>\n",
       "      <td>Action</td>\n",
       "      <td>Adventure</td>\n",
       "      <td>Adventure</td>\n",
       "    </tr>\n",
       "    <tr>\n",
       "      <th>4</th>\n",
       "      <td>CCP</td>\n",
       "      <td>0.0</td>\n",
       "      <td>0.0</td>\n",
       "      <td>0.0</td>\n",
       "      <td>CCP</td>\n",
       "      <td>0.0</td>\n",
       "      <td>0.0</td>\n",
       "      <td>Space</td>\n",
       "      <td>Massively Multiplayer</td>\n",
       "      <td>Sci-fi</td>\n",
       "      <td>Sandbox</td>\n",
       "      <td>MMORPG</td>\n",
       "      <td>Multi-player</td>\n",
       "      <td>Online Multi-Player</td>\n",
       "      <td>MMO</td>\n",
       "      <td>Co-op</td>\n",
       "      <td>Online Co-op</td>\n",
       "      <td>Action</td>\n",
       "      <td>Free to Play</td>\n",
       "      <td>Free to Play</td>\n",
       "    </tr>\n",
       "    <tr>\n",
       "      <th>9</th>\n",
       "      <td>Eko Software</td>\n",
       "      <td>0.0</td>\n",
       "      <td>0.0</td>\n",
       "      <td>0.0</td>\n",
       "      <td>Bigben Interactive</td>\n",
       "      <td>0.0</td>\n",
       "      <td>0.0</td>\n",
       "      <td>RPG</td>\n",
       "      <td>Adventure</td>\n",
       "      <td>Hack and Slash</td>\n",
       "      <td>Action</td>\n",
       "      <td>Action RPG</td>\n",
       "      <td>Single-player</td>\n",
       "      <td>Multi-player</td>\n",
       "      <td>Co-op</td>\n",
       "      <td>Online Co-op</td>\n",
       "      <td>Local Co-op</td>\n",
       "      <td>Action</td>\n",
       "      <td>Adventure</td>\n",
       "      <td>Adventure</td>\n",
       "    </tr>\n",
       "    <tr>\n",
       "      <th>...</th>\n",
       "      <td>...</td>\n",
       "      <td>...</td>\n",
       "      <td>...</td>\n",
       "      <td>...</td>\n",
       "      <td>...</td>\n",
       "      <td>...</td>\n",
       "      <td>...</td>\n",
       "      <td>...</td>\n",
       "      <td>...</td>\n",
       "      <td>...</td>\n",
       "      <td>...</td>\n",
       "      <td>...</td>\n",
       "      <td>...</td>\n",
       "      <td>...</td>\n",
       "      <td>...</td>\n",
       "      <td>...</td>\n",
       "      <td>...</td>\n",
       "      <td>...</td>\n",
       "      <td>...</td>\n",
       "      <td>...</td>\n",
       "    </tr>\n",
       "    <tr>\n",
       "      <th>17330</th>\n",
       "      <td>+7 Software</td>\n",
       "      <td>0.0</td>\n",
       "      <td>0.0</td>\n",
       "      <td>0.0</td>\n",
       "      <td>+7 Software</td>\n",
       "      <td>0.0</td>\n",
       "      <td>0.0</td>\n",
       "      <td>Action</td>\n",
       "      <td>Indie</td>\n",
       "      <td>Casual</td>\n",
       "      <td>Co-op</td>\n",
       "      <td>Top-Down Shooter</td>\n",
       "      <td>Single-player</td>\n",
       "      <td>Multi-player</td>\n",
       "      <td>Co-op</td>\n",
       "      <td>Online Co-op</td>\n",
       "      <td>Local Co-op</td>\n",
       "      <td>Action</td>\n",
       "      <td>Casual</td>\n",
       "      <td>Casual</td>\n",
       "    </tr>\n",
       "    <tr>\n",
       "      <th>17331</th>\n",
       "      <td>GAMES FOR HUMANS</td>\n",
       "      <td>0.0</td>\n",
       "      <td>0.0</td>\n",
       "      <td>0.0</td>\n",
       "      <td>GAMES FOR HUMANS</td>\n",
       "      <td>0.0</td>\n",
       "      <td>0.0</td>\n",
       "      <td>Casual</td>\n",
       "      <td>Action</td>\n",
       "      <td>Indie</td>\n",
       "      <td>2D</td>\n",
       "      <td>Minimalist</td>\n",
       "      <td>Single-player</td>\n",
       "      <td>Steam Achievements</td>\n",
       "      <td>Full controller support</td>\n",
       "      <td>Steam Trading Cards</td>\n",
       "      <td>Stats</td>\n",
       "      <td>Action</td>\n",
       "      <td>Casual</td>\n",
       "      <td>Casual</td>\n",
       "    </tr>\n",
       "    <tr>\n",
       "      <th>17334</th>\n",
       "      <td>PlayZilla.tk</td>\n",
       "      <td>0.0</td>\n",
       "      <td>0.0</td>\n",
       "      <td>0.0</td>\n",
       "      <td>PlayZilla.tk</td>\n",
       "      <td>0.0</td>\n",
       "      <td>0.0</td>\n",
       "      <td>Casual</td>\n",
       "      <td>Adventure</td>\n",
       "      <td>Indie</td>\n",
       "      <td>nan</td>\n",
       "      <td>nan</td>\n",
       "      <td>Single-player</td>\n",
       "      <td>Steam Achievements</td>\n",
       "      <td>Full controller support</td>\n",
       "      <td>Steam Trading Cards</td>\n",
       "      <td>Steam Workshop</td>\n",
       "      <td>Adventure</td>\n",
       "      <td>Casual</td>\n",
       "      <td>Casual</td>\n",
       "    </tr>\n",
       "    <tr>\n",
       "      <th>17337</th>\n",
       "      <td>Alonzu,@alonzubin</td>\n",
       "      <td>0.0</td>\n",
       "      <td>0.01763758352336639</td>\n",
       "      <td>0.0</td>\n",
       "      <td>AlonZubina</td>\n",
       "      <td>0.0</td>\n",
       "      <td>0.0</td>\n",
       "      <td>Adventure</td>\n",
       "      <td>Indie</td>\n",
       "      <td>Simulation</td>\n",
       "      <td>nan</td>\n",
       "      <td>nan</td>\n",
       "      <td>Single-player</td>\n",
       "      <td>nan</td>\n",
       "      <td>nan</td>\n",
       "      <td>nan</td>\n",
       "      <td>nan</td>\n",
       "      <td>Adventure</td>\n",
       "      <td>Indie</td>\n",
       "      <td>Indie</td>\n",
       "    </tr>\n",
       "    <tr>\n",
       "      <th>17352</th>\n",
       "      <td>Anawiki Games</td>\n",
       "      <td>0.0</td>\n",
       "      <td>0.0</td>\n",
       "      <td>0.0</td>\n",
       "      <td>Anawiki Games</td>\n",
       "      <td>0.0</td>\n",
       "      <td>0.0</td>\n",
       "      <td>Strategy</td>\n",
       "      <td>Indie</td>\n",
       "      <td>Casual</td>\n",
       "      <td>Card Game</td>\n",
       "      <td>nan</td>\n",
       "      <td>Single-player</td>\n",
       "      <td>Steam Achievements</td>\n",
       "      <td>Steam Trading Cards</td>\n",
       "      <td>nan</td>\n",
       "      <td>nan</td>\n",
       "      <td>Casual</td>\n",
       "      <td>Indie</td>\n",
       "      <td>Indie</td>\n",
       "    </tr>\n",
       "  </tbody>\n",
       "</table>\n",
       "<p>4636 rows × 20 columns</p>\n",
       "</div>"
      ],
      "text/plain": [
       "                 developer developer            developer developer  \\\n",
       "1         PUBG Corporation       0.0                  0.0       0.0   \n",
       "2      Harebrained Schemes       0.0                  0.0       0.0   \n",
       "3      Bohemia Interactive       0.0                  0.0       0.0   \n",
       "4                      CCP       0.0                  0.0       0.0   \n",
       "9             Eko Software       0.0                  0.0       0.0   \n",
       "...                    ...       ...                  ...       ...   \n",
       "17330          +7 Software       0.0                  0.0       0.0   \n",
       "17331     GAMES FOR HUMANS       0.0                  0.0       0.0   \n",
       "17334         PlayZilla.tk       0.0                  0.0       0.0   \n",
       "17337    Alonzu,@alonzubin       0.0  0.01763758352336639       0.0   \n",
       "17352        Anawiki Games       0.0                  0.0       0.0   \n",
       "\n",
       "                 publisher publisher publisher       tag0  \\\n",
       "1         PUBG Corporation       0.0       0.0   Survival   \n",
       "2      Paradox Interactive       0.0       0.0      Mechs   \n",
       "3      Bohemia Interactive       0.0       0.0   Survival   \n",
       "4                      CCP       0.0       0.0      Space   \n",
       "9       Bigben Interactive       0.0       0.0        RPG   \n",
       "...                    ...       ...       ...        ...   \n",
       "17330          +7 Software       0.0       0.0     Action   \n",
       "17331     GAMES FOR HUMANS       0.0       0.0     Casual   \n",
       "17334         PlayZilla.tk       0.0       0.0     Casual   \n",
       "17337           AlonZubina       0.0       0.0  Adventure   \n",
       "17352        Anawiki Games       0.0       0.0   Strategy   \n",
       "\n",
       "                        tag1            tag2                tag3  \\\n",
       "1                    Shooter     Multiplayer       Battle Royale   \n",
       "2                   Strategy      Turn-Based  Turn-Based Tactics   \n",
       "3                    Zombies      Open World         Multiplayer   \n",
       "4      Massively Multiplayer          Sci-fi             Sandbox   \n",
       "9                  Adventure  Hack and Slash              Action   \n",
       "...                      ...             ...                 ...   \n",
       "17330                  Indie          Casual               Co-op   \n",
       "17331                 Action           Indie                  2D   \n",
       "17334              Adventure           Indie                 nan   \n",
       "17337                  Indie      Simulation                 nan   \n",
       "17352                  Indie          Casual           Card Game   \n",
       "\n",
       "                   tag4        detail0              detail1  \\\n",
       "1                   PvP   Multi-player  Online Multi-Player   \n",
       "2                Sci-fi  Single-player         Multi-player   \n",
       "3                   PvP   Multi-player  Online Multi-Player   \n",
       "4                MMORPG   Multi-player  Online Multi-Player   \n",
       "9            Action RPG  Single-player         Multi-player   \n",
       "...                 ...            ...                  ...   \n",
       "17330  Top-Down Shooter  Single-player         Multi-player   \n",
       "17331        Minimalist  Single-player   Steam Achievements   \n",
       "17334               nan  Single-player   Steam Achievements   \n",
       "17337               nan  Single-player                  nan   \n",
       "17352               nan  Single-player   Steam Achievements   \n",
       "\n",
       "                       detail2                     detail3  \\\n",
       "1                        Stats                         nan   \n",
       "2          Online Multi-Player  Cross-Platform Multiplayer   \n",
       "3               Steam Workshop                 Steam Cloud   \n",
       "4                          MMO                       Co-op   \n",
       "9                        Co-op                Online Co-op   \n",
       "...                        ...                         ...   \n",
       "17330                    Co-op                Online Co-op   \n",
       "17331  Full controller support         Steam Trading Cards   \n",
       "17334  Full controller support         Steam Trading Cards   \n",
       "17337                      nan                         nan   \n",
       "17352      Steam Trading Cards                         nan   \n",
       "\n",
       "                        detail4     genre0        genre1        genre1  \n",
       "1                           nan     Action     Adventure     Adventure  \n",
       "2            Steam Achievements     Action     Adventure     Adventure  \n",
       "3      Valve Anti-Cheat enabled     Action     Adventure     Adventure  \n",
       "4                  Online Co-op     Action  Free to Play  Free to Play  \n",
       "9                   Local Co-op     Action     Adventure     Adventure  \n",
       "...                         ...        ...           ...           ...  \n",
       "17330               Local Co-op     Action        Casual        Casual  \n",
       "17331                     Stats     Action        Casual        Casual  \n",
       "17334            Steam Workshop  Adventure        Casual        Casual  \n",
       "17337                       nan  Adventure         Indie         Indie  \n",
       "17352                       nan     Casual         Indie         Indie  \n",
       "\n",
       "[4636 rows x 20 columns]"
      ]
     },
     "execution_count": 120,
     "metadata": {},
     "output_type": "execute_result"
    }
   ],
   "source": [
    "X[cat_cols].astype(str)"
   ]
  },
  {
   "cell_type": "code",
   "execution_count": 121,
   "metadata": {},
   "outputs": [],
   "source": [
    "cols = [1,2,3,5,6]"
   ]
  },
  {
   "cell_type": "code",
   "execution_count": 122,
   "metadata": {},
   "outputs": [
    {
     "name": "stderr",
     "output_type": "stream",
     "text": [
      "/Users/pavelgolubev/opt/anaconda3/lib/python3.7/site-packages/pandas/core/frame.py:3997: SettingWithCopyWarning:\n",
      "\n",
      "\n",
      "A value is trying to be set on a copy of a slice from a DataFrame\n",
      "\n",
      "See the caveats in the documentation: https://pandas.pydata.org/pandas-docs/stable/user_guide/indexing.html#returning-a-view-versus-a-copy\n",
      "\n"
     ]
    }
   ],
   "source": [
    "X.drop(X.columns[cols], axis = 1, inplace = True)"
   ]
  },
  {
   "cell_type": "code",
   "execution_count": 123,
   "metadata": {},
   "outputs": [
    {
     "data": {
      "text/plain": [
       "1           Mixed\n",
       "2        Positive\n",
       "3           Mixed\n",
       "4        Positive\n",
       "9           Mixed\n",
       "           ...   \n",
       "17330    Positive\n",
       "17331    Positive\n",
       "17334    Positive\n",
       "17337    Positive\n",
       "17352    Positive\n",
       "Name: all_reviews, Length: 4636, dtype: object"
      ]
     },
     "execution_count": 123,
     "metadata": {},
     "output_type": "execute_result"
    }
   ],
   "source": [
    "y.astype(str)"
   ]
  },
  {
   "cell_type": "code",
   "execution_count": 124,
   "metadata": {},
   "outputs": [],
   "source": [
    "X = X.loc[:,~X.columns.duplicated()]"
   ]
  },
  {
   "cell_type": "code",
   "execution_count": 125,
   "metadata": {},
   "outputs": [],
   "source": [
    "X.dropna(inplace = True)"
   ]
  },
  {
   "cell_type": "code",
   "execution_count": 152,
   "metadata": {},
   "outputs": [],
   "source": [
    "X['release_date'] = X['release_date'].astype(str)"
   ]
  },
  {
   "cell_type": "markdown",
   "metadata": {},
   "source": [
    "## Building the model\n",
    "Here we will use the same approach as in part 1 - CatBoost\\\n",
    "We will train our classifier on three classes using new features we have generated and compare the results with our previous attempt in part 1. \\\n",
    "In th end, we will look at feature importances to see what new features helped to improve the result (if it improves:))"
   ]
  },
  {
   "cell_type": "code",
   "execution_count": 153,
   "metadata": {},
   "outputs": [],
   "source": [
    "X_train, X_test, y_train, y_test = train_test_split(X,y, test_size=0.33)"
   ]
  },
  {
   "cell_type": "code",
   "execution_count": 154,
   "metadata": {},
   "outputs": [],
   "source": [
    "from catboost import CatBoostClassifier, Pool\n",
    "import catboost as cb\n",
    "import sys"
   ]
  },
  {
   "cell_type": "code",
   "execution_count": 155,
   "metadata": {},
   "outputs": [],
   "source": [
    "import hyperopt\n",
    "import sys"
   ]
  },
  {
   "cell_type": "code",
   "execution_count": 156,
   "metadata": {},
   "outputs": [],
   "source": [
    "class UciAdultClassifierObjective(object):\n",
    "    def __init__(self, dataset, const_params, fold_count):\n",
    "        self._dataset = dataset\n",
    "        self._const_params = const_params.copy()\n",
    "        self._fold_count = fold_count\n",
    "        self._evaluated_count = 0\n",
    "        \n",
    "    def _to_catboost_params(self, hyper_params):\n",
    "        return {\n",
    "            'learning_rate': hyper_params['learning_rate'],\n",
    "            'depth': hyper_params['depth'],\n",
    "            'l2_leaf_reg': hyper_params['l2_leaf_reg']}\n",
    "    \n",
    "    # hyperopt optimizes an objective using `__call__` method (e.g. by doing \n",
    "    # `foo(hyper_params)`), so we provide one\n",
    "    def __call__(self, hyper_params):\n",
    "        # join hyper-parameters provided by hyperopt with hyper-parameters \n",
    "        # provided by the user\n",
    "        params = self._to_catboost_params(hyper_params)\n",
    "        params.update(self._const_params)\n",
    "        \n",
    "        print('evaluating params={}'.format(params), file=sys.stdout)\n",
    "        sys.stdout.flush()\n",
    "        \n",
    "        # we use cross-validation for objective evaluation, to avoid overfitting\n",
    "        scores = cb.cv(\n",
    "            pool=self._dataset,\n",
    "            params=params,\n",
    "            fold_count=self._fold_count,\n",
    "            partition_random_seed=20181224,\n",
    "            verbose=False)\n",
    "        \n",
    "        # scores returns a dictionary with mean and std (per-fold) of metric \n",
    "        # value for each cv iteration, we choose minimal value of objective \n",
    "        # mean (though it will be better to choose minimal value among all folds)\n",
    "        # because noise is additive\n",
    "        max_mean_acc = np.max(scores['test-Accuracy-mean'])\n",
    "        print('evaluated score={}'.format(max_mean_acc), file=sys.stdout)\n",
    "        \n",
    "        self._evaluated_count += 1\n",
    "        print('evaluated {} times'.format(self._evaluated_count), file=sys.stdout)\n",
    "        \n",
    "        # negate because hyperopt minimizes the objective\n",
    "        return {'loss': -max_mean_acc, 'status': hyperopt.STATUS_OK}"
   ]
  },
  {
   "cell_type": "code",
   "execution_count": null,
   "metadata": {},
   "outputs": [],
   "source": []
  },
  {
   "cell_type": "code",
   "execution_count": 157,
   "metadata": {},
   "outputs": [],
   "source": [
    "def find_best_hyper_params(dataset, const_params, max_evals=100):    \n",
    "    # we are going to optimize these three parameters, though there are a lot more of them (see CatBoost docs)\n",
    "    parameter_space = {\n",
    "        'learning_rate': hyperopt.hp.uniform('learning_rate', 0.2, 1.0),\n",
    "        'depth': hyperopt.hp.randint('depth', 7),\n",
    "        'l2_leaf_reg': hyperopt.hp.uniform('l2_leaf_reg', 1, 10)}\n",
    "    objective = UciAdultClassifierObjective(dataset=dataset, const_params=const_params, fold_count=6)\n",
    "    trials = hyperopt.Trials()\n",
    "    best = hyperopt.fmin(\n",
    "        fn=objective,\n",
    "        space=parameter_space,\n",
    "        algo=hyperopt.rand.suggest,\n",
    "        max_evals=max_evals,\n",
    "        rstate=np.random.RandomState(seed=20181224))\n",
    "    return best\n",
    "\n",
    "def train_best_model(X, y, const_params, max_evals=100, use_default=False):\n",
    "    # convert pandas.DataFrame to catboost.Pool to avoid converting it on each \n",
    "    # iteration of hyper-parameters optimization\n",
    "    dataset = cb.Pool(X, y, cat_features=np.where(X.dtypes != np.float)[0])\n",
    "    \n",
    "    if use_default:\n",
    "        # pretrained optimal parameters\n",
    "        best = {\n",
    "            'learning_rate': 0.4234185321620083, \n",
    "            'depth': 5, \n",
    "            'l2_leaf_reg': 9.464266235679002}\n",
    "    else:\n",
    "        best = find_best_hyper_params(dataset, const_params, max_evals=max_evals)\n",
    "    \n",
    "    # merge subset of hyper-parameters provided by hyperopt with hyper-parameters \n",
    "    # provided by the user\n",
    "    hyper_params = best.copy()\n",
    "    hyper_params.update(const_params)\n",
    "    \n",
    "    # drop `use_best_model` because we are going to use entire dataset for \n",
    "    # training of the final model\n",
    "    hyper_params.pop('use_best_model', None)\n",
    "    \n",
    "    model = cb.CatBoostClassifier(**hyper_params)\n",
    "    model.fit(dataset, verbose=False)\n",
    "    \n",
    "    return model, hyper_params"
   ]
  },
  {
   "cell_type": "code",
   "execution_count": 158,
   "metadata": {
    "scrolled": true
   },
   "outputs": [
    {
     "name": "stdout",
     "output_type": "stream",
     "text": [
      "evaluating params={'learning_rate': 0.8370106458894697, 'depth': 0, 'l2_leaf_reg': 8.835837790286535, 'task_type': 'CPU', 'loss_function': 'MultiClass', 'eval_metric': 'Accuracy', 'custom_metric': ['Accuracy'], 'iterations': 100, 'random_seed': 20181224}\n",
      "  0%|          | 0/100 [00:00<?, ?trial/s, best loss=?]"
     ]
    },
    {
     "name": "stderr",
     "output_type": "stream",
     "text": [
      " Warning: The least populated class in y has only 2 members, which is too few. The minimum number of members in any class cannot be less than parts count=6\n",
      "\n"
     ]
    },
    {
     "name": "stdout",
     "output_type": "stream",
     "text": [
      "evaluated score=0.8657462122887654                     \n",
      "evaluated 1 times                                      \n",
      "evaluating params={'learning_rate': 0.8414600898588487, 'depth': 3, 'l2_leaf_reg': 3.841780975474402, 'task_type': 'CPU', 'loss_function': 'MultiClass', 'eval_metric': 'Accuracy', 'custom_metric': ['Accuracy'], 'iterations': 100, 'random_seed': 20181224}\n",
      "  1%|          | 1/100 [00:08<13:23,  8.11s/trial, best loss: -0.8657462122887654]"
     ]
    },
    {
     "name": "stderr",
     "output_type": "stream",
     "text": [
      " Warning: The least populated class in y has only 2 members, which is too few. The minimum number of members in any class cannot be less than parts count=6\n",
      "\n"
     ]
    },
    {
     "name": "stdout",
     "output_type": "stream",
     "text": [
      "evaluated score=0.8686469439129013                                                \n",
      "evaluated 2 times                                                                 \n",
      "evaluating params={'learning_rate': 0.4234185321620083, 'depth': 5, 'l2_leaf_reg': 9.464266235679002, 'task_type': 'CPU', 'loss_function': 'MultiClass', 'eval_metric': 'Accuracy', 'custom_metric': ['Accuracy'], 'iterations': 100, 'random_seed': 20181224}\n",
      "  2%|▏         | 2/100 [00:36<23:25, 14.34s/trial, best loss: -0.8686469439129013]"
     ]
    },
    {
     "name": "stderr",
     "output_type": "stream",
     "text": [
      " Warning: The least populated class in y has only 2 members, which is too few. The minimum number of members in any class cannot be less than parts count=6\n",
      "\n"
     ]
    },
    {
     "name": "stdout",
     "output_type": "stream",
     "text": [
      "evaluated score=0.8683276757744843                                                \n",
      "evaluated 3 times                                                                 \n",
      "evaluating params={'learning_rate': 0.22471545632474588, 'depth': 3, 'l2_leaf_reg': 7.1682035345674, 'task_type': 'CPU', 'loss_function': 'MultiClass', 'eval_metric': 'Accuracy', 'custom_metric': ['Accuracy'], 'iterations': 100, 'random_seed': 20181224}\n",
      "  3%|▎         | 3/100 [01:44<49:05, 30.36s/trial, best loss: -0.8686469439129013]"
     ]
    },
    {
     "name": "stderr",
     "output_type": "stream",
     "text": [
      " Warning: The least populated class in y has only 2 members, which is too few. The minimum number of members in any class cannot be less than parts count=6\n",
      "\n"
     ]
    },
    {
     "name": "stdout",
     "output_type": "stream",
     "text": [
      "evaluated score=0.8676748687386985                                                \n",
      "evaluated 4 times                                                                 \n",
      "evaluating params={'learning_rate': 0.4007448994237649, 'depth': 5, 'l2_leaf_reg': 9.166597045734488, 'task_type': 'CPU', 'loss_function': 'MultiClass', 'eval_metric': 'Accuracy', 'custom_metric': ['Accuracy'], 'iterations': 100, 'random_seed': 20181224}\n",
      "  4%|▍         | 4/100 [02:11<46:58, 29.36s/trial, best loss: -0.8686469439129013]"
     ]
    },
    {
     "name": "stderr",
     "output_type": "stream",
     "text": [
      " Warning: The least populated class in y has only 2 members, which is too few. The minimum number of members in any class cannot be less than parts count=6\n",
      "\n"
     ]
    },
    {
     "name": "stdout",
     "output_type": "stream",
     "text": [
      "evaluated score=0.86896870141551                                                  \n",
      "evaluated 5 times                                                                 \n",
      "evaluating params={'learning_rate': 0.6035795774443979, 'depth': 1, 'l2_leaf_reg': 6.57277845681401, 'task_type': 'CPU', 'loss_function': 'MultiClass', 'eval_metric': 'Accuracy', 'custom_metric': ['Accuracy'], 'iterations': 100, 'random_seed': 20181224}\n",
      "  5%|▌         | 5/100 [03:21<1:05:45, 41.53s/trial, best loss: -0.86896870141551]"
     ]
    },
    {
     "name": "stderr",
     "output_type": "stream",
     "text": [
      " Warning: The least populated class in y has only 2 members, which is too few. The minimum number of members in any class cannot be less than parts count=6\n",
      "\n"
     ]
    },
    {
     "name": "stdout",
     "output_type": "stream",
     "text": [
      "evaluated score=0.8699296103551424                                                \n",
      "evaluated 6 times                                                                 \n",
      "evaluating params={'learning_rate': 0.34665652413917175, 'depth': 5, 'l2_leaf_reg': 4.627187180193483, 'task_type': 'CPU', 'loss_function': 'MultiClass', 'eval_metric': 'Accuracy', 'custom_metric': ['Accuracy'], 'iterations': 100, 'random_seed': 20181224}\n",
      "  6%|▌         | 6/100 [03:37<53:11, 33.95s/trial, best loss: -0.8699296103551424]"
     ]
    },
    {
     "name": "stderr",
     "output_type": "stream",
     "text": [
      " Warning: The least populated class in y has only 2 members, which is too few. The minimum number of members in any class cannot be less than parts count=6\n",
      "\n"
     ]
    },
    {
     "name": "stdout",
     "output_type": "stream",
     "text": [
      "evaluated score=0.8692910597165917                                                \n",
      "evaluated 7 times                                                                 \n",
      "evaluating params={'learning_rate': 0.7290697164191682, 'depth': 2, 'l2_leaf_reg': 5.9053685596093874, 'task_type': 'CPU', 'loss_function': 'MultiClass', 'eval_metric': 'Accuracy', 'custom_metric': ['Accuracy'], 'iterations': 100, 'random_seed': 20181224}\n",
      "  7%|▋         | 7/100 [04:55<1:13:00, 47.11s/trial, best loss: -0.8699296103551424]"
     ]
    },
    {
     "name": "stderr",
     "output_type": "stream",
     "text": [
      " Warning: The least populated class in y has only 2 members, which is too few. The minimum number of members in any class cannot be less than parts count=6\n",
      "\n"
     ]
    },
    {
     "name": "stdout",
     "output_type": "stream",
     "text": [
      "evaluated score=0.8676742535785088                                                  \n",
      "evaluated 8 times                                                                   \n",
      "evaluating params={'learning_rate': 0.46610105978348887, 'depth': 2, 'l2_leaf_reg': 6.531608540940916, 'task_type': 'CPU', 'loss_function': 'MultiClass', 'eval_metric': 'Accuracy', 'custom_metric': ['Accuracy'], 'iterations': 100, 'random_seed': 20181224}\n",
      "  8%|▊         | 8/100 [05:16<1:00:13, 39.27s/trial, best loss: -0.8699296103551424]"
     ]
    },
    {
     "name": "stderr",
     "output_type": "stream",
     "text": [
      " Warning: The least populated class in y has only 2 members, which is too few. The minimum number of members in any class cannot be less than parts count=6\n",
      "\n"
     ]
    },
    {
     "name": "stdout",
     "output_type": "stream",
     "text": [
      "evaluated score=0.8686463287527117                                                  \n",
      "evaluated 9 times                                                                   \n",
      "evaluating params={'learning_rate': 0.6652303888271369, 'depth': 5, 'l2_leaf_reg': 6.706159252357066, 'task_type': 'CPU', 'loss_function': 'MultiClass', 'eval_metric': 'Accuracy', 'custom_metric': ['Accuracy'], 'iterations': 100, 'random_seed': 20181224}\n",
      "  9%|▉         | 9/100 [05:37<51:20, 33.86s/trial, best loss: -0.8699296103551424]"
     ]
    },
    {
     "name": "stderr",
     "output_type": "stream",
     "text": [
      " Warning: The least populated class in y has only 2 members, which is too few. The minimum number of members in any class cannot be less than parts count=6\n",
      "\n"
     ]
    },
    {
     "name": "stdout",
     "output_type": "stream",
     "text": [
      "evaluated score=0.868324564069245                                                 \n",
      "evaluated 10 times                                                                \n",
      "evaluating params={'learning_rate': 0.8903978509893837, 'depth': 0, 'l2_leaf_reg': 5.966611099029412, 'task_type': 'CPU', 'loss_function': 'MultiClass', 'eval_metric': 'Accuracy', 'custom_metric': ['Accuracy'], 'iterations': 100, 'random_seed': 20181224}\n",
      " 10%|█         | 10/100 [06:53<1:09:41, 46.46s/trial, best loss: -0.8699296103551424]"
     ]
    },
    {
     "name": "stderr",
     "output_type": "stream",
     "text": [
      " Warning: The least populated class in y has only 2 members, which is too few. The minimum number of members in any class cannot be less than parts count=6\n",
      "\n"
     ]
    },
    {
     "name": "stdout",
     "output_type": "stream",
     "text": [
      "evaluated score=0.8657462122887654                                                   \n",
      "evaluated 11 times                                                                   \n",
      "evaluating params={'learning_rate': 0.662529025136881, 'depth': 5, 'l2_leaf_reg': 8.583949294731982, 'task_type': 'CPU', 'loss_function': 'MultiClass', 'eval_metric': 'Accuracy', 'custom_metric': ['Accuracy'], 'iterations': 100, 'random_seed': 20181224}\n",
      " 11%|█         | 11/100 [07:03<52:24, 35.33s/trial, best loss: -0.8699296103551424]"
     ]
    },
    {
     "name": "stderr",
     "output_type": "stream",
     "text": [
      " Warning: The least populated class in y has only 2 members, which is too few. The minimum number of members in any class cannot be less than parts count=6\n",
      "\n"
     ]
    },
    {
     "name": "stdout",
     "output_type": "stream",
     "text": [
      "evaluated score=0.8686456992308056                                                 \n",
      "evaluated 12 times                                                                 \n",
      "evaluating params={'learning_rate': 0.8626290632298594, 'depth': 4, 'l2_leaf_reg': 5.857082940614299, 'task_type': 'CPU', 'loss_function': 'MultiClass', 'eval_metric': 'Accuracy', 'custom_metric': ['Accuracy'], 'iterations': 100, 'random_seed': 20181224}\n",
      " 12%|█▏        | 12/100 [08:23<1:11:40, 48.87s/trial, best loss: -0.8699296103551424]"
     ]
    },
    {
     "name": "stderr",
     "output_type": "stream",
     "text": [
      " Warning: The least populated class in y has only 2 members, which is too few. The minimum number of members in any class cannot be less than parts count=6\n",
      "\n"
     ]
    },
    {
     "name": "stdout",
     "output_type": "stream",
     "text": [
      "evaluated score=0.8651051866477397                                                   \n",
      "evaluated 13 times                                                                   \n",
      "evaluating params={'learning_rate': 0.7048806778933194, 'depth': 2, 'l2_leaf_reg': 6.130033478034561, 'task_type': 'CPU', 'loss_function': 'MultiClass', 'eval_metric': 'Accuracy', 'custom_metric': ['Accuracy'], 'iterations': 100, 'random_seed': 20181224}\n",
      " 13%|█▎        | 13/100 [09:11<1:10:30, 48.63s/trial, best loss: -0.8699296103551424]"
     ]
    },
    {
     "name": "stderr",
     "output_type": "stream",
     "text": [
      " Warning: The least populated class in y has only 2 members, which is too few. The minimum number of members in any class cannot be less than parts count=6\n",
      "\n"
     ]
    },
    {
     "name": "stdout",
     "output_type": "stream",
     "text": [
      "evaluated score=0.8679960039002591                                                   \n",
      "evaluated 14 times                                                                   \n",
      "evaluating params={'learning_rate': 0.5607500300282854, 'depth': 5, 'l2_leaf_reg': 9.327068131764127, 'task_type': 'CPU', 'loss_function': 'MultiClass', 'eval_metric': 'Accuracy', 'custom_metric': ['Accuracy'], 'iterations': 100, 'random_seed': 20181224}\n",
      " 14%|█▍        | 14/100 [09:33<58:08, 40.57s/trial, best loss: -0.8699296103551424]"
     ]
    },
    {
     "name": "stderr",
     "output_type": "stream",
     "text": [
      " Warning: The least populated class in y has only 2 members, which is too few. The minimum number of members in any class cannot be less than parts count=6\n",
      "\n"
     ]
    },
    {
     "name": "stdout",
     "output_type": "stream",
     "text": [
      "evaluated score=0.8670418904461458                                                 \n",
      "evaluated 15 times                                                                 \n",
      "evaluating params={'learning_rate': 0.8379617890021351, 'depth': 2, 'l2_leaf_reg': 1.1914658620655203, 'task_type': 'CPU', 'loss_function': 'MultiClass', 'eval_metric': 'Accuracy', 'custom_metric': ['Accuracy'], 'iterations': 100, 'random_seed': 20181224}\n",
      " 15%|█▌        | 15/100 [10:57<1:16:09, 53.76s/trial, best loss: -0.8699296103551424]"
     ]
    },
    {
     "name": "stderr",
     "output_type": "stream",
     "text": [
      " Warning: The least populated class in y has only 2 members, which is too few. The minimum number of members in any class cannot be less than parts count=6\n",
      "\n"
     ]
    },
    {
     "name": "stdout",
     "output_type": "stream",
     "text": [
      "evaluated score=0.8657462122887654                                                   \n",
      "evaluated 16 times                                                                   \n",
      "evaluating params={'learning_rate': 0.7084504485390821, 'depth': 1, 'l2_leaf_reg': 8.77462819491742, 'task_type': 'CPU', 'loss_function': 'MultiClass', 'eval_metric': 'Accuracy', 'custom_metric': ['Accuracy'], 'iterations': 100, 'random_seed': 20181224}\n",
      " 16%|█▌        | 16/100 [11:21<1:02:24, 44.58s/trial, best loss: -0.8699296103551424]"
     ]
    },
    {
     "name": "stderr",
     "output_type": "stream",
     "text": [
      " Warning: The least populated class in y has only 2 members, which is too few. The minimum number of members in any class cannot be less than parts count=6\n",
      "\n"
     ]
    },
    {
     "name": "stdout",
     "output_type": "stream",
     "text": [
      "evaluated score=0.8696084823744398                                                   \n",
      "evaluated 17 times                                                                   \n",
      "evaluating params={'learning_rate': 0.7765482036679838, 'depth': 4, 'l2_leaf_reg': 1.2270781826525714, 'task_type': 'CPU', 'loss_function': 'MultiClass', 'eval_metric': 'Accuracy', 'custom_metric': ['Accuracy'], 'iterations': 100, 'random_seed': 20181224}\n",
      " 17%|█▋        | 17/100 [11:37<50:03, 36.18s/trial, best loss: -0.8699296103551424]"
     ]
    },
    {
     "name": "stderr",
     "output_type": "stream",
     "text": [
      " Warning: The least populated class in y has only 2 members, which is too few. The minimum number of members in any class cannot be less than parts count=6\n",
      "\n"
     ]
    },
    {
     "name": "stdout",
     "output_type": "stream",
     "text": [
      "evaluated score=0.8651051866477397                                                 \n",
      "evaluated 18 times                                                                 \n",
      "evaluating params={'learning_rate': 0.4688598682627865, 'depth': 6, 'l2_leaf_reg': 6.426281836216337, 'task_type': 'CPU', 'loss_function': 'MultiClass', 'eval_metric': 'Accuracy', 'custom_metric': ['Accuracy'], 'iterations': 100, 'random_seed': 20181224}\n",
      " 18%|█▊        | 18/100 [12:43<1:01:46, 45.20s/trial, best loss: -0.8699296103551424]"
     ]
    },
    {
     "name": "stderr",
     "output_type": "stream",
     "text": [
      " Warning: The least populated class in y has only 2 members, which is too few. The minimum number of members in any class cannot be less than parts count=6\n",
      "\n"
     ]
    },
    {
     "name": "stdout",
     "output_type": "stream",
     "text": [
      "evaluated score=0.8683245712501032                                                   \n",
      "evaluated 19 times                                                                   \n",
      "evaluating params={'learning_rate': 0.9903819698303973, 'depth': 5, 'l2_leaf_reg': 1.109428741693996, 'task_type': 'CPU', 'loss_function': 'MultiClass', 'eval_metric': 'Accuracy', 'custom_metric': ['Accuracy'], 'iterations': 100, 'random_seed': 20181224}\n",
      " 19%|█▉        | 19/100 [15:20<1:46:09, 78.64s/trial, best loss: -0.8699296103551424]"
     ]
    },
    {
     "name": "stderr",
     "output_type": "stream",
     "text": [
      " Warning: The least populated class in y has only 2 members, which is too few. The minimum number of members in any class cannot be less than parts count=6\n",
      "\n"
     ]
    },
    {
     "name": "stdout",
     "output_type": "stream",
     "text": [
      "evaluated score=0.8651051866477397                                                   \n",
      "evaluated 20 times                                                                   \n",
      "evaluating params={'learning_rate': 0.36658391496240506, 'depth': 4, 'l2_leaf_reg': 4.777578117288439, 'task_type': 'CPU', 'loss_function': 'MultiClass', 'eval_metric': 'Accuracy', 'custom_metric': ['Accuracy'], 'iterations': 100, 'random_seed': 20181224}\n",
      " 20%|██        | 20/100 [17:01<1:53:36, 85.21s/trial, best loss: -0.8699296103551424]"
     ]
    },
    {
     "name": "stderr",
     "output_type": "stream",
     "text": [
      " Warning: The least populated class in y has only 2 members, which is too few. The minimum number of members in any class cannot be less than parts count=6\n",
      "\n"
     ]
    },
    {
     "name": "stdout",
     "output_type": "stream",
     "text": [
      "evaluated score=0.8696128244000584                                                   \n",
      "evaluated 21 times                                                                   \n",
      "evaluating params={'learning_rate': 0.3548362548720143, 'depth': 6, 'l2_leaf_reg': 2.683829844728577, 'task_type': 'CPU', 'loss_function': 'MultiClass', 'eval_metric': 'Accuracy', 'custom_metric': ['Accuracy'], 'iterations': 100, 'random_seed': 20181224}\n",
      " 21%|██        | 21/100 [18:07<1:44:38, 79.47s/trial, best loss: -0.8699296103551424]"
     ]
    },
    {
     "name": "stderr",
     "output_type": "stream",
     "text": [
      " Warning: The least populated class in y has only 2 members, which is too few. The minimum number of members in any class cannot be less than parts count=6\n",
      "\n"
     ]
    },
    {
     "name": "stdout",
     "output_type": "stream",
     "text": [
      "evaluated score=0.8699296175360005                                                   \n",
      "evaluated 22 times                                                                   \n",
      "evaluating params={'learning_rate': 0.34157254294917927, 'depth': 2, 'l2_leaf_reg': 5.898356054606159, 'task_type': 'CPU', 'loss_function': 'MultiClass', 'eval_metric': 'Accuracy', 'custom_metric': ['Accuracy'], 'iterations': 100, 'random_seed': 20181224}\n",
      " 22%|██▏       | 22/100 [21:02<2:20:50, 108.34s/trial, best loss: -0.8699296175360005]"
     ]
    },
    {
     "name": "stderr",
     "output_type": "stream",
     "text": [
      " Warning: The least populated class in y has only 2 members, which is too few. The minimum number of members in any class cannot be less than parts count=6\n",
      "\n"
     ]
    },
    {
     "name": "stdout",
     "output_type": "stream",
     "text": [
      "evaluated score=0.8676748687386985                                                    \n",
      "evaluated 23 times                                                                    \n",
      "evaluating params={'learning_rate': 0.9527042409223028, 'depth': 6, 'l2_leaf_reg': 3.000062000817323, 'task_type': 'CPU', 'loss_function': 'MultiClass', 'eval_metric': 'Accuracy', 'custom_metric': ['Accuracy'], 'iterations': 100, 'random_seed': 20181224}\n",
      " 23%|██▎       | 23/100 [21:32<1:48:50, 84.81s/trial, best loss: -0.8699296175360005]"
     ]
    },
    {
     "name": "stderr",
     "output_type": "stream",
     "text": [
      " Warning: The least populated class in y has only 2 members, which is too few. The minimum number of members in any class cannot be less than parts count=6\n",
      "\n"
     ]
    },
    {
     "name": "stdout",
     "output_type": "stream",
     "text": [
      "evaluated score=0.8651051866477397                                                   \n",
      "evaluated 24 times                                                                   \n",
      "evaluating params={'learning_rate': 0.57241426529656, 'depth': 6, 'l2_leaf_reg': 6.7204797479586285, 'task_type': 'CPU', 'loss_function': 'MultiClass', 'eval_metric': 'Accuracy', 'custom_metric': ['Accuracy'], 'iterations': 100, 'random_seed': 20181224}\n",
      " 24%|██▍       | 24/100 [24:19<2:18:25, 109.29s/trial, best loss: -0.8699296175360005]"
     ]
    },
    {
     "name": "stderr",
     "output_type": "stream",
     "text": [
      " Warning: The least populated class in y has only 2 members, which is too few. The minimum number of members in any class cannot be less than parts count=6\n",
      "\n"
     ]
    },
    {
     "name": "stdout",
     "output_type": "stream",
     "text": [
      "evaluated score=0.8683202292244845                                                    \n",
      "evaluated 25 times                                                                    \n",
      "evaluating params={'learning_rate': 0.5211148575204896, 'depth': 5, 'l2_leaf_reg': 6.118464040111931, 'task_type': 'CPU', 'loss_function': 'MultiClass', 'eval_metric': 'Accuracy', 'custom_metric': ['Accuracy'], 'iterations': 100, 'random_seed': 20181224}\n",
      " 25%|██▌       | 25/100 [27:22<2:44:25, 131.54s/trial, best loss: -0.8699296175360005]"
     ]
    },
    {
     "name": "stderr",
     "output_type": "stream",
     "text": [
      " Warning: The least populated class in y has only 2 members, which is too few. The minimum number of members in any class cannot be less than parts count=6\n",
      "\n"
     ]
    },
    {
     "name": "stdout",
     "output_type": "stream",
     "text": [
      "evaluated score=0.8676810634257442                                                    \n",
      "evaluated 26 times                                                                    \n",
      "evaluating params={'learning_rate': 0.3399851604858861, 'depth': 4, 'l2_leaf_reg': 5.066001346551388, 'task_type': 'CPU', 'loss_function': 'MultiClass', 'eval_metric': 'Accuracy', 'custom_metric': ['Accuracy'], 'iterations': 100, 'random_seed': 20181224}\n",
      " 26%|██▌       | 26/100 [29:04<2:31:14, 122.62s/trial, best loss: -0.8699296175360005]"
     ]
    },
    {
     "name": "stderr",
     "output_type": "stream",
     "text": [
      " Warning: The least populated class in y has only 2 members, which is too few. The minimum number of members in any class cannot be less than parts count=6\n",
      "\n"
     ]
    },
    {
     "name": "stdout",
     "output_type": "stream",
     "text": [
      "evaluated score=0.8686432242283306                                                    \n",
      "evaluated 27 times                                                                    \n",
      "evaluating params={'learning_rate': 0.6644180708450913, 'depth': 4, 'l2_leaf_reg': 1.747360534815254, 'task_type': 'CPU', 'loss_function': 'MultiClass', 'eval_metric': 'Accuracy', 'custom_metric': ['Accuracy'], 'iterations': 100, 'random_seed': 20181224}\n",
      " 27%|██▋       | 27/100 [30:05<2:06:34, 104.04s/trial, best loss: -0.8699296175360005]"
     ]
    },
    {
     "name": "stderr",
     "output_type": "stream",
     "text": [
      " Warning: The least populated class in y has only 2 members, which is too few. The minimum number of members in any class cannot be less than parts count=6\n",
      "\n"
     ]
    },
    {
     "name": "stdout",
     "output_type": "stream",
     "text": [
      "evaluated score=0.8673500210734253                                                    \n",
      "evaluated 28 times                                                                    \n",
      "evaluating params={'learning_rate': 0.37265261187195214, 'depth': 6, 'l2_leaf_reg': 8.282932660961606, 'task_type': 'CPU', 'loss_function': 'MultiClass', 'eval_metric': 'Accuracy', 'custom_metric': ['Accuracy'], 'iterations': 100, 'random_seed': 20181224}\n",
      " 28%|██▊       | 28/100 [31:15<1:52:45, 93.96s/trial, best loss: -0.8699296175360005]"
     ]
    },
    {
     "name": "stderr",
     "output_type": "stream",
     "text": [
      " Warning: The least populated class in y has only 2 members, which is too few. The minimum number of members in any class cannot be less than parts count=6\n",
      "\n"
     ]
    },
    {
     "name": "stdout",
     "output_type": "stream",
     "text": [
      "evaluated score=0.8676748687386985                                                   \n",
      "evaluated 29 times                                                                   \n",
      "evaluating params={'learning_rate': 0.8067076288641906, 'depth': 6, 'l2_leaf_reg': 3.709621719662497, 'task_type': 'CPU', 'loss_function': 'MultiClass', 'eval_metric': 'Accuracy', 'custom_metric': ['Accuracy'], 'iterations': 100, 'random_seed': 20181224}\n",
      " 29%|██▉       | 29/100 [33:53<2:13:57, 113.20s/trial, best loss: -0.8699296175360005]"
     ]
    },
    {
     "name": "stderr",
     "output_type": "stream",
     "text": [
      " Warning: The least populated class in y has only 2 members, which is too few. The minimum number of members in any class cannot be less than parts count=6\n",
      "\n"
     ]
    },
    {
     "name": "stdout",
     "output_type": "stream",
     "text": [
      "evaluated score=0.8686432242283306                                                    \n",
      "evaluated 30 times                                                                    \n",
      "evaluating params={'learning_rate': 0.6180617022456502, 'depth': 3, 'l2_leaf_reg': 3.3693705779662446, 'task_type': 'CPU', 'loss_function': 'MultiClass', 'eval_metric': 'Accuracy', 'custom_metric': ['Accuracy'], 'iterations': 100, 'random_seed': 20181224}\n",
      " 30%|███       | 30/100 [36:36<2:29:15, 127.93s/trial, best loss: -0.8699296175360005]"
     ]
    },
    {
     "name": "stderr",
     "output_type": "stream",
     "text": [
      " Warning: The least populated class in y has only 2 members, which is too few. The minimum number of members in any class cannot be less than parts count=6\n",
      "\n"
     ]
    },
    {
     "name": "stdout",
     "output_type": "stream",
     "text": [
      "evaluated score=0.8686487965743285                                                    \n",
      "evaluated 31 times                                                                    \n",
      "evaluating params={'learning_rate': 0.4893315982302495, 'depth': 5, 'l2_leaf_reg': 6.819784684176986, 'task_type': 'CPU', 'loss_function': 'MultiClass', 'eval_metric': 'Accuracy', 'custom_metric': ['Accuracy'], 'iterations': 100, 'random_seed': 20181224}\n",
      " 31%|███       | 31/100 [37:08<1:54:16, 99.37s/trial, best loss: -0.8699296175360005]"
     ]
    },
    {
     "name": "stderr",
     "output_type": "stream",
     "text": [
      " Warning: The least populated class in y has only 2 members, which is too few. The minimum number of members in any class cannot be less than parts count=6\n",
      "\n"
     ]
    },
    {
     "name": "stdout",
     "output_type": "stream",
     "text": [
      "evaluated score=0.8667182874629682                                                   \n",
      "evaluated 32 times                                                                   \n",
      "evaluating params={'learning_rate': 0.5253981151450626, 'depth': 3, 'l2_leaf_reg': 5.22859499362952, 'task_type': 'CPU', 'loss_function': 'MultiClass', 'eval_metric': 'Accuracy', 'custom_metric': ['Accuracy'], 'iterations': 100, 'random_seed': 20181224}\n",
      " 32%|███▏      | 32/100 [38:45<1:51:50, 98.69s/trial, best loss: -0.8699296175360005]"
     ]
    },
    {
     "name": "stderr",
     "output_type": "stream",
     "text": [
      " Warning: The least populated class in y has only 2 members, which is too few. The minimum number of members in any class cannot be less than parts count=6\n",
      "\n"
     ]
    },
    {
     "name": "stdout",
     "output_type": "stream",
     "text": [
      "evaluated score=0.8680059182718757                                                   \n",
      "evaluated 33 times                                                                   \n",
      "evaluating params={'learning_rate': 0.3354257350958421, 'depth': 2, 'l2_leaf_reg': 2.689521777585739, 'task_type': 'CPU', 'loss_function': 'MultiClass', 'eval_metric': 'Accuracy', 'custom_metric': ['Accuracy'], 'iterations': 100, 'random_seed': 20181224}\n",
      " 33%|███▎      | 33/100 [39:18<1:28:08, 78.93s/trial, best loss: -0.8699296175360005]"
     ]
    },
    {
     "name": "stderr",
     "output_type": "stream",
     "text": [
      " Warning: The least populated class in y has only 2 members, which is too few. The minimum number of members in any class cannot be less than parts count=6\n",
      "\n"
     ]
    },
    {
     "name": "stdout",
     "output_type": "stream",
     "text": [
      "evaluated score=0.868318991723247                                                    \n",
      "evaluated 34 times                                                                   \n",
      "evaluating params={'learning_rate': 0.4834378321016044, 'depth': 5, 'l2_leaf_reg': 6.683855423690435, 'task_type': 'CPU', 'loss_function': 'MultiClass', 'eval_metric': 'Accuracy', 'custom_metric': ['Accuracy'], 'iterations': 100, 'random_seed': 20181224}\n",
      " 34%|███▍      | 34/100 [39:41<1:08:11, 62.00s/trial, best loss: -0.8699296175360005]"
     ]
    },
    {
     "name": "stderr",
     "output_type": "stream",
     "text": [
      " Warning: The least populated class in y has only 2 members, which is too few. The minimum number of members in any class cannot be less than parts count=6\n",
      "\n"
     ]
    },
    {
     "name": "stdout",
     "output_type": "stream",
     "text": [
      "evaluated score=0.8667182874629683                                                   \n",
      "evaluated 35 times                                                                   \n",
      "evaluating params={'learning_rate': 0.3853308403799135, 'depth': 5, 'l2_leaf_reg': 1.3989575209747167, 'task_type': 'CPU', 'loss_function': 'MultiClass', 'eval_metric': 'Accuracy', 'custom_metric': ['Accuracy'], 'iterations': 100, 'random_seed': 20181224}\n",
      " 35%|███▌      | 35/100 [41:20<1:19:25, 73.32s/trial, best loss: -0.8699296175360005]"
     ]
    },
    {
     "name": "stderr",
     "output_type": "stream",
     "text": [
      " Warning: The least populated class in y has only 2 members, which is too few. The minimum number of members in any class cannot be less than parts count=6\n",
      "\n"
     ]
    },
    {
     "name": "stdout",
     "output_type": "stream",
     "text": [
      "evaluated score=0.8689631147077955                                                   \n",
      "evaluated 36 times                                                                   \n",
      "evaluating params={'learning_rate': 0.8179587704736393, 'depth': 2, 'l2_leaf_reg': 5.358056568243893, 'task_type': 'CPU', 'loss_function': 'MultiClass', 'eval_metric': 'Accuracy', 'custom_metric': ['Accuracy'], 'iterations': 100, 'random_seed': 20181224}\n",
      " 36%|███▌      | 36/100 [43:15<1:31:18, 85.60s/trial, best loss: -0.8699296175360005]"
     ]
    },
    {
     "name": "stderr",
     "output_type": "stream",
     "text": [
      " Warning: The least populated class in y has only 2 members, which is too few. The minimum number of members in any class cannot be less than parts count=6\n",
      "\n"
     ]
    },
    {
     "name": "stdout",
     "output_type": "stream",
     "text": [
      "evaluated score=0.8670332207566251                                                   \n",
      "evaluated 37 times                                                                   \n",
      "evaluating params={'learning_rate': 0.46070255062049537, 'depth': 0, 'l2_leaf_reg': 5.556613665141365, 'task_type': 'CPU', 'loss_function': 'MultiClass', 'eval_metric': 'Accuracy', 'custom_metric': ['Accuracy'], 'iterations': 100, 'random_seed': 20181224}\n",
      " 37%|███▋      | 37/100 [43:42<1:11:35, 68.18s/trial, best loss: -0.8699296175360005]"
     ]
    },
    {
     "name": "stderr",
     "output_type": "stream",
     "text": [
      " Warning: The least populated class in y has only 2 members, which is too few. The minimum number of members in any class cannot be less than parts count=6\n",
      "\n"
     ]
    },
    {
     "name": "stdout",
     "output_type": "stream",
     "text": [
      "evaluated score=0.8657462122887654                                                   \n",
      "evaluated 38 times                                                                   \n",
      "evaluating params={'learning_rate': 0.54949744974684, 'depth': 3, 'l2_leaf_reg': 9.974148773979053, 'task_type': 'CPU', 'loss_function': 'MultiClass', 'eval_metric': 'Accuracy', 'custom_metric': ['Accuracy'], 'iterations': 100, 'random_seed': 20181224}\n",
      " 38%|███▊      | 38/100 [43:51<52:09, 50.48s/trial, best loss: -0.8699296175360005]"
     ]
    },
    {
     "name": "stderr",
     "output_type": "stream",
     "text": [
      " Warning: The least populated class in y has only 2 members, which is too few. The minimum number of members in any class cannot be less than parts count=6\n",
      "\n"
     ]
    },
    {
     "name": "stdout",
     "output_type": "stream",
     "text": [
      "evaluated score=0.8686426018872827                                                 \n",
      "evaluated 39 times                                                                 \n",
      "evaluating params={'learning_rate': 0.7142883739067785, 'depth': 4, 'l2_leaf_reg': 7.031708864638609, 'task_type': 'CPU', 'loss_function': 'MultiClass', 'eval_metric': 'Accuracy', 'custom_metric': ['Accuracy'], 'iterations': 100, 'random_seed': 20181224}\n",
      " 39%|███▉      | 39/100 [44:33<48:34, 47.77s/trial, best loss: -0.8699296175360005]"
     ]
    },
    {
     "name": "stderr",
     "output_type": "stream",
     "text": [
      " Warning: The least populated class in y has only 2 members, which is too few. The minimum number of members in any class cannot be less than parts count=6\n",
      "\n"
     ]
    },
    {
     "name": "stdout",
     "output_type": "stream",
     "text": [
      "evaluated score=0.866710225752779                                                  \n",
      "evaluated 40 times                                                                 \n",
      "evaluating params={'learning_rate': 0.30934206926773045, 'depth': 6, 'l2_leaf_reg': 1.1340841931956307, 'task_type': 'CPU', 'loss_function': 'MultiClass', 'eval_metric': 'Accuracy', 'custom_metric': ['Accuracy'], 'iterations': 100, 'random_seed': 20181224}\n",
      " 40%|████      | 40/100 [45:45<55:01, 55.02s/trial, best loss: -0.8699296175360005]"
     ]
    },
    {
     "name": "stderr",
     "output_type": "stream",
     "text": [
      " Warning: The least populated class in y has only 2 members, which is too few. The minimum number of members in any class cannot be less than parts count=6\n",
      "\n"
     ]
    },
    {
     "name": "stdout",
     "output_type": "stream",
     "text": [
      "evaluated score=0.8702557027025112                                                 \n",
      "evaluated 41 times                                                                 \n",
      "evaluating params={'learning_rate': 0.5797660073534159, 'depth': 4, 'l2_leaf_reg': 7.441714806378932, 'task_type': 'CPU', 'loss_function': 'MultiClass', 'eval_metric': 'Accuracy', 'custom_metric': ['Accuracy'], 'iterations': 100, 'random_seed': 20181224}\n",
      " 41%|████      | 41/100 [48:42<1:30:15, 91.79s/trial, best loss: -0.8702557027025112]"
     ]
    },
    {
     "name": "stderr",
     "output_type": "stream",
     "text": [
      " Warning: The least populated class in y has only 2 members, which is too few. The minimum number of members in any class cannot be less than parts count=6\n",
      "\n"
     ]
    },
    {
     "name": "stdout",
     "output_type": "stream",
     "text": [
      "evaluated score=0.8686469439129013                                                   \n",
      "evaluated 42 times                                                                   \n",
      "evaluating params={'learning_rate': 0.7243213901349814, 'depth': 1, 'l2_leaf_reg': 8.562606711737995, 'task_type': 'CPU', 'loss_function': 'MultiClass', 'eval_metric': 'Accuracy', 'custom_metric': ['Accuracy'], 'iterations': 100, 'random_seed': 20181224}\n",
      " 42%|████▏     | 42/100 [49:52<1:22:14, 85.09s/trial, best loss: -0.8702557027025112]"
     ]
    },
    {
     "name": "stderr",
     "output_type": "stream",
     "text": [
      " Warning: The least populated class in y has only 2 members, which is too few. The minimum number of members in any class cannot be less than parts count=6\n",
      "\n"
     ]
    },
    {
     "name": "stdout",
     "output_type": "stream",
     "text": [
      "evaluated score=0.8689655968911287                                                   \n",
      "evaluated 43 times                                                                   \n",
      "evaluating params={'learning_rate': 0.5475484910128263, 'depth': 5, 'l2_leaf_reg': 4.004641322081914, 'task_type': 'CPU', 'loss_function': 'MultiClass', 'eval_metric': 'Accuracy', 'custom_metric': ['Accuracy'], 'iterations': 100, 'random_seed': 20181224}\n",
      " 43%|████▎     | 43/100 [50:11<1:02:01, 65.29s/trial, best loss: -0.8702557027025112]"
     ]
    },
    {
     "name": "stderr",
     "output_type": "stream",
     "text": [
      " Warning: The least populated class in y has only 2 members, which is too few. The minimum number of members in any class cannot be less than parts count=6\n",
      "\n"
     ]
    },
    {
     "name": "stdout",
     "output_type": "stream",
     "text": [
      "evaluated score=0.8699302255153318                                                   \n",
      "evaluated 44 times                                                                   \n",
      "evaluating params={'learning_rate': 0.7187186975955295, 'depth': 1, 'l2_leaf_reg': 5.60356313930686, 'task_type': 'CPU', 'loss_function': 'MultiClass', 'eval_metric': 'Accuracy', 'custom_metric': ['Accuracy'], 'iterations': 100, 'random_seed': 20181224}\n",
      " 44%|████▍     | 44/100 [51:59<1:12:55, 78.13s/trial, best loss: -0.8702557027025112]"
     ]
    },
    {
     "name": "stderr",
     "output_type": "stream",
     "text": [
      " Warning: The least populated class in y has only 2 members, which is too few. The minimum number of members in any class cannot be less than parts count=6\n",
      "\n"
     ]
    },
    {
     "name": "stdout",
     "output_type": "stream",
     "text": [
      "evaluated score=0.8699320925384755                                                   \n",
      "evaluated 45 times                                                                   \n",
      "evaluating params={'learning_rate': 0.7604556063823396, 'depth': 2, 'l2_leaf_reg': 8.244368650959261, 'task_type': 'CPU', 'loss_function': 'MultiClass', 'eval_metric': 'Accuracy', 'custom_metric': ['Accuracy'], 'iterations': 100, 'random_seed': 20181224}\n",
      " 45%|████▌     | 45/100 [52:18<55:18, 60.33s/trial, best loss: -0.8702557027025112]"
     ]
    },
    {
     "name": "stderr",
     "output_type": "stream",
     "text": [
      " Warning: The least populated class in y has only 2 members, which is too few. The minimum number of members in any class cannot be less than parts count=6\n",
      "\n"
     ]
    },
    {
     "name": "stdout",
     "output_type": "stream",
     "text": [
      "evaluated score=0.8683196212451532                                                 \n",
      "evaluated 46 times                                                                 \n",
      "evaluating params={'learning_rate': 0.9386328062022089, 'depth': 5, 'l2_leaf_reg': 8.251862318697722, 'task_type': 'CPU', 'loss_function': 'MultiClass', 'eval_metric': 'Accuracy', 'custom_metric': ['Accuracy'], 'iterations': 100, 'random_seed': 20181224}\n",
      " 46%|████▌     | 46/100 [52:43<44:56, 49.93s/trial, best loss: -0.8702557027025112]"
     ]
    },
    {
     "name": "stderr",
     "output_type": "stream",
     "text": [
      " Warning: The least populated class in y has only 2 members, which is too few. The minimum number of members in any class cannot be less than parts count=6\n",
      "\n"
     ]
    },
    {
     "name": "stdout",
     "output_type": "stream",
     "text": [
      "evaluated score=0.8670369404411957                                                 \n",
      "evaluated 47 times                                                                 \n",
      "evaluating params={'learning_rate': 0.5822745819881355, 'depth': 2, 'l2_leaf_reg': 4.396290270801092, 'task_type': 'CPU', 'loss_function': 'MultiClass', 'eval_metric': 'Accuracy', 'custom_metric': ['Accuracy'], 'iterations': 100, 'random_seed': 20181224}\n",
      " 47%|████▋     | 47/100 [54:52<1:04:59, 73.57s/trial, best loss: -0.8702557027025112]"
     ]
    },
    {
     "name": "stderr",
     "output_type": "stream",
     "text": [
      " Warning: The least populated class in y has only 2 members, which is too few. The minimum number of members in any class cannot be less than parts count=6\n",
      "\n"
     ]
    },
    {
     "name": "stdout",
     "output_type": "stream",
     "text": [
      "evaluated score=0.8712209680294786                                                   \n",
      "evaluated 48 times                                                                   \n",
      "evaluating params={'learning_rate': 0.22230774377542364, 'depth': 0, 'l2_leaf_reg': 2.9912426909623147, 'task_type': 'CPU', 'loss_function': 'MultiClass', 'eval_metric': 'Accuracy', 'custom_metric': ['Accuracy'], 'iterations': 100, 'random_seed': 20181224}\n",
      " 48%|████▊     | 48/100 [55:19<51:41, 59.65s/trial, best loss: -0.8712209680294786]"
     ]
    },
    {
     "name": "stderr",
     "output_type": "stream",
     "text": [
      " Warning: The least populated class in y has only 2 members, which is too few. The minimum number of members in any class cannot be less than parts count=6\n",
      "\n"
     ]
    },
    {
     "name": "stdout",
     "output_type": "stream",
     "text": [
      "evaluated score=0.8657462122887654                                                 \n",
      "evaluated 49 times                                                                 \n",
      "evaluating params={'learning_rate': 0.3175378759429953, 'depth': 5, 'l2_leaf_reg': 3.54693788972967, 'task_type': 'CPU', 'loss_function': 'MultiClass', 'eval_metric': 'Accuracy', 'custom_metric': ['Accuracy'], 'iterations': 100, 'random_seed': 20181224}\n",
      " 49%|████▉     | 49/100 [55:30<38:12, 44.96s/trial, best loss: -0.8712209680294786]"
     ]
    },
    {
     "name": "stderr",
     "output_type": "stream",
     "text": [
      " Warning: The least populated class in y has only 2 members, which is too few. The minimum number of members in any class cannot be less than parts count=6\n",
      "\n"
     ]
    },
    {
     "name": "stdout",
     "output_type": "stream",
     "text": [
      "evaluated score=0.8705737333396909                                                 \n",
      "evaluated 50 times                                                                 \n",
      "evaluating params={'learning_rate': 0.559988271873302, 'depth': 4, 'l2_leaf_reg': 4.733859383479405, 'task_type': 'CPU', 'loss_function': 'MultiClass', 'eval_metric': 'Accuracy', 'custom_metric': ['Accuracy'], 'iterations': 100, 'random_seed': 20181224}\n",
      " 50%|█████     | 50/100 [57:15<52:32, 63.05s/trial, best loss: -0.8712209680294786]"
     ]
    },
    {
     "name": "stderr",
     "output_type": "stream",
     "text": [
      " Warning: The least populated class in y has only 2 members, which is too few. The minimum number of members in any class cannot be less than parts count=6\n",
      "\n"
     ]
    },
    {
     "name": "stdout",
     "output_type": "stream",
     "text": [
      "evaluated score=0.8689643522090331                                                 \n",
      "evaluated 51 times                                                                 \n",
      "evaluating params={'learning_rate': 0.6048587375313145, 'depth': 3, 'l2_leaf_reg': 5.629074505176016, 'task_type': 'CPU', 'loss_function': 'MultiClass', 'eval_metric': 'Accuracy', 'custom_metric': ['Accuracy'], 'iterations': 100, 'random_seed': 20181224}\n",
      " 51%|█████     | 51/100 [58:23<52:38, 64.45s/trial, best loss: -0.8712209680294786]"
     ]
    },
    {
     "name": "stderr",
     "output_type": "stream",
     "text": [
      " Warning: The least populated class in y has only 2 members, which is too few. The minimum number of members in any class cannot be less than parts count=6\n",
      "\n"
     ]
    },
    {
     "name": "stdout",
     "output_type": "stream",
     "text": [
      "evaluated score=0.8692892070551647                                                 \n",
      "evaluated 52 times                                                                 \n",
      "evaluating params={'learning_rate': 0.5178531155819357, 'depth': 1, 'l2_leaf_reg': 8.511943130310733, 'task_type': 'CPU', 'loss_function': 'MultiClass', 'eval_metric': 'Accuracy', 'custom_metric': ['Accuracy'], 'iterations': 100, 'random_seed': 20181224}\n",
      " 52%|█████▏    | 52/100 [58:54<43:36, 54.52s/trial, best loss: -0.8712209680294786]"
     ]
    },
    {
     "name": "stderr",
     "output_type": "stream",
     "text": [
      " Warning: The least populated class in y has only 2 members, which is too few. The minimum number of members in any class cannot be less than parts count=6\n",
      "\n"
     ]
    },
    {
     "name": "stdout",
     "output_type": "stream",
     "text": [
      "evaluated score=0.8676798259245069                                                 \n",
      "evaluated 53 times                                                                 \n",
      "evaluating params={'learning_rate': 0.44511481288695925, 'depth': 0, 'l2_leaf_reg': 7.142381731169856, 'task_type': 'CPU', 'loss_function': 'MultiClass', 'eval_metric': 'Accuracy', 'custom_metric': ['Accuracy'], 'iterations': 100, 'random_seed': 20181224}\n",
      " 53%|█████▎    | 53/100 [59:10<33:40, 42.99s/trial, best loss: -0.8712209680294786]"
     ]
    },
    {
     "name": "stderr",
     "output_type": "stream",
     "text": [
      " Warning: The least populated class in y has only 2 members, which is too few. The minimum number of members in any class cannot be less than parts count=6\n",
      "\n"
     ]
    },
    {
     "name": "stdout",
     "output_type": "stream",
     "text": [
      "evaluated score=0.8657462122887654                                                 \n",
      "evaluated 54 times                                                                 \n",
      "evaluating params={'learning_rate': 0.529197137729085, 'depth': 6, 'l2_leaf_reg': 1.6080246208156606, 'task_type': 'CPU', 'loss_function': 'MultiClass', 'eval_metric': 'Accuracy', 'custom_metric': ['Accuracy'], 'iterations': 100, 'random_seed': 20181224}\n",
      " 54%|█████▍    | 54/100 [59:19<25:01, 32.64s/trial, best loss: -0.8712209680294786]"
     ]
    },
    {
     "name": "stderr",
     "output_type": "stream",
     "text": [
      " Warning: The least populated class in y has only 2 members, which is too few. The minimum number of members in any class cannot be less than parts count=6\n",
      "\n"
     ]
    },
    {
     "name": "stdout",
     "output_type": "stream",
     "text": [
      "evaluated score=0.8702532277000362                                                 \n",
      "evaluated 55 times                                                                   \n",
      "evaluating params={'learning_rate': 0.776665819365536, 'depth': 3, 'l2_leaf_reg': 7.424665714922323, 'task_type': 'CPU', 'loss_function': 'MultiClass', 'eval_metric': 'Accuracy', 'custom_metric': ['Accuracy'], 'iterations': 100, 'random_seed': 20181224}\n",
      " 55%|█████▌    | 55/100 [1:01:50<51:07, 68.16s/trial, best loss: -0.8712209680294786]"
     ]
    },
    {
     "name": "stderr",
     "output_type": "stream",
     "text": [
      " Warning: The least populated class in y has only 2 members, which is too few. The minimum number of members in any class cannot be less than parts count=6\n",
      "\n"
     ]
    },
    {
     "name": "stdout",
     "output_type": "stream",
     "text": [
      "evaluated score=0.8686494260962346                                                   \n",
      "evaluated 56 times                                                                   \n",
      "evaluating params={'learning_rate': 0.5603142348841685, 'depth': 0, 'l2_leaf_reg': 6.3503117624802785, 'task_type': 'CPU', 'loss_function': 'MultiClass', 'eval_metric': 'Accuracy', 'custom_metric': ['Accuracy'], 'iterations': 100, 'random_seed': 20181224}\n",
      " 56%|█████▌    | 56/100 [1:02:20<41:31, 56.63s/trial, best loss: -0.8712209680294786]"
     ]
    },
    {
     "name": "stderr",
     "output_type": "stream",
     "text": [
      " Warning: The least populated class in y has only 2 members, which is too few. The minimum number of members in any class cannot be less than parts count=6\n",
      "\n"
     ]
    },
    {
     "name": "stdout",
     "output_type": "stream",
     "text": [
      "evaluated score=0.8657462122887654                                                   \n",
      "evaluated 57 times                                                                   \n",
      "evaluating params={'learning_rate': 0.3174239909994932, 'depth': 1, 'l2_leaf_reg': 1.247557963360547, 'task_type': 'CPU', 'loss_function': 'MultiClass', 'eval_metric': 'Accuracy', 'custom_metric': ['Accuracy'], 'iterations': 100, 'random_seed': 20181224}\n",
      " 57%|█████▋    | 57/100 [1:02:28<30:10, 42.11s/trial, best loss: -0.8712209680294786]"
     ]
    },
    {
     "name": "stderr",
     "output_type": "stream",
     "text": [
      " Warning: The least populated class in y has only 2 members, which is too few. The minimum number of members in any class cannot be less than parts count=6\n",
      "\n"
     ]
    },
    {
     "name": "stdout",
     "output_type": "stream",
     "text": [
      "evaluated score=0.8680003315641613                                                   \n",
      "evaluated 58 times                                                                   \n",
      "evaluating params={'learning_rate': 0.7032591468714025, 'depth': 4, 'l2_leaf_reg': 8.360806051254244, 'task_type': 'CPU', 'loss_function': 'MultiClass', 'eval_metric': 'Accuracy', 'custom_metric': ['Accuracy'], 'iterations': 100, 'random_seed': 20181224}\n",
      " 58%|█████▊    | 58/100 [1:02:43<23:52, 34.11s/trial, best loss: -0.8712209680294786]"
     ]
    },
    {
     "name": "stderr",
     "output_type": "stream",
     "text": [
      " Warning: The least populated class in y has only 2 members, which is too few. The minimum number of members in any class cannot be less than parts count=6\n",
      "\n"
     ]
    },
    {
     "name": "stdout",
     "output_type": "stream",
     "text": [
      "evaluated score=0.8670375627822436                                                   \n",
      "evaluated 59 times                                                                   \n",
      "evaluating params={'learning_rate': 0.23561192924222196, 'depth': 2, 'l2_leaf_reg': 2.376961302896852, 'task_type': 'CPU', 'loss_function': 'MultiClass', 'eval_metric': 'Accuracy', 'custom_metric': ['Accuracy'], 'iterations': 100, 'random_seed': 20181224}\n",
      " 59%|█████▉    | 59/100 [1:03:41<28:02, 41.02s/trial, best loss: -0.8712209680294786]"
     ]
    },
    {
     "name": "stderr",
     "output_type": "stream",
     "text": [
      " Warning: The least populated class in y has only 2 members, which is too few. The minimum number of members in any class cannot be less than parts count=6\n",
      "\n"
     ]
    },
    {
     "name": "stdout",
     "output_type": "stream",
     "text": [
      "evaluated score=0.8686426018872827                                                   \n",
      "evaluated 60 times                                                                   \n",
      "evaluating params={'learning_rate': 0.4230800589817951, 'depth': 6, 'l2_leaf_reg': 2.154328031548169, 'task_type': 'CPU', 'loss_function': 'MultiClass', 'eval_metric': 'Accuracy', 'custom_metric': ['Accuracy'], 'iterations': 100, 'random_seed': 20181224}\n",
      " 60%|██████    | 60/100 [1:04:02<23:29, 35.23s/trial, best loss: -0.8712209680294786]"
     ]
    },
    {
     "name": "stderr",
     "output_type": "stream",
     "text": [
      " Warning: The least populated class in y has only 2 members, which is too few. The minimum number of members in any class cannot be less than parts count=6\n",
      "\n"
     ]
    },
    {
     "name": "stdout",
     "output_type": "stream",
     "text": [
      "evaluated score=0.8718650838331689                                                   \n",
      "evaluated 61 times                                                                   \n",
      "evaluating params={'learning_rate': 0.48879682532774793, 'depth': 0, 'l2_leaf_reg': 6.102273280559569, 'task_type': 'CPU', 'loss_function': 'MultiClass', 'eval_metric': 'Accuracy', 'custom_metric': ['Accuracy'], 'iterations': 100, 'random_seed': 20181224}\n",
      " 61%|██████    | 61/100 [1:06:32<45:14, 69.61s/trial, best loss: -0.8718650838331689]"
     ]
    },
    {
     "name": "stderr",
     "output_type": "stream",
     "text": [
      " Warning: The least populated class in y has only 2 members, which is too few. The minimum number of members in any class cannot be less than parts count=6\n",
      "\n"
     ]
    },
    {
     "name": "stdout",
     "output_type": "stream",
     "text": [
      "evaluated score=0.8657462122887654                                                   \n",
      "evaluated 62 times                                                                   \n",
      "evaluating params={'learning_rate': 0.22326014408771916, 'depth': 6, 'l2_leaf_reg': 9.506691792876675, 'task_type': 'CPU', 'loss_function': 'MultiClass', 'eval_metric': 'Accuracy', 'custom_metric': ['Accuracy'], 'iterations': 100, 'random_seed': 20181224}\n",
      " 62%|██████▏   | 62/100 [1:06:40<32:22, 51.12s/trial, best loss: -0.8718650838331689]"
     ]
    },
    {
     "name": "stderr",
     "output_type": "stream",
     "text": [
      " Warning: The least populated class in y has only 2 members, which is too few. The minimum number of members in any class cannot be less than parts count=6\n",
      "\n"
     ]
    },
    {
     "name": "stdout",
     "output_type": "stream",
     "text": [
      "evaluated score=0.8673543559181858                                                   \n",
      "evaluated 63 times                                                                   \n",
      "evaluating params={'learning_rate': 0.7862122392981867, 'depth': 0, 'l2_leaf_reg': 1.2385173910651657, 'task_type': 'CPU', 'loss_function': 'MultiClass', 'eval_metric': 'Accuracy', 'custom_metric': ['Accuracy'], 'iterations': 100, 'random_seed': 20181224}\n",
      " 63%|██████▎   | 63/100 [1:09:11<50:03, 81.18s/trial, best loss: -0.8718650838331689]"
     ]
    },
    {
     "name": "stderr",
     "output_type": "stream",
     "text": [
      " Warning: The least populated class in y has only 2 members, which is too few. The minimum number of members in any class cannot be less than parts count=6\n",
      "\n"
     ]
    },
    {
     "name": "stdout",
     "output_type": "stream",
     "text": [
      "evaluated score=0.8657462122887654                                                   \n",
      "evaluated 64 times                                                                   \n",
      "evaluating params={'learning_rate': 0.6986720513812015, 'depth': 2, 'l2_leaf_reg': 3.7159579931094404, 'task_type': 'CPU', 'loss_function': 'MultiClass', 'eval_metric': 'Accuracy', 'custom_metric': ['Accuracy'], 'iterations': 100, 'random_seed': 20181224}\n",
      " 64%|██████▍   | 64/100 [1:09:28<37:07, 61.87s/trial, best loss: -0.8718650838331689]"
     ]
    },
    {
     "name": "stderr",
     "output_type": "stream",
     "text": [
      " Warning: The least populated class in y has only 2 members, which is too few. The minimum number of members in any class cannot be less than parts count=6\n",
      "\n"
     ]
    },
    {
     "name": "stdout",
     "output_type": "stream",
     "text": [
      "evaluated score=0.8689624995476061                                                   \n",
      "evaluated 65 times                                                                   \n",
      "evaluating params={'learning_rate': 0.2869323671407483, 'depth': 3, 'l2_leaf_reg': 3.7726501891339375, 'task_type': 'CPU', 'loss_function': 'MultiClass', 'eval_metric': 'Accuracy', 'custom_metric': ['Accuracy'], 'iterations': 100, 'random_seed': 20181224}\n",
      " 65%|██████▌   | 65/100 [1:09:58<30:32, 52.36s/trial, best loss: -0.8718650838331689]"
     ]
    },
    {
     "name": "stderr",
     "output_type": "stream",
     "text": [
      " Warning: The least populated class in y has only 2 members, which is too few. The minimum number of members in any class cannot be less than parts count=6\n",
      "\n"
     ]
    },
    {
     "name": "stdout",
     "output_type": "stream",
     "text": [
      "evaluated score=0.8676767285809839                                                   \n",
      "evaluated 66 times                                                                   \n",
      "evaluating params={'learning_rate': 0.9268932287319902, 'depth': 2, 'l2_leaf_reg': 5.170286697640161, 'task_type': 'CPU', 'loss_function': 'MultiClass', 'eval_metric': 'Accuracy', 'custom_metric': ['Accuracy'], 'iterations': 100, 'random_seed': 20181224}\n",
      " 66%|██████▌   | 66/100 [1:10:26<25:30, 45.00s/trial, best loss: -0.8718650838331689]"
     ]
    },
    {
     "name": "stderr",
     "output_type": "stream",
     "text": [
      " Warning: The least populated class in y has only 2 members, which is too few. The minimum number of members in any class cannot be less than parts count=6\n",
      "\n"
     ]
    },
    {
     "name": "stdout",
     "output_type": "stream",
     "text": [
      "evaluated score=0.8663915727745516                                                   \n",
      "evaluated 67 times                                                                   \n",
      "evaluating params={'learning_rate': 0.879783962440043, 'depth': 5, 'l2_leaf_reg': 7.5169639531299515, 'task_type': 'CPU', 'loss_function': 'MultiClass', 'eval_metric': 'Accuracy', 'custom_metric': ['Accuracy'], 'iterations': 100, 'random_seed': 20181224}\n",
      " 67%|██████▋   | 67/100 [1:10:47<20:43, 37.69s/trial, best loss: -0.8718650838331689]"
     ]
    },
    {
     "name": "stderr",
     "output_type": "stream",
     "text": [
      " Warning: The least populated class in y has only 2 members, which is too few. The minimum number of members in any class cannot be less than parts count=6\n",
      "\n"
     ]
    },
    {
     "name": "stdout",
     "output_type": "stream",
     "text": [
      "evaluated score=0.8679966190604488                                                   \n",
      "evaluated 68 times                                                                   \n",
      "evaluating params={'learning_rate': 0.28854604496323416, 'depth': 1, 'l2_leaf_reg': 6.4893379871710515, 'task_type': 'CPU', 'loss_function': 'MultiClass', 'eval_metric': 'Accuracy', 'custom_metric': ['Accuracy'], 'iterations': 100, 'random_seed': 20181224}\n",
      " 68%|██████▊   | 68/100 [1:12:11<27:29, 51.56s/trial, best loss: -0.8718650838331689]"
     ]
    },
    {
     "name": "stderr",
     "output_type": "stream",
     "text": [
      " Warning: The least populated class in y has only 2 members, which is too few. The minimum number of members in any class cannot be less than parts count=6\n",
      "\n"
     ]
    },
    {
     "name": "stdout",
     "output_type": "stream",
     "text": [
      "evaluated score=0.8679997164039718                                                   \n",
      "evaluated 69 times                                                                   \n",
      "evaluating params={'learning_rate': 0.70374638426668, 'depth': 2, 'l2_leaf_reg': 1.114618486983913, 'task_type': 'CPU', 'loss_function': 'MultiClass', 'eval_metric': 'Accuracy', 'custom_metric': ['Accuracy'], 'iterations': 100, 'random_seed': 20181224}\n",
      " 69%|██████▉   | 69/100 [1:12:27<21:06, 40.85s/trial, best loss: -0.8718650838331689]"
     ]
    },
    {
     "name": "stderr",
     "output_type": "stream",
     "text": [
      " Warning: The least populated class in y has only 2 members, which is too few. The minimum number of members in any class cannot be less than parts count=6\n",
      "\n"
     ]
    },
    {
     "name": "stdout",
     "output_type": "stream",
     "text": [
      "evaluated score=0.8673580827836146                                                   \n",
      "evaluated 70 times                                                                   \n",
      "evaluating params={'learning_rate': 0.3907502594613106, 'depth': 0, 'l2_leaf_reg': 2.446080774822747, 'task_type': 'CPU', 'loss_function': 'MultiClass', 'eval_metric': 'Accuracy', 'custom_metric': ['Accuracy'], 'iterations': 100, 'random_seed': 20181224}\n",
      " 70%|███████   | 70/100 [1:12:46<17:14, 34.48s/trial, best loss: -0.8718650838331689]"
     ]
    },
    {
     "name": "stderr",
     "output_type": "stream",
     "text": [
      " Warning: The least populated class in y has only 2 members, which is too few. The minimum number of members in any class cannot be less than parts count=6\n",
      "\n"
     ]
    },
    {
     "name": "stdout",
     "output_type": "stream",
     "text": [
      "evaluated score=0.8657462122887654                                                   \n",
      "evaluated 71 times                                                                   \n",
      "evaluating params={'learning_rate': 0.3639592242184783, 'depth': 4, 'l2_leaf_reg': 3.332712031283945, 'task_type': 'CPU', 'loss_function': 'MultiClass', 'eval_metric': 'Accuracy', 'custom_metric': ['Accuracy'], 'iterations': 100, 'random_seed': 20181224}\n",
      " 71%|███████   | 71/100 [1:12:53<12:37, 26.13s/trial, best loss: -0.8718650838331689]"
     ]
    },
    {
     "name": "stderr",
     "output_type": "stream",
     "text": [
      " Warning: The least populated class in y has only 2 members, which is too few. The minimum number of members in any class cannot be less than parts count=6\n",
      "\n"
     ]
    },
    {
     "name": "stdout",
     "output_type": "stream",
     "text": [
      "evaluated score=0.8696140547204377                                                   \n",
      "evaluated 72 times                                                                   \n",
      "evaluating params={'learning_rate': 0.7470138791003773, 'depth': 2, 'l2_leaf_reg': 4.308591791304944, 'task_type': 'CPU', 'loss_function': 'MultiClass', 'eval_metric': 'Accuracy', 'custom_metric': ['Accuracy'], 'iterations': 100, 'random_seed': 20181224}\n",
      " 72%|███████▏  | 72/100 [1:13:47<16:04, 34.43s/trial, best loss: -0.8718650838331689]"
     ]
    },
    {
     "name": "stderr",
     "output_type": "stream",
     "text": [
      " Warning: The least populated class in y has only 2 members, which is too few. The minimum number of members in any class cannot be less than parts count=6\n",
      "\n"
     ]
    },
    {
     "name": "stdout",
     "output_type": "stream",
     "text": [
      "evaluated score=0.8676742463976507                                                   \n",
      "evaluated 73 times                                                                   \n",
      "evaluating params={'learning_rate': 0.6821018356829278, 'depth': 6, 'l2_leaf_reg': 5.465310107520183, 'task_type': 'CPU', 'loss_function': 'MultiClass', 'eval_metric': 'Accuracy', 'custom_metric': ['Accuracy'], 'iterations': 100, 'random_seed': 20181224}\n",
      " 73%|███████▎  | 73/100 [1:14:08<13:45, 30.59s/trial, best loss: -0.8718650838331689]"
     ]
    },
    {
     "name": "stderr",
     "output_type": "stream",
     "text": [
      " Warning: The least populated class in y has only 2 members, which is too few. The minimum number of members in any class cannot be less than parts count=6\n",
      "\n"
     ]
    },
    {
     "name": "stdout",
     "output_type": "stream",
     "text": [
      "evaluated score=0.8679984789027341                                                   \n",
      "evaluated 74 times                                                                   \n",
      "evaluating params={'learning_rate': 0.2665286646694834, 'depth': 4, 'l2_leaf_reg': 3.5508608315512293, 'task_type': 'CPU', 'loss_function': 'MultiClass', 'eval_metric': 'Accuracy', 'custom_metric': ['Accuracy'], 'iterations': 100, 'random_seed': 20181224}\n",
      " 74%|███████▍  | 74/100 [1:16:18<26:06, 60.23s/trial, best loss: -0.8718650838331689]"
     ]
    },
    {
     "name": "stderr",
     "output_type": "stream",
     "text": [
      " Warning: The least populated class in y has only 2 members, which is too few. The minimum number of members in any class cannot be less than parts count=6\n",
      "\n"
     ]
    },
    {
     "name": "stdout",
     "output_type": "stream",
     "text": [
      "evaluated score=0.8696122020590106                                                   \n",
      "evaluated 75 times                                                                   \n",
      "evaluating params={'learning_rate': 0.5920530850878709, 'depth': 3, 'l2_leaf_reg': 4.875206778271225, 'task_type': 'CPU', 'loss_function': 'MultiClass', 'eval_metric': 'Accuracy', 'custom_metric': ['Accuracy'], 'iterations': 100, 'random_seed': 20181224}\n",
      " 75%|███████▌  | 75/100 [1:17:10<24:08, 57.93s/trial, best loss: -0.8718650838331689]"
     ]
    },
    {
     "name": "stderr",
     "output_type": "stream",
     "text": [
      " Warning: The least populated class in y has only 2 members, which is too few. The minimum number of members in any class cannot be less than parts count=6\n",
      "\n"
     ]
    },
    {
     "name": "stdout",
     "output_type": "stream",
     "text": [
      "evaluated score=0.8683258087513407                                                   \n",
      "evaluated 76 times                                                                   \n",
      "evaluating params={'learning_rate': 0.8090360328681288, 'depth': 6, 'l2_leaf_reg': 7.116803495406741, 'task_type': 'CPU', 'loss_function': 'MultiClass', 'eval_metric': 'Accuracy', 'custom_metric': ['Accuracy'], 'iterations': 100, 'random_seed': 20181224}\n",
      " 76%|███████▌  | 76/100 [1:17:39<19:40, 49.17s/trial, best loss: -0.8718650838331689]"
     ]
    },
    {
     "name": "stderr",
     "output_type": "stream",
     "text": [
      " Warning: The least populated class in y has only 2 members, which is too few. The minimum number of members in any class cannot be less than parts count=6\n",
      "\n"
     ]
    },
    {
     "name": "stdout",
     "output_type": "stream",
     "text": [
      "evaluated score=0.8679916546937823                                                   \n",
      "evaluated 77 times                                                                   \n",
      "evaluating params={'learning_rate': 0.8986096605312353, 'depth': 4, 'l2_leaf_reg': 6.635516658757338, 'task_type': 'CPU', 'loss_function': 'MultiClass', 'eval_metric': 'Accuracy', 'custom_metric': ['Accuracy'], 'iterations': 100, 'random_seed': 20181224}\n",
      " 77%|███████▋  | 77/100 [1:19:52<28:27, 74.24s/trial, best loss: -0.8718650838331689]"
     ]
    },
    {
     "name": "stderr",
     "output_type": "stream",
     "text": [
      " Warning: The least populated class in y has only 2 members, which is too few. The minimum number of members in any class cannot be less than parts count=6\n",
      "\n"
     ]
    },
    {
     "name": "stdout",
     "output_type": "stream",
     "text": [
      "evaluated score=0.8660623830836597                                                   \n",
      "evaluated 78 times                                                                   \n",
      "evaluating params={'learning_rate': 0.6008810170763194, 'depth': 2, 'l2_leaf_reg': 4.119629837681963, 'task_type': 'CPU', 'loss_function': 'MultiClass', 'eval_metric': 'Accuracy', 'custom_metric': ['Accuracy'], 'iterations': 100, 'random_seed': 20181224}\n",
      " 78%|███████▊  | 78/100 [1:20:45<24:54, 67.93s/trial, best loss: -0.8718650838331689]"
     ]
    },
    {
     "name": "stderr",
     "output_type": "stream",
     "text": [
      " Warning: The least populated class in y has only 2 members, which is too few. The minimum number of members in any class cannot be less than parts count=6\n",
      "\n"
     ]
    },
    {
     "name": "stdout",
     "output_type": "stream",
     "text": [
      "evaluated score=0.8686407492258558                                                   \n",
      "evaluated 79 times                                                                   \n",
      "evaluating params={'learning_rate': 0.928250515412999, 'depth': 5, 'l2_leaf_reg': 4.432557684767479, 'task_type': 'CPU', 'loss_function': 'MultiClass', 'eval_metric': 'Accuracy', 'custom_metric': ['Accuracy'], 'iterations': 100, 'random_seed': 20181224}\n",
      " 79%|███████▉  | 79/100 [1:21:07<18:55, 54.07s/trial, best loss: -0.8718650838331689]"
     ]
    },
    {
     "name": "stderr",
     "output_type": "stream",
     "text": [
      " Warning: The least populated class in y has only 2 members, which is too few. The minimum number of members in any class cannot be less than parts count=6\n",
      "\n"
     ]
    },
    {
     "name": "stdout",
     "output_type": "stream",
     "text": [
      "evaluated score=0.8651070536708835                                                   \n",
      "evaluated 80 times                                                                   \n",
      "evaluating params={'learning_rate': 0.4961811246004282, 'depth': 2, 'l2_leaf_reg': 2.5191973796042424, 'task_type': 'CPU', 'loss_function': 'MultiClass', 'eval_metric': 'Accuracy', 'custom_metric': ['Accuracy'], 'iterations': 100, 'random_seed': 20181224}\n",
      " 80%|████████  | 80/100 [1:22:26<20:34, 61.71s/trial, best loss: -0.8718650838331689]"
     ]
    },
    {
     "name": "stderr",
     "output_type": "stream",
     "text": [
      " Warning: The least populated class in y has only 2 members, which is too few. The minimum number of members in any class cannot be less than parts count=6\n",
      "\n"
     ]
    },
    {
     "name": "stdout",
     "output_type": "stream",
     "text": [
      "evaluated score=0.8686475662539492                                                   \n",
      "evaluated 81 times                                                                   \n",
      "evaluating params={'learning_rate': 0.39778818658608106, 'depth': 6, 'l2_leaf_reg': 3.4765074153084323, 'task_type': 'CPU', 'loss_function': 'MultiClass', 'eval_metric': 'Accuracy', 'custom_metric': ['Accuracy'], 'iterations': 100, 'random_seed': 20181224}\n",
      " 81%|████████  | 81/100 [1:22:47<15:39, 49.44s/trial, best loss: -0.8718650838331689]"
     ]
    },
    {
     "name": "stderr",
     "output_type": "stream",
     "text": [
      " Warning: The least populated class in y has only 2 members, which is too few. The minimum number of members in any class cannot be less than parts count=6\n",
      "\n"
     ]
    },
    {
     "name": "stdout",
     "output_type": "stream",
     "text": [
      "evaluated score=0.8718613713294565                                                   \n",
      "evaluated 82 times                                                                   \n",
      "evaluating params={'learning_rate': 0.9862232733488454, 'depth': 1, 'l2_leaf_reg': 6.254391957612133, 'task_type': 'CPU', 'loss_function': 'MultiClass', 'eval_metric': 'Accuracy', 'custom_metric': ['Accuracy'], 'iterations': 100, 'random_seed': 20181224}\n",
      " 82%|████████▏ | 82/100 [1:24:58<22:11, 73.97s/trial, best loss: -0.8718650838331689]"
     ]
    },
    {
     "name": "stderr",
     "output_type": "stream",
     "text": [
      " Warning: The least populated class in y has only 2 members, which is too few. The minimum number of members in any class cannot be less than parts count=6\n",
      "\n"
     ]
    },
    {
     "name": "stdout",
     "output_type": "stream",
     "text": [
      "evaluated score=0.8679959967194009                                                   \n",
      "evaluated 83 times                                                                   \n",
      "evaluating params={'learning_rate': 0.46917971690260063, 'depth': 6, 'l2_leaf_reg': 8.225574525399168, 'task_type': 'CPU', 'loss_function': 'MultiClass', 'eval_metric': 'Accuracy', 'custom_metric': ['Accuracy'], 'iterations': 100, 'random_seed': 20181224}\n",
      " 83%|████████▎ | 83/100 [1:25:13<15:56, 56.28s/trial, best loss: -0.8718650838331689]"
     ]
    },
    {
     "name": "stderr",
     "output_type": "stream",
     "text": [
      " Warning: The least populated class in y has only 2 members, which is too few. The minimum number of members in any class cannot be less than parts count=6\n",
      "\n"
     ]
    },
    {
     "name": "stdout",
     "output_type": "stream",
     "text": [
      "evaluated score=0.8699382944063796                                                   \n",
      "evaluated 84 times                                                                   \n",
      "evaluating params={'learning_rate': 0.88125475914961, 'depth': 3, 'l2_leaf_reg': 7.148507150332968, 'task_type': 'CPU', 'loss_function': 'MultiClass', 'eval_metric': 'Accuracy', 'custom_metric': ['Accuracy'], 'iterations': 100, 'random_seed': 20181224}\n",
      " 84%|████████▍ | 84/100 [1:27:25<21:03, 78.97s/trial, best loss: -0.8718650838331689]"
     ]
    },
    {
     "name": "stderr",
     "output_type": "stream",
     "text": [
      " Warning: The least populated class in y has only 2 members, which is too few. The minimum number of members in any class cannot be less than parts count=6\n",
      "\n"
     ]
    },
    {
     "name": "stdout",
     "output_type": "stream",
     "text": [
      "evaluated score=0.8670350805989103                                                   \n",
      "evaluated 85 times                                                                   \n",
      "evaluating params={'learning_rate': 0.4853917031688207, 'depth': 5, 'l2_leaf_reg': 7.435421563407603, 'task_type': 'CPU', 'loss_function': 'MultiClass', 'eval_metric': 'Accuracy', 'custom_metric': ['Accuracy'], 'iterations': 100, 'random_seed': 20181224}\n",
      " 85%|████████▌ | 85/100 [1:27:55<16:02, 64.15s/trial, best loss: -0.8718650838331689]"
     ]
    },
    {
     "name": "stderr",
     "output_type": "stream",
     "text": [
      " Warning: The least populated class in y has only 2 members, which is too few. The minimum number of members in any class cannot be less than parts count=6\n",
      "\n"
     ]
    },
    {
     "name": "stdout",
     "output_type": "stream",
     "text": [
      "evaluated score=0.8663940549578847                                                   \n",
      "evaluated 86 times                                                                   \n",
      "evaluating params={'learning_rate': 0.9938809144296605, 'depth': 1, 'l2_leaf_reg': 9.338126717305006, 'task_type': 'CPU', 'loss_function': 'MultiClass', 'eval_metric': 'Accuracy', 'custom_metric': ['Accuracy'], 'iterations': 100, 'random_seed': 20181224}\n",
      " 86%|████████▌ | 86/100 [1:29:14<16:02, 68.72s/trial, best loss: -0.8718650838331689]"
     ]
    },
    {
     "name": "stderr",
     "output_type": "stream",
     "text": [
      " Warning: The least populated class in y has only 2 members, which is too few. The minimum number of members in any class cannot be less than parts count=6\n",
      "\n"
     ]
    },
    {
     "name": "stdout",
     "output_type": "stream",
     "text": [
      "evaluated score=0.8679984717218759                                                   \n",
      "evaluated 87 times                                                                   \n",
      "evaluating params={'learning_rate': 0.7910375188624779, 'depth': 0, 'l2_leaf_reg': 4.550293067974943, 'task_type': 'CPU', 'loss_function': 'MultiClass', 'eval_metric': 'Accuracy', 'custom_metric': ['Accuracy'], 'iterations': 100, 'random_seed': 20181224}\n",
      " 87%|████████▋ | 87/100 [1:29:30<11:25, 52.74s/trial, best loss: -0.8718650838331689]"
     ]
    },
    {
     "name": "stderr",
     "output_type": "stream",
     "text": [
      " Warning: The least populated class in y has only 2 members, which is too few. The minimum number of members in any class cannot be less than parts count=6\n",
      "\n"
     ]
    },
    {
     "name": "stdout",
     "output_type": "stream",
     "text": [
      "evaluated score=0.8657462122887654                                                   \n",
      "evaluated 88 times                                                                   \n",
      "evaluating params={'learning_rate': 0.8987490790702328, 'depth': 2, 'l2_leaf_reg': 1.3945026402932885, 'task_type': 'CPU', 'loss_function': 'MultiClass', 'eval_metric': 'Accuracy', 'custom_metric': ['Accuracy'], 'iterations': 100, 'random_seed': 20181224}\n",
      " 88%|████████▊ | 88/100 [1:29:37<07:48, 39.04s/trial, best loss: -0.8718650838331689]"
     ]
    },
    {
     "name": "stderr",
     "output_type": "stream",
     "text": [
      " Warning: The least populated class in y has only 2 members, which is too few. The minimum number of members in any class cannot be less than parts count=6\n",
      "\n"
     ]
    },
    {
     "name": "stdout",
     "output_type": "stream",
     "text": [
      "evaluated score=0.8657462122887654                                                   \n",
      "evaluated 89 times                                                                   \n",
      "evaluating params={'learning_rate': 0.20390299620796473, 'depth': 0, 'l2_leaf_reg': 5.76714549896341, 'task_type': 'CPU', 'loss_function': 'MultiClass', 'eval_metric': 'Accuracy', 'custom_metric': ['Accuracy'], 'iterations': 100, 'random_seed': 20181224}\n",
      " 89%|████████▉ | 89/100 [1:29:57<06:08, 33.49s/trial, best loss: -0.8718650838331689]"
     ]
    },
    {
     "name": "stderr",
     "output_type": "stream",
     "text": [
      " Warning: The least populated class in y has only 2 members, which is too few. The minimum number of members in any class cannot be less than parts count=6\n",
      "\n"
     ]
    },
    {
     "name": "stdout",
     "output_type": "stream",
     "text": [
      "evaluated score=0.8657462122887654                                                   \n",
      "evaluated 90 times                                                                   \n",
      "evaluating params={'learning_rate': 0.8583617262142087, 'depth': 4, 'l2_leaf_reg': 7.956268942892385, 'task_type': 'CPU', 'loss_function': 'MultiClass', 'eval_metric': 'Accuracy', 'custom_metric': ['Accuracy'], 'iterations': 100, 'random_seed': 20181224}\n",
      " 90%|█████████ | 90/100 [1:30:05<04:16, 25.69s/trial, best loss: -0.8718650838331689]"
     ]
    },
    {
     "name": "stderr",
     "output_type": "stream",
     "text": [
      " Warning: The least populated class in y has only 2 members, which is too few. The minimum number of members in any class cannot be less than parts count=6\n",
      "\n"
     ]
    },
    {
     "name": "stdout",
     "output_type": "stream",
     "text": [
      "evaluated score=0.8651051866477397                                                   \n",
      "evaluated 91 times                                                                   \n",
      "evaluating params={'learning_rate': 0.8468783443151766, 'depth': 2, 'l2_leaf_reg': 4.698821461821169, 'task_type': 'CPU', 'loss_function': 'MultiClass', 'eval_metric': 'Accuracy', 'custom_metric': ['Accuracy'], 'iterations': 100, 'random_seed': 20181224}\n",
      " 91%|█████████ | 91/100 [1:30:54<04:56, 32.90s/trial, best loss: -0.8718650838331689]"
     ]
    },
    {
     "name": "stderr",
     "output_type": "stream",
     "text": [
      " Warning: The least populated class in y has only 2 members, which is too few. The minimum number of members in any class cannot be less than parts count=6\n",
      "\n"
     ]
    },
    {
     "name": "stdout",
     "output_type": "stream",
     "text": [
      "evaluated score=0.8679978565616864                                                   \n",
      "evaluated 92 times                                                                   \n",
      "evaluating params={'learning_rate': 0.27819064203362553, 'depth': 4, 'l2_leaf_reg': 3.2590458182445845, 'task_type': 'CPU', 'loss_function': 'MultiClass', 'eval_metric': 'Accuracy', 'custom_metric': ['Accuracy'], 'iterations': 100, 'random_seed': 20181224}\n",
      " 92%|█████████▏| 92/100 [1:31:16<03:55, 29.43s/trial, best loss: -0.8718650838331689]"
     ]
    },
    {
     "name": "stderr",
     "output_type": "stream",
     "text": [
      " Warning: The least populated class in y has only 2 members, which is too few. The minimum number of members in any class cannot be less than parts count=6\n",
      "\n"
     ]
    },
    {
     "name": "stdout",
     "output_type": "stream",
     "text": [
      "evaluated score=0.8696097198756773                                                   \n",
      "evaluated 93 times                                                                   \n",
      "evaluating params={'learning_rate': 0.336619469173599, 'depth': 0, 'l2_leaf_reg': 8.492571995908454, 'task_type': 'CPU', 'loss_function': 'MultiClass', 'eval_metric': 'Accuracy', 'custom_metric': ['Accuracy'], 'iterations': 100, 'random_seed': 20181224}\n",
      " 93%|█████████▎| 93/100 [1:32:08<04:13, 36.25s/trial, best loss: -0.8718650838331689]"
     ]
    },
    {
     "name": "stderr",
     "output_type": "stream",
     "text": [
      " Warning: The least populated class in y has only 2 members, which is too few. The minimum number of members in any class cannot be less than parts count=6\n",
      "\n"
     ]
    },
    {
     "name": "stdout",
     "output_type": "stream",
     "text": [
      "evaluated score=0.8657462122887654                                                   \n",
      "evaluated 94 times                                                                   \n",
      "evaluating params={'learning_rate': 0.9774465156561591, 'depth': 6, 'l2_leaf_reg': 6.29380619054154, 'task_type': 'CPU', 'loss_function': 'MultiClass', 'eval_metric': 'Accuracy', 'custom_metric': ['Accuracy'], 'iterations': 100, 'random_seed': 20181224}\n",
      " 94%|█████████▍| 94/100 [1:32:15<02:45, 27.63s/trial, best loss: -0.8718650838331689]"
     ]
    },
    {
     "name": "stderr",
     "output_type": "stream",
     "text": [
      " Warning: The least populated class in y has only 2 members, which is too few. The minimum number of members in any class cannot be less than parts count=6\n",
      "\n"
     ]
    },
    {
     "name": "stdout",
     "output_type": "stream",
     "text": [
      "evaluated score=0.866716427620683                                                    \n",
      "evaluated 95 times                                                                   \n",
      "evaluating params={'learning_rate': 0.4435383649476012, 'depth': 4, 'l2_leaf_reg': 4.610889624242679, 'task_type': 'CPU', 'loss_function': 'MultiClass', 'eval_metric': 'Accuracy', 'custom_metric': ['Accuracy'], 'iterations': 100, 'random_seed': 20181224}\n",
      " 95%|█████████▌| 95/100 [1:34:29<04:57, 59.49s/trial, best loss: -0.8718650838331689]"
     ]
    },
    {
     "name": "stderr",
     "output_type": "stream",
     "text": [
      " Warning: The least populated class in y has only 2 members, which is too few. The minimum number of members in any class cannot be less than parts count=6\n",
      "\n"
     ]
    },
    {
     "name": "stdout",
     "output_type": "stream",
     "text": [
      "evaluated score=0.8699258978514298                                                   \n",
      "evaluated 96 times                                                                   \n",
      "evaluating params={'learning_rate': 0.6955909357176959, 'depth': 0, 'l2_leaf_reg': 2.5626149974883345, 'task_type': 'CPU', 'loss_function': 'MultiClass', 'eval_metric': 'Accuracy', 'custom_metric': ['Accuracy'], 'iterations': 100, 'random_seed': 20181224}\n",
      " 96%|█████████▌| 96/100 [1:35:25<03:53, 58.39s/trial, best loss: -0.8718650838331689]"
     ]
    },
    {
     "name": "stderr",
     "output_type": "stream",
     "text": [
      " Warning: The least populated class in y has only 2 members, which is too few. The minimum number of members in any class cannot be less than parts count=6\n",
      "\n"
     ]
    },
    {
     "name": "stdout",
     "output_type": "stream",
     "text": [
      "evaluated score=0.8657462122887654                                                   \n",
      "evaluated 97 times                                                                   \n",
      "evaluating params={'learning_rate': 0.9549571317042258, 'depth': 6, 'l2_leaf_reg': 3.464080726617155, 'task_type': 'CPU', 'loss_function': 'MultiClass', 'eval_metric': 'Accuracy', 'custom_metric': ['Accuracy'], 'iterations': 100, 'random_seed': 20181224}\n",
      " 97%|█████████▋| 97/100 [1:35:33<02:09, 43.21s/trial, best loss: -0.8718650838331689]"
     ]
    },
    {
     "name": "stderr",
     "output_type": "stream",
     "text": [
      " Warning: The least populated class in y has only 2 members, which is too few. The minimum number of members in any class cannot be less than parts count=6\n",
      "\n"
     ]
    },
    {
     "name": "stdout",
     "output_type": "stream",
     "text": [
      "evaluated score=0.8651051866477397                                                   \n",
      "evaluated 98 times                                                                   \n",
      "evaluating params={'learning_rate': 0.3386863672371627, 'depth': 5, 'l2_leaf_reg': 7.317425917105919, 'task_type': 'CPU', 'loss_function': 'MultiClass', 'eval_metric': 'Accuracy', 'custom_metric': ['Accuracy'], 'iterations': 100, 'random_seed': 20181224}\n",
      " 98%|█████████▊| 98/100 [1:37:47<02:20, 70.45s/trial, best loss: -0.8718650838331689]"
     ]
    },
    {
     "name": "stderr",
     "output_type": "stream",
     "text": [
      " Warning: The least populated class in y has only 2 members, which is too few. The minimum number of members in any class cannot be less than parts count=6\n",
      "\n"
     ]
    },
    {
     "name": "stdout",
     "output_type": "stream",
     "text": [
      "evaluated score=0.8702519830179406                                                   \n",
      "evaluated 99 times                                                                   \n",
      "evaluating params={'learning_rate': 0.38000967741313235, 'depth': 5, 'l2_leaf_reg': 6.768091392396658, 'task_type': 'CPU', 'loss_function': 'MultiClass', 'eval_metric': 'Accuracy', 'custom_metric': ['Accuracy'], 'iterations': 100, 'random_seed': 20181224}\n",
      " 99%|█████████▉| 99/100 [1:39:08<01:13, 73.64s/trial, best loss: -0.8718650838331689]"
     ]
    },
    {
     "name": "stderr",
     "output_type": "stream",
     "text": [
      " Warning: The least populated class in y has only 2 members, which is too few. The minimum number of members in any class cannot be less than parts count=6\n",
      "\n"
     ]
    },
    {
     "name": "stdout",
     "output_type": "stream",
     "text": [
      "evaluated score=0.8683208515655324                                                   \n",
      "evaluated 100 times                                                                  \n",
      "100%|██████████| 100/100 [1:40:32<00:00, 60.33s/trial, best loss: -0.8718650838331689]\n",
      "best params are {'depth': 6, 'l2_leaf_reg': 2.154328031548169, 'learning_rate': 0.4230800589817951, 'task_type': 'CPU', 'loss_function': 'MultiClass', 'eval_metric': 'Accuracy', 'custom_metric': ['Accuracy'], 'iterations': 100, 'random_seed': 20181224}\n",
      "CPU times: user 5h 40min 41s, sys: 5h 47min 49s, total: 11h 28min 30s\n",
      "Wall time: 1h 40min 52s\n"
     ]
    }
   ],
   "source": [
    "%%time\n",
    "# make it True if your want to use GPU for training\n",
    "have_gpu = False\n",
    "# skip hyper-parameter optimization and just use provided optimal parameters\n",
    "use_optimal_pretrained_params = False\n",
    "# number of iterations of hyper-parameter search\n",
    "hyperopt_iterations = 100\n",
    "\n",
    "const_params = dict({\n",
    "    'task_type': 'GPU' if have_gpu else 'CPU',\n",
    "    'loss_function': 'MultiClass',\n",
    "    'eval_metric': 'Accuracy', \n",
    "    'custom_metric': ['Accuracy'],\n",
    "    'iterations': 100,\n",
    "    'random_seed': 20181224})\n",
    "\n",
    "model, params = train_best_model(\n",
    "    X_train, y_train, \n",
    "    const_params, \n",
    "    max_evals=hyperopt_iterations, \n",
    "    use_default=use_optimal_pretrained_params)\n",
    "print('best params are {}'.format(params), file=sys.stdout)"
   ]
  },
  {
   "cell_type": "code",
   "execution_count": 159,
   "metadata": {},
   "outputs": [],
   "source": [
    "y_preds = model.predict(X_test)"
   ]
  },
  {
   "cell_type": "code",
   "execution_count": 160,
   "metadata": {},
   "outputs": [
    {
     "data": {
      "text/plain": [
       "0.8627450980392157"
      ]
     },
     "execution_count": 160,
     "metadata": {},
     "output_type": "execute_result"
    }
   ],
   "source": [
    "import sklearn.metrics\n",
    "accuracy = sklearn.metrics.accuracy_score(y_preds, y_test)\n",
    "accuracy"
   ]
  },
  {
   "cell_type": "markdown",
   "metadata": {},
   "source": [
    "## **As we see, our result has improved by almoist 10% - not too bad at all :)**"
   ]
  },
  {
   "cell_type": "markdown",
   "metadata": {},
   "source": [
    "### Feature importance"
   ]
  },
  {
   "cell_type": "code",
   "execution_count": 170,
   "metadata": {},
   "outputs": [],
   "source": [
    "fi = pd.DataFrame(model.get_feature_importance(type = 'FeatureImportance'), columns = ['fi'])"
   ]
  },
  {
   "cell_type": "code",
   "execution_count": 193,
   "metadata": {},
   "outputs": [],
   "source": [
    "categorical_features_indices = list(X.select_dtypes(include = ['object', 'category']))"
   ]
  },
  {
   "cell_type": "code",
   "execution_count": 211,
   "metadata": {},
   "outputs": [],
   "source": [
    "feature_score = pd.DataFrame(list(zip(X.dtypes.index, model.get_feature_importance(Pool(X_test, label=y_test, cat_features=categorical_features_indices)))),\n",
    "                columns=['Feature','Score'])\n",
    "\n",
    "feature_score = feature_score.sort_values(by='Score', ascending=False, inplace=False, kind='quicksort', na_position='last')"
   ]
  },
  {
   "cell_type": "code",
   "execution_count": 212,
   "metadata": {},
   "outputs": [
    {
     "data": {
      "text/html": [
       "<div>\n",
       "<style scoped>\n",
       "    .dataframe tbody tr th:only-of-type {\n",
       "        vertical-align: middle;\n",
       "    }\n",
       "\n",
       "    .dataframe tbody tr th {\n",
       "        vertical-align: top;\n",
       "    }\n",
       "\n",
       "    .dataframe thead th {\n",
       "        text-align: right;\n",
       "    }\n",
       "</style>\n",
       "<table border=\"1\" class=\"dataframe\">\n",
       "  <thead>\n",
       "    <tr style=\"text-align: right;\">\n",
       "      <th></th>\n",
       "      <th>Feature</th>\n",
       "      <th>Score</th>\n",
       "    </tr>\n",
       "  </thead>\n",
       "  <tbody>\n",
       "    <tr>\n",
       "      <th>4</th>\n",
       "      <td>detail1</td>\n",
       "      <td>14.762701</td>\n",
       "    </tr>\n",
       "    <tr>\n",
       "      <th>14</th>\n",
       "      <td>desc_snippet_word_counts</td>\n",
       "      <td>13.369357</td>\n",
       "    </tr>\n",
       "    <tr>\n",
       "      <th>6</th>\n",
       "      <td>detail3</td>\n",
       "      <td>7.125365</td>\n",
       "    </tr>\n",
       "    <tr>\n",
       "      <th>3</th>\n",
       "      <td>detail0</td>\n",
       "      <td>6.781009</td>\n",
       "    </tr>\n",
       "    <tr>\n",
       "      <th>5</th>\n",
       "      <td>detail2</td>\n",
       "      <td>6.557782</td>\n",
       "    </tr>\n",
       "    <tr>\n",
       "      <th>...</th>\n",
       "      <td>...</td>\n",
       "      <td>...</td>\n",
       "    </tr>\n",
       "    <tr>\n",
       "      <th>29278</th>\n",
       "      <td>370700</td>\n",
       "      <td>0.000000</td>\n",
       "    </tr>\n",
       "    <tr>\n",
       "      <th>29277</th>\n",
       "      <td>370670</td>\n",
       "      <td>0.000000</td>\n",
       "    </tr>\n",
       "    <tr>\n",
       "      <th>29276</th>\n",
       "      <td>370640</td>\n",
       "      <td>0.000000</td>\n",
       "    </tr>\n",
       "    <tr>\n",
       "      <th>29275</th>\n",
       "      <td>370620</td>\n",
       "      <td>0.000000</td>\n",
       "    </tr>\n",
       "    <tr>\n",
       "      <th>87487</th>\n",
       "      <td>플레이하십시오</td>\n",
       "      <td>0.000000</td>\n",
       "    </tr>\n",
       "  </tbody>\n",
       "</table>\n",
       "<p>87488 rows × 2 columns</p>\n",
       "</div>"
      ],
      "text/plain": [
       "                        Feature      Score\n",
       "4                       detail1  14.762701\n",
       "14     desc_snippet_word_counts  13.369357\n",
       "6                       detail3   7.125365\n",
       "3                       detail0   6.781009\n",
       "5                       detail2   6.557782\n",
       "...                         ...        ...\n",
       "29278                    370700   0.000000\n",
       "29277                    370670   0.000000\n",
       "29276                    370640   0.000000\n",
       "29275                    370620   0.000000\n",
       "87487                   플레이하십시오   0.000000\n",
       "\n",
       "[87488 rows x 2 columns]"
      ]
     },
     "execution_count": 212,
     "metadata": {},
     "output_type": "execute_result"
    }
   ],
   "source": [
    "feature_score"
   ]
  },
  {
   "cell_type": "code",
   "execution_count": 213,
   "metadata": {},
   "outputs": [
    {
     "data": {
      "image/png": "[encoded data removed]",
      "text/plain": [
       "<Figure size 864x504 with 1 Axes>"
      ]
     },
     "metadata": {
      "needs_background": "light"
     },
     "output_type": "display_data"
    }
   ],
   "source": [
    "plt.rcParams[\"figure.figsize\"] = (12,7)\n",
    "ax = feature_score[:10].plot('Feature', 'Score', kind='bar', color='c')\n",
    "ax.set_title(\"Catboost Feature Importance Ranking\", fontsize = 14)\n",
    "ax.set_xlabel('')\n",
    "\n",
    "rects = ax.patches\n",
    "\n",
    "labels = feature_score['Score'].round(2)\n",
    "\n",
    "for rect, label in zip(rects, labels):\n",
    "    height = rect.get_height()\n",
    "    ax.text(rect.get_x() + rect.get_width()/2, height + 0.35, label, ha='center', va='bottom')\n",
    "\n",
    "plt.show()"
   ]
  },
  {
   "cell_type": "markdown",
   "metadata": {},
   "source": [
    "It seems, that at least 2 of our basic text features actually helped to improve the result - that's a bit of a surprise for me, I was hoping for some of TfIdf to be in top"
   ]
  },
  {
   "cell_type": "markdown",
   "metadata": {},
   "source": [
    "# Conclusion\n",
    "In this part 2 we have worked mainly with text data:\n",
    "\n",
    "1. Performed basic text tarsnformation\n",
    "2. Generated basic features\n",
    "3. Genrated advanced TfIdf advanced features\n",
    "4. Rerun the moodel, analysed teh results and saw which new features contributed to the accuracy improvement\n",
    "5. As a separate task, we performed topic extraction using TfIdf and NMF and LDA\n",
    "\n",
    "Stay tuned for **part 3**, where we will try to build recommendation system (finally!) or fail trying :)"
   ]
  },
  {
   "cell_type": "code",
   "execution_count": null,
   "metadata": {},
   "outputs": [],
   "source": []
  },
  {
   "cell_type": "code",
   "execution_count": null,
   "metadata": {},
   "outputs": [],
   "source": []
  },
  {
   "cell_type": "code",
   "execution_count": null,
   "metadata": {},
   "outputs": [],
   "source": []
  },
  {
   "cell_type": "code",
   "execution_count": null,
   "metadata": {},
   "outputs": [],
   "source": []
  },
  {
   "cell_type": "code",
   "execution_count": null,
   "metadata": {},
   "outputs": [],
   "source": []
  },
  {
   "cell_type": "code",
   "execution_count": null,
   "metadata": {},
   "outputs": [],
   "source": []
  },
  {
   "cell_type": "code",
   "execution_count": null,
   "metadata": {},
   "outputs": [],
   "source": []
  },
  {
   "cell_type": "code",
   "execution_count": null,
   "metadata": {},
   "outputs": [],
   "source": []
  },
  {
   "cell_type": "code",
   "execution_count": null,
   "metadata": {},
   "outputs": [],
   "source": []
  },
  {
   "cell_type": "code",
   "execution_count": null,
   "metadata": {},
   "outputs": [],
   "source": []
  },
  {
   "cell_type": "code",
   "execution_count": null,
   "metadata": {},
   "outputs": [],
   "source": []
  },
  {
   "cell_type": "code",
   "execution_count": null,
   "metadata": {},
   "outputs": [],
   "source": []
  },
  {
   "cell_type": "code",
   "execution_count": null,
   "metadata": {},
   "outputs": [],
   "source": []
  },
  {
   "cell_type": "code",
   "execution_count": null,
   "metadata": {},
   "outputs": [],
   "source": []
  },
  {
   "cell_type": "code",
   "execution_count": null,
   "metadata": {},
   "outputs": [],
   "source": []
  },
  {
   "cell_type": "code",
   "execution_count": null,
   "metadata": {},
   "outputs": [],
   "source": [
    "## retrain model"
   ]
  },
  {
   "cell_type": "code",
   "execution_count": null,
   "metadata": {},
   "outputs": [],
   "source": []
  }
 ],
 "metadata": {
  "kernelspec": {
   "display_name": "Python 3",
   "language": "python",
   "name": "python3"
  },
  "language_info": {
   "codemirror_mode": {
    "name": "ipython",
    "version": 3
   },
   "file_extension": ".py",
   "mimetype": "text/x-python",
   "name": "python",
   "nbconvert_exporter": "python",
   "pygments_lexer": "ipython3",
   "version": "3.7.6"
  }
 },
 "nbformat": 4,
 "nbformat_minor": 4
}
